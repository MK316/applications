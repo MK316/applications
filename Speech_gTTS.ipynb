{
  "nbformat": 4,
  "nbformat_minor": 0,
  "metadata": {
    "colab": {
      "name": "Speech_gTTS.ipynb",
      "provenance": [],
      "include_colab_link": true
    },
    "kernelspec": {
      "name": "python3",
      "display_name": "Python 3"
    },
    "language_info": {
      "name": "python"
    }
  },
  "cells": [
    {
      "cell_type": "markdown",
      "metadata": {
        "id": "view-in-github",
        "colab_type": "text"
      },
      "source": [
        "<a href=\"https://colab.research.google.com/github/MK316/applications/blob/main/Speech_gTTS.ipynb\" target=\"_parent\"><img src=\"https://colab.research.google.com/assets/colab-badge.svg\" alt=\"Open In Colab\"/></a>"
      ]
    },
    {
      "cell_type": "markdown",
      "source": [
        "# Topic [1]: Text-to-Speech using gTTS\n",
        "## Learning source: [Video](\"https://youtu.be/ngYRYMoIGu8\") [5m45s]\n",
        "---"
      ],
      "metadata": {
        "id": "sboFjhDnS_cX"
      }
    },
    {
      "cell_type": "code",
      "source": [
        "#@markdown Step ⓿ {gTTS} package installation and import\n",
        "!pip install gTTS\n",
        "from gtts import gTTS\n",
        "from IPython.display import Audio"
      ],
      "metadata": {
        "cellView": "form",
        "id": "o4po9V_zTIOX"
      },
      "execution_count": null,
      "outputs": []
    },
    {
      "cell_type": "markdown",
      "source": [
        "## Type text, create audio file and save it as a wav file.\n",
        "\n",
        "See [Languages supported in gTTS](\"https://gtts.readthedocs.io/en/latest/module.html#languages-gtts-lang\")"
      ],
      "metadata": {
        "id": "k3ct8TdFXHLX"
      }
    },
    {
      "cell_type": "code",
      "source": [
        "#@markdown Step ⓵ Type text to say\n",
        "text_to_say = input()"
      ],
      "metadata": {
        "colab": {
          "base_uri": "https://localhost:8080/"
        },
        "cellView": "form",
        "id": "KnhHobUbTz2A",
        "outputId": "a9ea7cb2-990e-4856-b623-66c1f5b25c98"
      },
      "execution_count": 12,
      "outputs": [
        {
          "name": "stdout",
          "output_type": "stream",
          "text": [
            "Is Mary here today?\n"
          ]
        }
      ]
    },
    {
      "cell_type": "code",
      "source": [
        "#@markdown Step ⓶ Language setting (english)\n",
        "# language = \"en\"\n",
        "# gtts_object = gTTS(text = text_to_say,\n",
        "#                    lang = language,\n",
        "#                    slow = False)\n",
        "\n",
        "\n",
        "language_to_choose =\"en\" #@param [\"en\", \"fr\",\"ko\",'es']\n",
        "lang = language_to_choose\n",
        "\n",
        "print(\"Play language accent: %s\"%lang)\n",
        "language = lang\n",
        "gtts_object = gTTS(text = text_to_say,\n",
        "                   lang = language,\n",
        "                   slow = False)"
      ],
      "metadata": {
        "cellView": "form",
        "id": "jYjQmhx_Emw9",
        "colab": {
          "base_uri": "https://localhost:8080/",
          "height": 93
        },
        "outputId": "c25b42d4-7be2-4010-da45-a3842deca947"
      },
      "execution_count": 14,
      "outputs": [
        {
          "output_type": "stream",
          "name": "stdout",
          "text": [
            "Play language accent: en\n"
          ]
        },
        {
          "output_type": "execute_result",
          "data": {
            "text/plain": [
              "<IPython.lib.display.Audio object>"
            ],
            "text/html": [
              "\n",
              "                <audio controls=\"controls\" >\n",
              "                    <source src=\"data:audio/x-wav;base64,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\" type=\"audio/x-wav\" />\n",
              "                    Your browser does not support the audio element.\n",
              "                </audio>\n",
              "              "
            ]
          },
          "metadata": {},
          "execution_count": 14
        }
      ]
    },
    {
      "cell_type": "code",
      "source": [
        "#@markdown Step ③: Create the audio file (.wav) to play:\n",
        "gtts_object.save(\"/content/gtts_\"+lang+\".wav\")\n",
        "\n",
        "Audio(\"/content/gtts_\"+lang+\".wav\")"
      ],
      "metadata": {
        "colab": {
          "base_uri": "https://localhost:8080/",
          "height": 75
        },
        "id": "p20Opl66EWH_",
        "outputId": "dc9502d5-c62c-4b09-baef-37f9334999a1"
      },
      "execution_count": 15,
      "outputs": [
        {
          "output_type": "execute_result",
          "data": {
            "text/plain": [
              "<IPython.lib.display.Audio object>"
            ],
            "text/html": [
              "\n",
              "                <audio controls=\"controls\" >\n",
              "                    <source src=\"data:audio/x-wav;base64,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\" type=\"audio/x-wav\" />\n",
              "                    Your browser does not support the audio element.\n",
              "                </audio>\n",
              "              "
            ]
          },
          "metadata": {},
          "execution_count": 15
        }
      ]
    },
    {
      "cell_type": "markdown",
      "source": [
        "---\n",
        "\n",
        "#Topic [2]: Speech recognition test using [speechnotes.co](\"https://speechnotes.co\")\n",
        "\n",
        "Below is a sample test comparing four accented speeches with the same text."
      ],
      "metadata": {
        "id": "FqvbEbtwcAA_"
      }
    },
    {
      "cell_type": "markdown",
      "source": [
        "![picture](https://user-images.githubusercontent.com/99416359/168414644-63595064-704a-447a-a4e8-aa00917fff75.png)\n",
        "\n"
      ],
      "metadata": {
        "id": "4DkI3z6FgpYa"
      }
    },
    {
      "cell_type": "code",
      "source": [
        "#@markdown \n",
        "module_handle = \"https://tfhub.dev/google/openimages_v4/ssd/mobilenet_v2/1\" #@param [\"https://tfhub.dev/google/openimages_v4/ssd/mobilenet_v2/1\", \"https://tfhub.dev/google/faster_rcnn/openimages_v4/inception_resnet_v2/1\"]"
      ],
      "metadata": {
        "id": "IzN7ix2ZgeoB"
      },
      "execution_count": null,
      "outputs": []
    },
    {
      "cell_type": "code",
      "source": [
        "#@markdown\n",
        "\n",
        "text_to_say =\"Test2\" #@param [\"Test1\",\"Test2\"]"
      ],
      "metadata": {
        "id": "bInFtYhvhBZ2"
      },
      "execution_count": null,
      "outputs": []
    }
  ]
}