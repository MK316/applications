{
  "nbformat": 4,
  "nbformat_minor": 0,
  "metadata": {
    "colab": {
      "name": "Speech_gTTS.ipynb",
      "provenance": [],
      "authorship_tag": "ABX9TyO/ygJaDKU0dLP8kQ8sTeEG",
      "include_colab_link": true
    },
    "kernelspec": {
      "name": "python3",
      "display_name": "Python 3"
    },
    "language_info": {
      "name": "python"
    }
  },
  "cells": [
    {
      "cell_type": "markdown",
      "metadata": {
        "id": "view-in-github",
        "colab_type": "text"
      },
      "source": [
        "<a href=\"https://colab.research.google.com/github/MK316/applications/blob/main/Speech_gTTS.ipynb\" target=\"_parent\"><img src=\"https://colab.research.google.com/assets/colab-badge.svg\" alt=\"Open In Colab\"/></a>"
      ]
    },
    {
      "cell_type": "markdown",
      "source": [
        "# Topic [1]: Text-to-Speech using gTTS\n",
        "## Learning source: [Video](\"https://youtu.be/ngYRYMoIGu8\") [5m45s]\n",
        "---"
      ],
      "metadata": {
        "id": "sboFjhDnS_cX"
      }
    },
    {
      "cell_type": "code",
      "source": [
        "#@markdown Step ⓿ {gTTS} package installation and import\n",
        "!pip install gTTS\n",
        "from gtts import gTTS\n",
        "from IPython.display import Audio"
      ],
      "metadata": {
        "cellView": "form",
        "id": "o4po9V_zTIOX"
      },
      "execution_count": null,
      "outputs": []
    },
    {
      "cell_type": "markdown",
      "source": [
        "## Text object & save the output as a wav file\n",
        "\n",
        "See [Languages supported in gTTS](\"https://gtts.readthedocs.io/en/latest/module.html#languages-gtts-lang\")"
      ],
      "metadata": {
        "id": "k3ct8TdFXHLX"
      }
    },
    {
      "cell_type": "code",
      "source": [
        "#@markdown Step ⓵ Type text to say\n",
        "text_to_say = input()"
      ],
      "metadata": {
        "colab": {
          "base_uri": "https://localhost:8080/"
        },
        "cellView": "form",
        "id": "KnhHobUbTz2A",
        "outputId": "3aed31f1-4122-4683-c95f-adb54b531ced"
      },
      "execution_count": 53,
      "outputs": [
        {
          "name": "stdout",
          "output_type": "stream",
          "text": [
            "This is a sample read by gTTS.\n"
          ]
        }
      ]
    },
    {
      "cell_type": "code",
      "source": [
        "#@markdown Step ⓶ Language setting (english)\n",
        "language = \"en\"\n",
        "gtts_object = gTTS(text = text_to_say,\n",
        "                   lang = language,\n",
        "                   slow = False)"
      ],
      "metadata": {
        "cellView": "form",
        "id": "jYjQmhx_Emw9"
      },
      "execution_count": 54,
      "outputs": []
    },
    {
      "cell_type": "code",
      "source": [
        "#@markdown Step ⓷ Create audio file and save it on colab\n",
        "gtts_object.save(\"/content/gtts_en.wav\")"
      ],
      "metadata": {
        "cellView": "form",
        "id": "g_slHsV1EtLd"
      },
      "execution_count": 55,
      "outputs": []
    },
    {
      "cell_type": "code",
      "source": [
        "#@markdown STep ⓸ Press the audio button to play:\n",
        "print(\"Language (English): %s\"%text_to_say)\n",
        "Audio(\"/content/gtts_en.wav\")"
      ],
      "metadata": {
        "colab": {
          "base_uri": "https://localhost:8080/",
          "height": 92
        },
        "id": "GXThzbMLVW87",
        "outputId": "ed9b71b6-3995-4214-a09d-2840fa9e845c"
      },
      "execution_count": 56,
      "outputs": [
        {
          "output_type": "stream",
          "name": "stdout",
          "text": [
            "Language (English): This is a sample read by gTTS.\n"
          ]
        },
        {
          "output_type": "execute_result",
          "data": {
            "text/plain": [
              "<IPython.lib.display.Audio object>"
            ],
            "text/html": [
              "\n",
              "                <audio controls=\"controls\" >\n",
              "                    <source src=\"data:audio/x-wav;base64,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\" type=\"audio/x-wav\" />\n",
              "                    Your browser does not support the audio element.\n",
              "                </audio>\n",
              "              "
            ]
          },
          "metadata": {},
          "execution_count": 56
        }
      ]
    },
    {
      "cell_type": "markdown",
      "source": [
        "---\n",
        "# Topic [2]: Try accented English: e.g., French, Korean, German, etc.\n",
        "By choosing different language optioins in gTTS\n",
        "\n",
        "---"
      ],
      "metadata": {
        "id": "xfPRf35EXooJ"
      }
    },
    {
      "cell_type": "code",
      "source": [
        "#@markdown ▶ Available languages: French (fr), Korean (ko), Spanish (es)\n",
        "\n",
        "language_to_choose =\"ko\" #@param [\"fr\",\"ko\",'es']\n",
        "lang = language_to_choose\n",
        "\n",
        "print(\"Play language accent: %s\"%lang)\n",
        "language = lang\n",
        "gtts_object = gTTS(text = text_to_say,\n",
        "                   lang = language,\n",
        "                   slow = False)\n",
        "\n",
        "gtts_object.save(\"/content/gtts_\"+lang+\".wav\")\n",
        "\n",
        "Audio(\"/content/gtts_\"+lang+\".wav\")"
      ],
      "metadata": {
        "colab": {
          "base_uri": "https://localhost:8080/",
          "height": 92
        },
        "cellView": "form",
        "id": "dQcUDfGnhi8R",
        "outputId": "bdba00ca-14f3-4c3f-9ff4-347d7f4889bc"
      },
      "execution_count": 59,
      "outputs": [
        {
          "output_type": "stream",
          "name": "stdout",
          "text": [
            "Play language accent: ko\n"
          ]
        },
        {
          "output_type": "execute_result",
          "data": {
            "text/plain": [
              "<IPython.lib.display.Audio object>"
            ],
            "text/html": [
              "\n",
              "                <audio controls=\"controls\" >\n",
              "                    <source src=\"data:audio/x-wav;base64,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\" type=\"audio/x-wav\" />\n",
              "                    Your browser does not support the audio element.\n",
              "                </audio>\n",
              "              "
            ]
          },
          "metadata": {},
          "execution_count": 59
        }
      ]
    },
    {
      "cell_type": "markdown",
      "source": [
        "---\n",
        "\n",
        "#Topic [3]: Speech recognition test using [speechnotes.co](\"https://speechnotes.co\")"
      ],
      "metadata": {
        "id": "FqvbEbtwcAA_"
      }
    },
    {
      "cell_type": "markdown",
      "source": [
        "![picture](https://user-images.githubusercontent.com/99416359/168414644-63595064-704a-447a-a4e8-aa00917fff75.png)\n",
        "\n"
      ],
      "metadata": {
        "id": "4DkI3z6FgpYa"
      }
    },
    {
      "cell_type": "code",
      "source": [
        "#@markdown \n",
        "module_handle = \"https://tfhub.dev/google/openimages_v4/ssd/mobilenet_v2/1\" #@param [\"https://tfhub.dev/google/openimages_v4/ssd/mobilenet_v2/1\", \"https://tfhub.dev/google/faster_rcnn/openimages_v4/inception_resnet_v2/1\"]"
      ],
      "metadata": {
        "id": "IzN7ix2ZgeoB"
      },
      "execution_count": null,
      "outputs": []
    },
    {
      "cell_type": "code",
      "source": [
        "#@markdown\n",
        "\n",
        "text_to_say =\"Test2\" #@param [\"Test1\",\"Test2\"]"
      ],
      "metadata": {
        "id": "bInFtYhvhBZ2"
      },
      "execution_count": null,
      "outputs": []
    }
  ]
}