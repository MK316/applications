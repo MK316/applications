{
  "nbformat": 4,
  "nbformat_minor": 0,
  "metadata": {
    "colab": {
      "name": "Speech_gTTS.ipynb",
      "provenance": [],
      "include_colab_link": true
    },
    "kernelspec": {
      "name": "python3",
      "display_name": "Python 3"
    },
    "language_info": {
      "name": "python"
    }
  },
  "cells": [
    {
      "cell_type": "markdown",
      "metadata": {
        "id": "view-in-github",
        "colab_type": "text"
      },
      "source": [
        "<a href=\"https://colab.research.google.com/github/MK316/applications/blob/main/Speech_gTTS.ipynb\" target=\"_parent\"><img src=\"https://colab.research.google.com/assets/colab-badge.svg\" alt=\"Open In Colab\"/></a>"
      ]
    },
    {
      "cell_type": "markdown",
      "source": [
        "# Topic [1]: Text-to-Speech using gTTS\n",
        "## Learning source: [Video](\"https://youtu.be/ngYRYMoIGu8\") [5m45s]\n",
        "---"
      ],
      "metadata": {
        "id": "sboFjhDnS_cX"
      }
    },
    {
      "cell_type": "code",
      "source": [
        "#@markdown 🚩 Step ⓿ {gTTS} package installation and import\n",
        "!pip install gTTS\n",
        "from gtts import gTTS\n",
        "from IPython.display import Audio"
      ],
      "metadata": {
        "cellView": "form",
        "id": "o4po9V_zTIOX",
        "outputId": "e5498edc-e8dc-49ac-a5ad-9c2b808a00ca",
        "colab": {
          "base_uri": "https://localhost:8080/"
        }
      },
      "execution_count": 1,
      "outputs": [
        {
          "output_type": "stream",
          "name": "stdout",
          "text": [
            "Collecting gTTS\n",
            "  Downloading gTTS-2.2.4-py3-none-any.whl (26 kB)\n",
            "Requirement already satisfied: click in /usr/local/lib/python3.7/dist-packages (from gTTS) (7.1.2)\n",
            "Requirement already satisfied: six in /usr/local/lib/python3.7/dist-packages (from gTTS) (1.15.0)\n",
            "Requirement already satisfied: requests in /usr/local/lib/python3.7/dist-packages (from gTTS) (2.23.0)\n",
            "Requirement already satisfied: certifi>=2017.4.17 in /usr/local/lib/python3.7/dist-packages (from requests->gTTS) (2021.10.8)\n",
            "Requirement already satisfied: chardet<4,>=3.0.2 in /usr/local/lib/python3.7/dist-packages (from requests->gTTS) (3.0.4)\n",
            "Requirement already satisfied: idna<3,>=2.5 in /usr/local/lib/python3.7/dist-packages (from requests->gTTS) (2.10)\n",
            "Requirement already satisfied: urllib3!=1.25.0,!=1.25.1,<1.26,>=1.21.1 in /usr/local/lib/python3.7/dist-packages (from requests->gTTS) (1.24.3)\n",
            "Installing collected packages: gTTS\n",
            "Successfully installed gTTS-2.2.4\n"
          ]
        }
      ]
    },
    {
      "cell_type": "markdown",
      "source": [
        "## Type text, create audio file and save it as a wav file.\n",
        "\n",
        "See [Languages supported in gTTS](\"https://gtts.readthedocs.io/en/latest/module.html#languages-gtts-lang\")"
      ],
      "metadata": {
        "id": "k3ct8TdFXHLX"
      }
    },
    {
      "cell_type": "markdown",
      "source": [
        "e.g., Raise your hands if you've ever been asked to question what do you want to be when you grow up."
      ],
      "metadata": {
        "id": "5xCB7dZadeUR"
      }
    },
    {
      "cell_type": "code",
      "source": [
        "#@markdown Step ⓵ Type text to say\n",
        "text_to_say = input()"
      ],
      "metadata": {
        "colab": {
          "base_uri": "https://localhost:8080/"
        },
        "cellView": "form",
        "id": "KnhHobUbTz2A",
        "outputId": "9082ed8e-7ad4-4ffa-9be6-be73a7d0ed7f"
      },
      "execution_count": 2,
      "outputs": [
        {
          "name": "stdout",
          "output_type": "stream",
          "text": [
            "Raise your hands if you've ever been asked to question what do you want to be when you grow up\n"
          ]
        }
      ]
    },
    {
      "cell_type": "code",
      "source": [
        "#@markdown Step ⓶ Language setting (english)\n",
        "# language = \"en\"\n",
        "# gtts_object = gTTS(text = text_to_say,\n",
        "#                    lang = language,\n",
        "#                    slow = False)\n",
        "\n",
        "\n",
        "language_to_choose =\"en\" #@param [\"en\", \"fr\",\"ko\",'es']\n",
        "lang = language_to_choose\n",
        "\n",
        "print(\"Play language accent: %s\"%lang)\n",
        "language = lang\n",
        "gtts_object = gTTS(text = text_to_say,\n",
        "                   lang = language,\n",
        "                   slow = False)"
      ],
      "metadata": {
        "cellView": "form",
        "id": "jYjQmhx_Emw9",
        "colab": {
          "base_uri": "https://localhost:8080/"
        },
        "outputId": "76f80637-d533-449c-82dd-a81d63674fed"
      },
      "execution_count": 3,
      "outputs": [
        {
          "output_type": "stream",
          "name": "stdout",
          "text": [
            "Play language accent: en\n"
          ]
        }
      ]
    },
    {
      "cell_type": "code",
      "source": [
        "#@markdown Step ③: Create the audio file (.wav) to play:\n",
        "gtts_object.save(\"/content/gtts_\"+lang+\".wav\")\n",
        "\n",
        "Audio(\"/content/gtts_\"+lang+\".wav\")"
      ],
      "metadata": {
        "colab": {
          "base_uri": "https://localhost:8080/",
          "height": 75
        },
        "cellView": "form",
        "id": "p20Opl66EWH_",
        "outputId": "e0afd1a4-ee10-46e7-b98b-3b26bc50a6f5"
      },
      "execution_count": 4,
      "outputs": [
        {
          "output_type": "execute_result",
          "data": {
            "text/plain": [
              "<IPython.lib.display.Audio object>"
            ],
            "text/html": [
              "\n",
              "                <audio controls=\"controls\" >\n",
              "                    <source src=\"data:audio/x-wav;base64,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\" type=\"audio/x-wav\" />\n",
              "                    Your browser does not support the audio element.\n",
              "                </audio>\n",
              "              "
            ]
          },
          "metadata": {},
          "execution_count": 4
        }
      ]
    },
    {
      "cell_type": "markdown",
      "source": [
        ""
      ],
      "metadata": {
        "id": "h4z6PRnpFup8"
      }
    },
    {
      "cell_type": "markdown",
      "source": [
        "---\n",
        "\n",
        "#Topic [2]: Speech recognition test using [speechnotes.co](\"https://speechnotes.co\")\n",
        "\n",
        "Below is a sample test comparing four accented speeches with the same text.\n",
        "\n",
        "Or you can play the audio while Speechnotes microphone is ON. [At least notebook works.] (?)"
      ],
      "metadata": {
        "id": "FqvbEbtwcAA_"
      }
    },
    {
      "cell_type": "markdown",
      "source": [
        "![picture](https://user-images.githubusercontent.com/99416359/168414644-63595064-704a-447a-a4e8-aa00917fff75.png)\n",
        "\n"
      ],
      "metadata": {
        "id": "4DkI3z6FgpYa"
      }
    },
    {
      "cell_type": "code",
      "source": [
        "#@markdown \n",
        "module_handle = \"https://tfhub.dev/google/openimages_v4/ssd/mobilenet_v2/1\" #@param [\"https://tfhub.dev/google/openimages_v4/ssd/mobilenet_v2/1\", \"https://tfhub.dev/google/faster_rcnn/openimages_v4/inception_resnet_v2/1\"]"
      ],
      "metadata": {
        "id": "IzN7ix2ZgeoB"
      },
      "execution_count": null,
      "outputs": []
    },
    {
      "cell_type": "code",
      "source": [
        "#@markdown\n",
        "\n",
        "text_to_say =\"Test2\" #@param [\"Test1\",\"Test2\"]"
      ],
      "metadata": {
        "id": "bInFtYhvhBZ2"
      },
      "execution_count": null,
      "outputs": []
    }
  ]
}