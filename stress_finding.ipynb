{
  "nbformat": 4,
  "nbformat_minor": 0,
  "metadata": {
    "colab": {
      "name": "stress_finding.ipynb",
      "provenance": [],
      "authorship_tag": "ABX9TyN3Wqd0AIMaEgn9id77vwxV",
      "include_colab_link": true
    },
    "kernelspec": {
      "name": "python3",
      "display_name": "Python 3"
    },
    "language_info": {
      "name": "python"
    }
  },
  "cells": [
    {
      "cell_type": "markdown",
      "metadata": {
        "id": "view-in-github",
        "colab_type": "text"
      },
      "source": [
        "<a href=\"https://colab.research.google.com/github/MK316/applications/blob/main/stress_finding.ipynb\" target=\"_parent\"><img src=\"https://colab.research.google.com/assets/colab-badge.svg\" alt=\"Open In Colab\"/></a>"
      ]
    },
    {
      "cell_type": "code",
      "execution_count": null,
      "metadata": {
        "id": "IHGR5FIgGWhA"
      },
      "outputs": [],
      "source": [
        "%%capture\n",
        "!pip install cmudict\n",
        "!pip install pronouncing\n",
        "\n",
        "import cmudict\n",
        "import pronouncing"
      ]
    },
    {
      "cell_type": "markdown",
      "source": [
        "#**[5] Finding words with the same stress placement**\n",
        "\n"
      ],
      "metadata": {
        "id": "aTrUzW6C7f-k"
      }
    },
    {
      "cell_type": "code",
      "source": [
        "stress1 = \"10\"\n",
        "entries = cmudict.entries()[:10][0][0]\n",
        "\n",
        "for w in entries:\n",
        "  phones = pronouncing.phones_for_word(w)\n",
        "  if pronouncing.syllable_count(phones[0])[0] == stress1:\n",
        "    print(w)\n",
        "\n",
        "    pronouncing.stresses_for_word('acquisition')"
      ],
      "metadata": {
        "id": "4rj6-FLT7n_-",
        "outputId": "dd82e71b-0715-4398-8a40-27db05c7d70a",
        "colab": {
          "base_uri": "https://localhost:8080/",
          "height": 240
        }
      },
      "execution_count": null,
      "outputs": [
        {
          "output_type": "error",
          "ename": "IndexError",
          "evalue": "ignored",
          "traceback": [
            "\u001b[0;31m---------------------------------------------------------------------------\u001b[0m",
            "\u001b[0;31mIndexError\u001b[0m                                Traceback (most recent call last)",
            "\u001b[0;32m<ipython-input-102-c110bd929095>\u001b[0m in \u001b[0;36m<module>\u001b[0;34m()\u001b[0m\n\u001b[1;32m      4\u001b[0m \u001b[0;32mfor\u001b[0m \u001b[0mw\u001b[0m \u001b[0;32min\u001b[0m \u001b[0mentries\u001b[0m\u001b[0;34m:\u001b[0m\u001b[0;34m\u001b[0m\u001b[0;34m\u001b[0m\u001b[0m\n\u001b[1;32m      5\u001b[0m   \u001b[0mphones\u001b[0m \u001b[0;34m=\u001b[0m \u001b[0mpronouncing\u001b[0m\u001b[0;34m.\u001b[0m\u001b[0mphones_for_word\u001b[0m\u001b[0;34m(\u001b[0m\u001b[0mw\u001b[0m\u001b[0;34m)\u001b[0m\u001b[0;34m\u001b[0m\u001b[0;34m\u001b[0m\u001b[0m\n\u001b[0;32m----> 6\u001b[0;31m   \u001b[0;32mif\u001b[0m \u001b[0;34m(\u001b[0m\u001b[0mpronouncing\u001b[0m\u001b[0;34m.\u001b[0m\u001b[0msyllable_count\u001b[0m\u001b[0;34m(\u001b[0m\u001b[0mphones\u001b[0m\u001b[0;34m[\u001b[0m\u001b[0;36m0\u001b[0m\u001b[0;34m]\u001b[0m\u001b[0;34m)\u001b[0m\u001b[0;34m)\u001b[0m\u001b[0;34m[\u001b[0m\u001b[0;36m0\u001b[0m\u001b[0;34m]\u001b[0m \u001b[0;34m==\u001b[0m \u001b[0mstress1\u001b[0m\u001b[0;34m:\u001b[0m\u001b[0;34m\u001b[0m\u001b[0;34m\u001b[0m\u001b[0m\n\u001b[0m\u001b[1;32m      7\u001b[0m     \u001b[0mprint\u001b[0m\u001b[0;34m(\u001b[0m\u001b[0mw\u001b[0m\u001b[0;34m)\u001b[0m\u001b[0;34m\u001b[0m\u001b[0;34m\u001b[0m\u001b[0m\n\u001b[1;32m      8\u001b[0m \u001b[0;34m\u001b[0m\u001b[0m\n",
            "\u001b[0;31mIndexError\u001b[0m: list index out of range"
          ]
        }
      ]
    },
    {
      "cell_type": "code",
      "source": [
        "example = input()\n",
        "entries = cmudict.entries()[:10][0][0]\n",
        "\n",
        "phones = pronouncing.phones_for_word(example)\n",
        "n = pronouncing.syllable_count(phones[0])\n",
        "s = pronouncing.stresses_for_word(example)\n",
        "\n",
        "for w in entries:\n",
        "  \n",
        "\n"
      ],
      "metadata": {
        "id": "hnqUClQDATEd",
        "outputId": "f220e037-dbf2-48d4-bd0d-bead5b92e00e",
        "colab": {
          "base_uri": "https://localhost:8080/"
        }
      },
      "execution_count": null,
      "outputs": [
        {
          "output_type": "stream",
          "name": "stdout",
          "text": [
            "example\n",
            "3 010\n"
          ]
        },
        {
          "output_type": "execute_result",
          "data": {
            "text/plain": [
              "str"
            ]
          },
          "metadata": {},
          "execution_count": 101
        }
      ]
    },
    {
      "cell_type": "code",
      "source": [
        "phones = pronouncing.phones_for_word(\"example\")\n",
        "phone = str(split_phones)\n",
        "# type(split_phones)\n",
        "# print(phones[0])\n",
        "# len(phones)\n",
        "\n",
        "phon = phones[0].split(\" \")\n",
        "result = [p for p in phon if p == 'AE1']\n",
        "result"
      ],
      "metadata": {
        "id": "aO6AeC2S99rs",
        "outputId": "c0d57df1-18cc-4d86-eb83-9a09ed71174b",
        "colab": {
          "base_uri": "https://localhost:8080/"
        }
      },
      "execution_count": null,
      "outputs": [
        {
          "output_type": "execute_result",
          "data": {
            "text/plain": [
              "['AE1']"
            ]
          },
          "metadata": {},
          "execution_count": 145
        }
      ]
    }
  ]
}