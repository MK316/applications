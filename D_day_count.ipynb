{
  "nbformat": 4,
  "nbformat_minor": 0,
  "metadata": {
    "colab": {
      "provenance": [],
      "authorship_tag": "ABX9TyON/NfI53wolarEGEK9Nvrw",
      "include_colab_link": true
    },
    "kernelspec": {
      "name": "python3",
      "display_name": "Python 3"
    },
    "language_info": {
      "name": "python"
    }
  },
  "cells": [
    {
      "cell_type": "markdown",
      "metadata": {
        "id": "view-in-github",
        "colab_type": "text"
      },
      "source": [
        "<a href=\"https://colab.research.google.com/github/MK316/applications/blob/main/D_day_count.ipynb\" target=\"_parent\"><img src=\"https://colab.research.google.com/assets/colab-badge.svg\" alt=\"Open In Colab\"/></a>"
      ]
    },
    {
      "cell_type": "markdown",
      "source": [
        "# 📆 **Countdown Timer: Number of days left until the event**"
      ],
      "metadata": {
        "id": "9-yEydAfNsaH"
      }
    },
    {
      "cell_type": "markdown",
      "source": [
        "# [1] Days left:"
      ],
      "metadata": {
        "id": "vFsH_evTOJhS"
      }
    },
    {
      "cell_type": "code",
      "source": [
        "#@markdown MMDDYYYY format\n",
        "from datetime import datetime\n",
        "\n",
        "# Get the current date from the user\n",
        "access_date_str = input(\"Enter the current date (in MMDDYYYY format): \")\n",
        "access_date = datetime.strptime(access_date_str, \"%m%d%Y\")\n",
        "\n",
        "# Get the event date from the user\n",
        "event_date_str = input(\"Enter the event date (in MMDDYYYY format): \")\n",
        "event_date = datetime.strptime(event_date_str, \"%m%d%Y\")\n",
        "\n",
        "# Calculate the number of days until the event\n",
        "days_remaining = (event_date - access_date).days\n",
        "\n",
        "# Display the number of days remaining\n",
        "print(f\"There are {days_remaining} days until the event.\")\n"
      ],
      "metadata": {
        "cellView": "form",
        "id": "uhJuj_eFZqu2",
        "outputId": "74829f6a-8056-4ee1-d48f-7a21f8c8c15c",
        "colab": {
          "base_uri": "https://localhost:8080/"
        }
      },
      "execution_count": 2,
      "outputs": [
        {
          "output_type": "stream",
          "name": "stdout",
          "text": [
            "Enter the current date (in MMDDYYYY format): 05232023\n",
            "Enter the event date (in MMDDYYYY format): 11232026\n",
            "There are 1280 days until the event.\n"
          ]
        }
      ]
    },
    {
      "cell_type": "markdown",
      "source": [
        "# [2] Hours left: "
      ],
      "metadata": {
        "id": "bXh6FWjDOQTO"
      }
    },
    {
      "cell_type": "code",
      "source": [
        "#@markdown Run this code for Hours left:\n",
        "\n",
        "from datetime import datetime\n",
        "\n",
        "# Get the current date from the user\n",
        "access_date_str = input(\"Enter the current date (in MMDDYYYY format): \")\n",
        "access_date = datetime.strptime(access_date_str, \"%m%d%Y\")\n",
        "\n",
        "# Get the event date from the user\n",
        "event_date_str = input(\"Enter the event date (in MMDDYYYY format): \")\n",
        "event_date = datetime.strptime(event_date_str, \"%m%d%Y\")\n",
        "\n",
        "# Calculate the number of days until the event\n",
        "days_remaining = (event_date - access_date).days\n",
        "\n",
        "# Calculate the number of hours until the event\n",
        "hours_remaining = days_remaining * 24\n",
        "\n",
        "# Display the number of hours remaining\n",
        "print(f\"There are {hours_remaining} hours until the event.\")\n"
      ],
      "metadata": {
        "cellView": "form",
        "id": "LkT72bsGaFUO",
        "outputId": "b697b93c-fe33-47ae-ff7b-b7e11c611639",
        "colab": {
          "base_uri": "https://localhost:8080/"
        }
      },
      "execution_count": 4,
      "outputs": [
        {
          "output_type": "stream",
          "name": "stdout",
          "text": [
            "Enter the current date (in MMDDYYYY format): 05232023\n",
            "Enter the event date (in MMDDYYYY format): 11232026\n",
            "There are 30720 hours until the event.\n"
          ]
        }
      ]
    },
    {
      "cell_type": "markdown",
      "source": [
        "# [3] Output in colours"
      ],
      "metadata": {
        "id": "ebBp_5smO1cI"
      }
    },
    {
      "cell_type": "code",
      "source": [
        "#@markdown Run this code to display the output in colours\n",
        "from datetime import datetime\n",
        "from IPython.display import display, HTML\n",
        "\n",
        "# Get the current date and time from the user\n",
        "access_datetime_str = input(\"Enter the current date and time (in YYYY-MM-DD HH:MM format): \")\n",
        "access_datetime = datetime.strptime(access_datetime_str, \"%Y-%m-%d %H:%M\")\n",
        "\n",
        "# Get the event date and time from the user\n",
        "event_datetime_str = input(\"Enter the event date and time (in YYYY-MM-DD HH:MM format): \")\n",
        "event_datetime = datetime.strptime(event_datetime_str, \"%Y-%m-%d %H:%M\")\n",
        "\n",
        "# Calculate the time difference between the current date/time and the event date/time\n",
        "time_delta = event_datetime - access_datetime\n",
        "\n",
        "# Calculate the number of days, hours, and minutes until the event\n",
        "days_remaining = time_delta.days\n",
        "hours_remaining = time_delta.seconds // 3600\n",
        "minutes_remaining = (time_delta.seconds // 60) % 60\n",
        "\n",
        "# Create a formatted string with the number of days, hours, and minutes remaining\n",
        "formatted_string = f\"There are {days_remaining} days, {hours_remaining} hours, and {minutes_remaining} minutes left until the event.\"\n",
        "\n",
        "# Create a colored box with font size 18 to display the formatted string\n",
        "style = \"background-color: #18137b; border-radius: 5px; padding: 10px; font-size: 36px; color: #fefdff;\"\n",
        "display(HTML(f\"<div style='{style}'>{formatted_string}</div>\"))\n"
      ],
      "metadata": {
        "colab": {
          "base_uri": "https://localhost:8080/",
          "height": 162
        },
        "cellView": "form",
        "id": "EaMJEr-TM0yu",
        "outputId": "38aeb371-226b-4d96-81da-e6fb8cb0dbc2"
      },
      "execution_count": 7,
      "outputs": [
        {
          "name": "stdout",
          "output_type": "stream",
          "text": [
            "Enter the current date and time (in YYYY-MM-DD HH:MM format): 2023-05-23 07:25\n",
            "Enter the event date and time (in YYYY-MM-DD HH:MM format): 2026-11-23 09:00\n"
          ]
        },
        {
          "output_type": "display_data",
          "data": {
            "text/plain": [
              "<IPython.core.display.HTML object>"
            ],
            "text/html": [
              "<div style='background-color: #18137b; border-radius: 5px; padding: 10px; font-size: 36px; color: #fefdff;'>There are 1280 days, 1 hours, and 35 minutes left until the event.</div>"
            ]
          },
          "metadata": {}
        }
      ]
    },
    {
      "cell_type": "markdown",
      "source": [
        "#[4] Web-based live link"
      ],
      "metadata": {
        "id": "edhDr5C2QuN6"
      }
    },
    {
      "cell_type": "code",
      "source": [
        "%%capture\n",
        "!pip install gradio"
      ],
      "metadata": {
        "id": "ar8_UKlSQ1y4"
      },
      "execution_count": null,
      "outputs": []
    },
    {
      "cell_type": "code",
      "source": [
        "#@markdown Using Gradio: Hours left using gradio\n",
        "import gradio as gr\n",
        "from datetime import datetime, timedelta\n",
        "\n",
        "def hours_until_event(current_date, current_time, event_date, event_time):\n",
        "    # Convert the current date and time and the event date and time from strings to datetime objects\n",
        "    current_datetime_str = f\"{current_date} {current_time}\"\n",
        "    event_datetime_str = f\"{event_date} {event_time}\"\n",
        "    current_datetime = datetime.strptime(current_datetime_str, \"%Y-%m-%d %H:%M\")\n",
        "    event_datetime = datetime.strptime(event_datetime_str, \"%Y-%m-%d %H:%M\")\n",
        "\n",
        "    # Calculate the time difference between the current date/time and the event date/time\n",
        "    time_delta = event_datetime - current_datetime\n",
        "\n",
        "    # Calculate the number of hours until the event\n",
        "    hours_remaining = time_delta // timedelta(hours=1)\n",
        "\n",
        "    # Return the number of hours remaining\n",
        "    return hours_remaining\n",
        "\n",
        "# Set up the input and output interfaces using Gradio\n",
        "input_interfaces = [\n",
        "    gr.inputs.Textbox(label=\"Current Date (YYYY-MM-DD)\"),\n",
        "    gr.inputs.Textbox(label=\"Current Time (HH:MM)\"),\n",
        "    gr.inputs.Textbox(label=\"Event Date (YYYY-MM-DD)\"),\n",
        "    gr.inputs.Textbox(label=\"Event Time (HH:MM)\")\n",
        "]\n",
        "output_interface = gr.outputs.Textbox()\n",
        "\n",
        "# Create the web app and run it\n",
        "app = gr.Interface(hours_until_event, inputs=input_interfaces, outputs=output_interface, title=\"Hours Until Event\")\n",
        "app.launch()\n"
      ],
      "metadata": {
        "cellView": "form",
        "id": "ZUR7qY8aUSny"
      },
      "execution_count": null,
      "outputs": []
    },
    {
      "cell_type": "code",
      "source": [
        "#@markdown Using Gradio: days and hours left application\n",
        "import gradio as gr\n",
        "from datetime import datetime, timedelta\n",
        "\n",
        "def hours_until_event(current_date, current_time, event_date, event_time):\n",
        "    # Convert the current date and time and the event date and time from strings to datetime objects\n",
        "    current_datetime_str = f\"{current_date} {current_time}\"\n",
        "    event_datetime_str = f\"{event_date} {event_time}\"\n",
        "    current_datetime = datetime.strptime(current_datetime_str, \"%Y-%m-%d %H:%M\")\n",
        "    event_datetime = datetime.strptime(event_datetime_str, \"%Y-%m-%d %H:%M\")\n",
        "\n",
        "    # Calculate the time difference between the current date/time and the event date/time\n",
        "    time_delta = event_datetime - current_datetime\n",
        "\n",
        "    # Calculate the number of hours until the event\n",
        "    hours_remaining = time_delta // timedelta(hours=1)\n",
        "\n",
        "    # Calculate the number of days until the event\n",
        "    days_remaining = time_delta // timedelta(days=1)\n",
        "\n",
        "    # Subtract the hours in days_remaining from hours_remaining\n",
        "    hours_remaining -= days_remaining * 24\n",
        "\n",
        "    # Return the number of days and hours remaining\n",
        "    return f\"There are {days_remaining} days and {hours_remaining} hours left until the event.\"\n",
        "\n",
        "# Set up the input and output interfaces using Gradio\n",
        "input_interfaces = [\n",
        "    gr.inputs.Textbox(label=\"Current Date (YYYY-MM-DD)\"),\n",
        "    gr.inputs.Textbox(label=\"Current Time (HH:MM)\"),\n",
        "    gr.inputs.Textbox(label=\"Event Date (YYYY-MM-DD)\"),\n",
        "    gr.inputs.Textbox(label=\"Event Time (HH:MM)\")\n",
        "]\n",
        "output_interface = gr.outputs.Textbox()\n",
        "\n",
        "# Create the web app and run it\n",
        "app = gr.Interface(hours_until_event, inputs=input_interfaces, outputs=output_interface, title=\"Time Until Event\")\n",
        "app.launch(share=True)\n"
      ],
      "metadata": {
        "cellView": "form",
        "id": "t-0seL98Wbjn"
      },
      "execution_count": null,
      "outputs": []
    }
  ]
}