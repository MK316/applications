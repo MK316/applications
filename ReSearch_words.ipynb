{
  "nbformat": 4,
  "nbformat_minor": 0,
  "metadata": {
    "colab": {
      "name": "ReSearch_words.ipynb",
      "provenance": [],
      "authorship_tag": "ABX9TyNlk1jzcZistXnji82zOpLt",
      "include_colab_link": true
    },
    "kernelspec": {
      "name": "python3",
      "display_name": "Python 3"
    },
    "language_info": {
      "name": "python"
    }
  },
  "cells": [
    {
      "cell_type": "markdown",
      "metadata": {
        "id": "view-in-github",
        "colab_type": "text"
      },
      "source": [
        "<a href=\"https://colab.research.google.com/github/MK316/applications/blob/main/ReSearch_words.ipynb\" target=\"_parent\"><img src=\"https://colab.research.google.com/assets/colab-badge.svg\" alt=\"Open In Colab\"/></a>"
      ]
    },
    {
      "cell_type": "markdown",
      "source": [
        "# 🌟 Basic Regular Expression including Wildcards** 🌟 \n",
        "\n",
        "Regexpression | Interpretation | Example \n",
        "---|---|---\n",
        "`.`| `Wildcard, matches any character` | ``\n",
        "`^abc`\t|   `Matches some pattern abc at the start of a string` | ``\n",
        "`abc$`\t|   `Matches some pattern abc at the end of a string` | ``\n",
        "`[abc]`\t|    `Matches one of a set of characters`|\n",
        "`[^abc]`  |  `Matches anything but a set of characters`|\n",
        "`[A-Z0-9]`|\t`Matches one of a range of characters`|\n",
        "`ed\\|ing\\|s` |\t`Matches one of the specified strings (disjunction)`|\n",
        "`*`| `Zero or more of previous item,`| `e.g. a*, [a-z]* (also known as Kleene Closure)`\n",
        "`+`\t | `One or more of previous item` | `e.g. a+, [a-z]+`\n",
        "`?` |\t`Zero or one of the previous item (i.e. optional)` | `e.g. a?, [a-z]?`\n",
        "`{n}`\t| `Exactly n repeats where n is a non-negative integer` |\n",
        "`{n,}` | `At least n repeats` |\n",
        "`{,n}` | `No more than n repeats` |\n",
        "`{m,n}` |\t`At least m and no more than n repeats` |\n",
        "`a(b\\|c)+` |\t`Parentheses that indicate the scope of the operators` |\n",
        "`(...)` | `Matches whatever regular expression is inside the parentheses` |\n",
        "`\\d` | `Matches any decimal digit; this is equivalent to the class [0-9].`|\n",
        "`\\D` | `Matches any non-digit character; this is equivalent to the class [^0-9].`|\n",
        "`\\s` | `Matches any whitespace character; this is equivalent to the class [ \\t\\n\\r\\f\\v].` |\n",
        "`\\S` | Matches any non-whitespace character; this is equivalent to the class [^ \\t\\n\\r\\f\\v].`|\n",
        "`\\w` | `Matches any alphanumeric character; this is equivalent to the class [a-zA-Z0-9_].` |\n",
        "`\\W` | `Matches any non-alphanumeric character; this is equivalent to the class [^a-zA-Z0-9_].` |\n",
        "==="
      ],
      "metadata": {
        "id": "39r9p_FyKDz0"
      }
    },
    {
      "cell_type": "code",
      "execution_count": 8,
      "metadata": {
        "colab": {
          "base_uri": "https://localhost:8080/"
        },
        "cellView": "form",
        "id": "RTvZc23eH9SL",
        "outputId": "50f72877-1fa8-48d8-8fc3-3db33e5cd586"
      },
      "outputs": [
        {
          "output_type": "stream",
          "name": "stdout",
          "text": [
            "[nltk_data] Downloading package words to /root/nltk_data...\n",
            "[nltk_data]   Unzipping corpora/words.zip.\n"
          ]
        },
        {
          "output_type": "execute_result",
          "data": {
            "text/plain": [
              "True"
            ]
          },
          "metadata": {},
          "execution_count": 8
        }
      ],
      "source": [
        "#@markdown Import packages:\n",
        "import nltk\n",
        "import re\n",
        "nltk.download('words')"
      ]
    },
    {
      "cell_type": "code",
      "source": [
        "#@markdown ◉ English dictionary:\n",
        "\n",
        "engdict = nltk.corpus.words.words('en')\n",
        "print('Dictionary length: ', len(engdict))"
      ],
      "metadata": {
        "colab": {
          "base_uri": "https://localhost:8080/"
        },
        "cellView": "form",
        "id": "POjtZbeUIAi9",
        "outputId": "ce699614-9eef-483f-a804-b7f3635871cd"
      },
      "execution_count": 9,
      "outputs": [
        {
          "output_type": "stream",
          "name": "stdout",
          "text": [
            "Dictionary length:  235886\n"
          ]
        }
      ]
    },
    {
      "cell_type": "code",
      "source": [
        "result = [w for w in engdict if re.search('ed$', w)]\n",
        "result[:10]"
      ],
      "metadata": {
        "id": "mss8UVIDIc3F"
      },
      "execution_count": null,
      "outputs": []
    },
    {
      "cell_type": "code",
      "source": [
        "#@markdown ◉ Treebank (Wall Street Journal)\n",
        "nltk.download('treebank')\n",
        "wsj = nltk.corpus.treebank.words(); print('WSJ length: ', len(wsj))"
      ],
      "metadata": {
        "colab": {
          "base_uri": "https://localhost:8080/"
        },
        "cellView": "form",
        "id": "Dc3DkWXAIIaO",
        "outputId": "78cddf38-c8fa-45e1-d04d-767a432b7915"
      },
      "execution_count": 14,
      "outputs": [
        {
          "output_type": "stream",
          "name": "stdout",
          "text": [
            "[nltk_data] Downloading package treebank to /root/nltk_data...\n",
            "[nltk_data]   Package treebank is already up-to-date!\n",
            "WSJ length:  100676\n"
          ]
        }
      ]
    },
    {
      "cell_type": "code",
      "source": [
        "result = [w for w in wsj if re.search('es$', w)]\n",
        "result[:10]"
      ],
      "metadata": {
        "id": "ZalftWzVIl1t"
      },
      "execution_count": null,
      "outputs": []
    }
  ]
}