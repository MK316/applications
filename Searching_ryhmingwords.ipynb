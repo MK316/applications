{
  "nbformat": 4,
  "nbformat_minor": 0,
  "metadata": {
    "colab": {
      "name": "Searching_ryhmingwords.ipynb",
      "provenance": [],
      "authorship_tag": "ABX9TyPGFN+ayIaHR2/pQv8CV8y3",
      "include_colab_link": true
    },
    "kernelspec": {
      "name": "python3",
      "display_name": "Python 3"
    },
    "language_info": {
      "name": "python"
    }
  },
  "cells": [
    {
      "cell_type": "markdown",
      "metadata": {
        "id": "view-in-github",
        "colab_type": "text"
      },
      "source": [
        "<a href=\"https://colab.research.google.com/github/MK316/applications/blob/main/Searching_ryhmingwords.ipynb\" target=\"_parent\"><img src=\"https://colab.research.google.com/assets/colab-badge.svg\" alt=\"Open In Colab\"/></a>"
      ]
    },
    {
      "cell_type": "code",
      "source": [
        "!pip install pronouncing"
      ],
      "metadata": {
        "colab": {
          "base_uri": "https://localhost:8080/"
        },
        "id": "0PJtVEVhKIYR",
        "outputId": "41eade1f-1f5e-439d-8c1b-ba54f061f2ce"
      },
      "execution_count": 2,
      "outputs": [
        {
          "output_type": "stream",
          "name": "stdout",
          "text": [
            "Collecting pronouncing\n",
            "  Downloading pronouncing-0.2.0.tar.gz (17 kB)\n",
            "Collecting cmudict>=0.4.0\n",
            "  Downloading cmudict-1.0.2-py2.py3-none-any.whl (939 kB)\n",
            "\u001b[K     |████████████████████████████████| 939 kB 5.2 MB/s \n",
            "\u001b[?25hBuilding wheels for collected packages: pronouncing\n",
            "  Building wheel for pronouncing (setup.py) ... \u001b[?25l\u001b[?25hdone\n",
            "  Created wheel for pronouncing: filename=pronouncing-0.2.0-py2.py3-none-any.whl size=6252 sha256=0c2d5af9b426aed58bf14ffe3b84b941882fb4b9d679b68f4c11f85c4718d47f\n",
            "  Stored in directory: /root/.cache/pip/wheels/09/e8/c0/3606d42fdbf5f3871564eb6a353591a8f5deeed013fdb73921\n",
            "Successfully built pronouncing\n",
            "Installing collected packages: cmudict, pronouncing\n",
            "Successfully installed cmudict-1.0.2 pronouncing-0.2.0\n"
          ]
        }
      ]
    },
    {
      "cell_type": "code",
      "source": [
        "import pronouncing"
      ],
      "metadata": {
        "id": "1V9oMYu2FmKs"
      },
      "execution_count": 3,
      "outputs": []
    },
    {
      "cell_type": "code",
      "execution_count": 7,
      "metadata": {
        "colab": {
          "base_uri": "https://localhost:8080/"
        },
        "id": "ga22ugS_FZLe",
        "outputId": "90edf0b1-99b7-4152-90c0-7daafb7e6607"
      },
      "outputs": [
        {
          "output_type": "execute_result",
          "data": {
            "text/plain": [
              "['albaugh',\n",
              " 'allbaugh',\n",
              " 'alpaugh',\n",
              " 'alspaugh',\n",
              " 'anspaugh',\n",
              " 'ashbaugh',\n",
              " 'aw',\n",
              " 'awe',\n",
              " 'bashaw',\n",
              " 'baugh',\n",
              " 'carnaud',\n",
              " 'caw',\n",
              " 'chaw',\n",
              " 'claw',\n",
              " 'colaw',\n",
              " 'craugh',\n",
              " 'craw',\n",
              " 'czeslaw',\n",
              " 'daw',\n",
              " 'dawe',\n",
              " 'draw',\n",
              " 'eshbaugh',\n",
              " 'faw',\n",
              " 'flaugh',\n",
              " 'flaw',\n",
              " 'foresaw',\n",
              " 'gaugh',\n",
              " 'gaw',\n",
              " 'glawe',\n",
              " 'gnaw',\n",
              " 'graw',\n",
              " 'grawe',\n",
              " 'guffaw',\n",
              " 'haugh',\n",
              " 'haw',\n",
              " 'hawe',\n",
              " 'in-law',\n",
              " 'inlaw',\n",
              " 'jaw',\n",
              " 'law',\n",
              " 'loblaw',\n",
              " 'macaw',\n",
              " 'maw',\n",
              " 'mccaw',\n",
              " 'mccraw',\n",
              " 'mcgagh',\n",
              " 'mcgaugh',\n",
              " 'mcgaw',\n",
              " 'mcgraw',\n",
              " 'ocaw',\n",
              " 'paugh',\n",
              " 'paw',\n",
              " 'rauh',\n",
              " 'rawe',\n",
              " 'redraw',\n",
              " 'robertshaw',\n",
              " 'shaw',\n",
              " 'slaugh',\n",
              " 'slaw',\n",
              " 'spaugh',\n",
              " 'spaw',\n",
              " 'straw',\n",
              " 'thaw',\n",
              " 'traugh',\n",
              " 'vaugh',\n",
              " 'waugh',\n",
              " 'withdraw',\n",
              " 'withdraw',\n",
              " 'xio',\n",
              " 'yaw']"
            ]
          },
          "metadata": {},
          "execution_count": 7
        }
      ],
      "source": [
        "pronouncing.rhymes(\"saw\")"
      ]
    }
  ]
}