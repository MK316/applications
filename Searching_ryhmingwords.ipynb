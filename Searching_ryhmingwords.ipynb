{
  "nbformat": 4,
  "nbformat_minor": 0,
  "metadata": {
    "colab": {
      "name": "Searching_ryhmingwords.ipynb",
      "provenance": [],
      "include_colab_link": true
    },
    "kernelspec": {
      "name": "python3",
      "display_name": "Python 3"
    },
    "language_info": {
      "name": "python"
    }
  },
  "cells": [
    {
      "cell_type": "markdown",
      "metadata": {
        "id": "view-in-github",
        "colab_type": "text"
      },
      "source": [
        "<a href=\"https://colab.research.google.com/github/MK316/applications/blob/main/Searching_ryhmingwords.ipynb\" target=\"_parent\"><img src=\"https://colab.research.google.com/assets/colab-badge.svg\" alt=\"Open In Colab\"/></a>"
      ]
    },
    {
      "cell_type": "markdown",
      "source": [
        "# Finding rhyming words using [CMU dictionary](\"https://dbpedia.org/page/CMU_Pronouncing_Dictionary\")\n",
        "\n",
        "e.g., bright/night, now/how, etc.\n",
        "\n",
        "[Check out cmu dictionary data on github](\"https://github.com/cmusphinx/cmudict\")"
      ],
      "metadata": {
        "id": "748JohohhO0g"
      }
    },
    {
      "cell_type": "code",
      "source": [
        "#@markdown **Step 1:** Install {pronouncing}\n",
        "!pip install pronouncing"
      ],
      "metadata": {
        "id": "0PJtVEVhKIYR",
        "cellView": "form"
      },
      "execution_count": null,
      "outputs": []
    },
    {
      "cell_type": "code",
      "source": [
        "#@markdown Step 2: Import {pronouncing}\n",
        "import pronouncing"
      ],
      "metadata": {
        "id": "1V9oMYu2FmKs",
        "cellView": "form"
      },
      "execution_count": 2,
      "outputs": []
    },
    {
      "cell_type": "code",
      "execution_count": 7,
      "metadata": {
        "colab": {
          "base_uri": "https://localhost:8080/"
        },
        "id": "ga22ugS_FZLe",
        "outputId": "93b94181-0029-4849-e053-0868d514588d",
        "cellView": "form"
      },
      "outputs": [
        {
          "name": "stdout",
          "output_type": "stream",
          "text": [
            "Write a word to search rhyming words:\n",
            "search\n"
          ]
        },
        {
          "output_type": "execute_result",
          "data": {
            "text/plain": [
              "['bertch',\n",
              " 'bertsch',\n",
              " 'bertsche',\n",
              " 'birch',\n",
              " 'burch',\n",
              " 'burtch',\n",
              " 'church',\n",
              " 'durch',\n",
              " 'gertsch',\n",
              " 'lerche']"
            ]
          },
          "metadata": {},
          "execution_count": 7
        }
      ],
      "source": [
        "#@markdown Step 3: Find rhyming words with ____:\n",
        "\n",
        "print(\"Write a word to search rhyming words:\")\n",
        "rhyme_with = input()\n",
        "word = rhyme_with\n",
        "\n",
        "result = pronouncing.rhymes(word)\n",
        "result[:5]"
      ]
    },
    {
      "cell_type": "code",
      "source": [
        "#@markdown Show all:\n",
        "print('Number of rhyming words: %d'%len(result))\n",
        "print(result)"
      ],
      "metadata": {
        "cellView": "form",
        "id": "1cSaXrgrjdkf",
        "outputId": "46485928-3319-42dd-e761-0db99f4b4f28",
        "colab": {
          "base_uri": "https://localhost:8080/"
        }
      },
      "execution_count": 8,
      "outputs": [
        {
          "output_type": "stream",
          "name": "stdout",
          "text": [
            "Number of rhyming words: 13\n",
            "['bertch', 'bertsch', 'bertsche', 'birch', 'burch', 'burtch', 'church', 'durch', 'gertsch', 'lerche', 'lurch', 'perch', 'research']\n"
          ]
        }
      ]
    }
  ]
}