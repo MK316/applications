{
  "nbformat": 4,
  "nbformat_minor": 0,
  "metadata": {
    "colab": {
      "provenance": [],
      "authorship_tag": "ABX9TyP1w9vnK4ru2t+Bo4YmwXdV",
      "include_colab_link": true
    },
    "kernelspec": {
      "name": "python3",
      "display_name": "Python 3"
    },
    "language_info": {
      "name": "python"
    }
  },
  "cells": [
    {
      "cell_type": "markdown",
      "metadata": {
        "id": "view-in-github",
        "colab_type": "text"
      },
      "source": [
        "<a href=\"https://colab.research.google.com/github/MK316/applications/blob/main/Count_alphabet.ipynb\" target=\"_parent\"><img src=\"https://colab.research.google.com/assets/colab-badge.svg\" alt=\"Open In Colab\"/></a>"
      ]
    },
    {
      "cell_type": "markdown",
      "source": [
        "# From A to Z"
      ],
      "metadata": {
        "id": "D7nFsn_nrm-W"
      }
    },
    {
      "cell_type": "code",
      "execution_count": 10,
      "metadata": {
        "colab": {
          "base_uri": "https://localhost:8080/"
        },
        "id": "99dKFybEopzA",
        "outputId": "ee577eb8-cb7d-4e14-b3c6-db987f3dfc80"
      },
      "outputs": [
        {
          "output_type": "stream",
          "name": "stdout",
          "text": [
            "Enter the start letter: a\n",
            "Enter the end letter: o\n",
            "There are 15 letters between a and o, including a and o.\n"
          ]
        }
      ],
      "source": [
        "# Take the start and end letters as input\n",
        "start = input(\"Enter the start letter: \")\n",
        "end = input(\"Enter the end letter: \")\n",
        "\n",
        "# Convert the letters to lowercase to ensure consistency\n",
        "start = start.lower()\n",
        "end = end.lower()\n",
        "\n",
        "# Calculate the number of letters between the start and end letters, including the start and end letters\n",
        "num_letters = ord(end) - ord(start) + 1\n",
        "\n",
        "# Print the result\n",
        "print(f\"There are {num_letters} letters between {start} and {end}, including {start} and {end}.\")\n"
      ]
    }
  ]
}