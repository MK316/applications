{
  "nbformat": 4,
  "nbformat_minor": 0,
  "metadata": {
    "colab": {
      "name": "LD_mtld_hdd_mass.ipynb",
      "provenance": [],
      "collapsed_sections": [],
      "authorship_tag": "ABX9TyOgSWtYud57XjFmn5y9p/gk",
      "include_colab_link": true
    },
    "kernelspec": {
      "name": "python3",
      "display_name": "Python 3"
    },
    "language_info": {
      "name": "python"
    }
  },
  "cells": [
    {
      "cell_type": "markdown",
      "metadata": {
        "id": "view-in-github",
        "colab_type": "text"
      },
      "source": [
        "<a href=\"https://colab.research.google.com/github/MK316/applications/blob/main/LD_mtld_hdd_mass.ipynb\" target=\"_parent\"><img src=\"https://colab.research.google.com/assets/colab-badge.svg\" alt=\"Open In Colab\"/></a>"
      ]
    },
    {
      "cell_type": "markdown",
      "source": [
        "# Lexical Diversity Assessments: **MTLD, vocd-D, and HD-D**\n",
        "**[Notes]** \n",
        "1. The lexical diversity indices here refer to the following article:\n",
        "\n",
        "* [McCarthy, P.M., Jarvis, S.](\"https://link.springer.com/article/10.3758/BRM.42.2.381\") (2010). MTLD, vocd-D, and HD-D: A validation study of sophisticated approaches to lexical diversity assessment. Behavior Research Methods 42, 381–392. https://doi.org/10.3758/BRM.42.2.381\n",
        "\n",
        "2. The Python coding here uses [Kristopher Kyle's {lexical-diversity} package](\"https://github.com/kristopherkyle/lexical_diversity\").\n",
        "\n",
        "3. TTR, Log TTR, RootTTR etc: These measures have been criticized since they are heavily influenced by text length. (Tweedie & Baayen, 1998; Chipere et al., 2004; Kettunen, 2014) Thus, researchers should use matrics such as MTLD, HDD, MASS, etc"
      ],
      "metadata": {
        "id": "Z1kGPookept_"
      }
    },
    {
      "cell_type": "markdown",
      "source": [
        "# Intalling {lexical-diversity} packages:"
      ],
      "metadata": {
        "id": "DnZrNr0Zj9Wj"
      }
    },
    {
      "cell_type": "code",
      "execution_count": 1,
      "metadata": {
        "colab": {
          "base_uri": "https://localhost:8080/"
        },
        "id": "dmMZqmq8d1sz",
        "outputId": "24e190b1-e6ce-4e99-e539-a9a4f369d8a1"
      },
      "outputs": [
        {
          "output_type": "stream",
          "name": "stdout",
          "text": [
            "Collecting lexical-diversity\n",
            "  Downloading lexical_diversity-0.1.1-py3-none-any.whl (117 kB)\n",
            "\u001b[?25l\r\u001b[K     |██▉                             | 10 kB 20.9 MB/s eta 0:00:01\r\u001b[K     |█████▋                          | 20 kB 12.6 MB/s eta 0:00:01\r\u001b[K     |████████▍                       | 30 kB 9.8 MB/s eta 0:00:01\r\u001b[K     |███████████▏                    | 40 kB 8.6 MB/s eta 0:00:01\r\u001b[K     |██████████████                  | 51 kB 4.6 MB/s eta 0:00:01\r\u001b[K     |████████████████▊               | 61 kB 5.3 MB/s eta 0:00:01\r\u001b[K     |███████████████████▌            | 71 kB 5.2 MB/s eta 0:00:01\r\u001b[K     |██████████████████████▎         | 81 kB 5.4 MB/s eta 0:00:01\r\u001b[K     |█████████████████████████       | 92 kB 6.0 MB/s eta 0:00:01\r\u001b[K     |███████████████████████████▉    | 102 kB 5.2 MB/s eta 0:00:01\r\u001b[K     |██████████████████████████████▋ | 112 kB 5.2 MB/s eta 0:00:01\r\u001b[K     |████████████████████████████████| 117 kB 5.2 MB/s \n",
            "\u001b[?25hInstalling collected packages: lexical-diversity\n",
            "Successfully installed lexical-diversity-0.1.1\n"
          ]
        }
      ],
      "source": [
        "pip install lexical-diversity"
      ]
    },
    {
      "cell_type": "code",
      "source": [
        "from lexical_diversity import lex_div as ld"
      ],
      "metadata": {
        "id": "ss-i74H6vlNE"
      },
      "execution_count": 20,
      "outputs": []
    },
    {
      "cell_type": "markdown",
      "source": [
        "# Bring your texts to be analyzed:\n",
        "\n",
        "Text upload: one of the following ways. Remove #hashtag in the code line"
      ],
      "metadata": {
        "id": "Jo-yR1aojtrg"
      }
    },
    {
      "cell_type": "code",
      "source": [
        "#1# Copy and paste the text directly in the cell:\n",
        "\n",
        "text = \"\"\"\n",
        "THE FROGS, grieved at having no established Ruler, sent\n",
        "ambassadors to Jupiter entreating for a King.  Perceiving their\n",
        "simplicity, he cast down a huge log into the lake.  The Frogs\n",
        "were terrified at the splash occasioned by its fall and hid\n",
        "themselves in the depths of the pool.  But as soon as they\n",
        "realized that the huge log was motionless, they swam again to the\n",
        "top of the water, dismissed their fears, climbed up, and began\n",
        "squatting on it in contempt.  After some time they began to think\n",
        "themselves ill-treated in the appointment of so inert a Ruler,\n",
        "and sent a second deputation to Jupiter to pray that he would set\n",
        "over them another sovereign.  He then gave them an Eel to govern\n",
        "them.  When the Frogs discovered his easy good nature, they sent\n",
        "yet a third time to Jupiter to beg him to choose for them still\n",
        "another King.  Jupiter, displeased with all their complaints,\n",
        "sent a Heron, who preyed upon the Frogs day by day till there\n",
        "were none left to croak upon the lake.\n",
        "\"\"\""
      ],
      "metadata": {
        "id": "FgR5hPZ2kKKM"
      },
      "execution_count": 45,
      "outputs": []
    },
    {
      "cell_type": "code",
      "source": [
        "#2# Copy and paste in the following box:\n",
        "\n",
        "text = input()\n"
      ],
      "metadata": {
        "id": "FsRmtRU8ktVu"
      },
      "execution_count": null,
      "outputs": []
    },
    {
      "cell_type": "code",
      "source": [
        "#3# Upload a file on Colab: Use the \"folder-shape\" panel on the left\n"
      ],
      "metadata": {
        "id": "s9d-1ZmWk3Rz"
      },
      "execution_count": null,
      "outputs": []
    },
    {
      "cell_type": "code",
      "source": [
        "#4# Clone your github folder to use multiple texts\n",
        "\n",
        "!git clone https://github.com/MK316/LexicalAnalysis.git"
      ],
      "metadata": {
        "colab": {
          "base_uri": "https://localhost:8080/"
        },
        "id": "0n0f6NuclIR8",
        "outputId": "5855cf37-3435-4a12-f64f-966df9b7956e"
      },
      "execution_count": 11,
      "outputs": [
        {
          "output_type": "stream",
          "name": "stdout",
          "text": [
            "Cloning into 'LexicalAnalysis'...\n",
            "remote: Enumerating objects: 25, done.\u001b[K\n",
            "remote: Counting objects: 100% (25/25), done.\u001b[K\n",
            "remote: Compressing objects: 100% (17/17), done.\u001b[K\n",
            "remote: Total 25 (delta 1), reused 0 (delta 0), pack-reused 0\u001b[K\n",
            "Unpacking objects: 100% (25/25), done.\n"
          ]
        }
      ]
    },
    {
      "cell_type": "code",
      "source": [
        "! git pull"
      ],
      "metadata": {
        "colab": {
          "base_uri": "https://localhost:8080/"
        },
        "id": "bNfFiFz9uPAm",
        "outputId": "d748f231-9b7b-4f27-86d9-0b63bd09c070"
      },
      "execution_count": 13,
      "outputs": [
        {
          "output_type": "stream",
          "name": "stdout",
          "text": [
            "remote: Enumerating objects: 9, done.\u001b[K\n",
            "remote: Counting objects:  11% (1/9)\u001b[K\rremote: Counting objects:  22% (2/9)\u001b[K\rremote: Counting objects:  33% (3/9)\u001b[K\rremote: Counting objects:  44% (4/9)\u001b[K\rremote: Counting objects:  55% (5/9)\u001b[K\rremote: Counting objects:  66% (6/9)\u001b[K\rremote: Counting objects:  77% (7/9)\u001b[K\rremote: Counting objects:  88% (8/9)\u001b[K\rremote: Counting objects: 100% (9/9)\u001b[K\rremote: Counting objects: 100% (9/9), done.\u001b[K\n",
            "remote: Compressing objects:  16% (1/6)\u001b[K\rremote: Compressing objects:  33% (2/6)\u001b[K\rremote: Compressing objects:  50% (3/6)\u001b[K\rremote: Compressing objects:  66% (4/6)\u001b[K\rremote: Compressing objects:  83% (5/6)\u001b[K\rremote: Compressing objects: 100% (6/6)\u001b[K\rremote: Compressing objects: 100% (6/6), done.\u001b[K\n",
            "remote: Total 7 (delta 0), reused 0 (delta 0), pack-reused 0\u001b[K\n",
            "Unpacking objects:  14% (1/7)   \rUnpacking objects:  28% (2/7)   \rUnpacking objects:  42% (3/7)   \rUnpacking objects:  57% (4/7)   \rUnpacking objects:  71% (5/7)   \rUnpacking objects:  85% (6/7)   \rUnpacking objects: 100% (7/7)   \rUnpacking objects: 100% (7/7), done.\n",
            "From https://github.com/MK316/LexicalAnalysis\n",
            "   c8ad029..bbddefc  main       -> origin/main\n",
            "Updating c8ad029..bbddefc\n",
            "Fast-forward\n",
            " textdata/Aesop01.txt | 22 \u001b[32m++++++++++++++++++++++\u001b[m\n",
            " textdata/readme.md   |  6 \u001b[31m------\u001b[m\n",
            " 2 files changed, 22 insertions(+), 6 deletions(-)\n",
            " create mode 100644 textdata/Aesop01.txt\n",
            " delete mode 100644 textdata/readme.md\n"
          ]
        }
      ]
    },
    {
      "cell_type": "code",
      "source": [
        "# Current directory\n",
        "%pwd"
      ],
      "metadata": {
        "colab": {
          "base_uri": "https://localhost:8080/",
          "height": 35
        },
        "id": "4ITQHrGzsjP7",
        "outputId": "cc2fdc95-19c1-49b6-ae02-1987b3379ee2"
      },
      "execution_count": 8,
      "outputs": [
        {
          "output_type": "execute_result",
          "data": {
            "text/plain": [
              "'/content'"
            ],
            "application/vnd.google.colaboratory.intrinsic+json": {
              "type": "string"
            }
          },
          "metadata": {},
          "execution_count": 8
        }
      ]
    },
    {
      "cell_type": "code",
      "source": [
        "# Change directory\n",
        "%cd /content/LexicalAnalysis/textdata/"
      ],
      "metadata": {
        "colab": {
          "base_uri": "https://localhost:8080/"
        },
        "id": "CMHGwV53spoN",
        "outputId": "0bd11425-84f2-4597-b489-475cd42537b8"
      },
      "execution_count": 10,
      "outputs": [
        {
          "output_type": "stream",
          "name": "stdout",
          "text": [
            "/content/LexicalAnalysis/textdata\n"
          ]
        }
      ]
    },
    {
      "cell_type": "code",
      "source": [
        "file = open('Aesop01.txt','r')\n",
        "text = file.read().replace(\"\\n\", \" \")\n",
        "file.close()\n",
        "\n",
        "text"
      ],
      "metadata": {
        "id": "dYlm3kcDs4-J"
      },
      "execution_count": null,
      "outputs": []
    },
    {
      "cell_type": "markdown",
      "source": [
        "# [1] **MTLD**: the Measure of Textual Lexical Diversity\n",
        "\n",
        "* The index for this approach is calculated as the mean length of word strings that maintain a criterion level of lexical variation.\n",
        "\n",
        "* This index is not found to vary as a function of text length. (McCarthy, 2010)"
      ],
      "metadata": {
        "id": "4DaWeIibfXbQ"
      }
    },
    {
      "cell_type": "markdown",
      "source": [
        "\"... MTLD is obtained by dividing the total number of words by\n",
        "the total number of factors. Thus, if the text is 360 words long and there are 4 factors, the MTLD value is 90. ... The final version of MTLD is obtained by running the programme\n",
        "forward and backward through the data and calculating an average of the outcome of both. According to McCarthy (2005) and Crossley et al. (2009), MTLD does not vary as a function of text length for text segments whose length is in the\n",
        "100–2,000-word range.\" excerpt from [Treffers-Daller, J. (2013)](\"https://centaur.reading.ac.uk/28712/1/04ch3.pdf\") Measuring lexical diversity among L2\n",
        "learners of French: an exploration of the validity of D, MTLD\n",
        "and HD-D as measures of language ability. In: Jarvis, S. and\n",
        "Daller, M. (eds.) Vocabulary knowledge: human ratings and\n",
        "automated measures. Benjamins, Amsterdam, pp. 79-104.\n",
        "ISBN 9789027241887 Available at\n",
        "http://centaur.reading.ac.uk/28712/"
      ],
      "metadata": {
        "id": "Nt8vb4bU7ppU"
      }
    },
    {
      "cell_type": "code",
      "source": [
        "tleng = len(text); print('Text length: ',tleng)"
      ],
      "metadata": {
        "colab": {
          "base_uri": "https://localhost:8080/"
        },
        "id": "LzsFgC0m873R",
        "outputId": "f112df1b-a60f-4d93-db4f-bb7b3b81d8bf"
      },
      "execution_count": 63,
      "outputs": [
        {
          "output_type": "stream",
          "name": "stdout",
          "text": [
            "Text length:  983\n"
          ]
        }
      ]
    },
    {
      "cell_type": "code",
      "source": [
        "tok = ld.tokenize(text); print('First 10 tokenized words:', tok[:10])"
      ],
      "metadata": {
        "colab": {
          "base_uri": "https://localhost:8080/"
        },
        "id": "Ycm2T0vhvbnm",
        "outputId": "9af8aad0-426d-4651-8ec5-2187d8a0fa9f"
      },
      "execution_count": 46,
      "outputs": [
        {
          "output_type": "stream",
          "name": "stdout",
          "text": [
            "First 10 tokenized words: ['', 'the', 'frogs', 'grieved', 'at', 'having', 'no', 'established', 'ruler', 'sent']\n"
          ]
        }
      ]
    },
    {
      "cell_type": "code",
      "source": [
        "flt = ld.flemmatize(text)"
      ],
      "metadata": {
        "id": "GW56Ew8mv2VT"
      },
      "execution_count": 47,
      "outputs": []
    },
    {
      "cell_type": "code",
      "source": [
        "mtld = ld.mtld(flt); print(\"MTLD index: %d\"%mtld)"
      ],
      "metadata": {
        "colab": {
          "base_uri": "https://localhost:8080/"
        },
        "id": "hy_hD4enfcjg",
        "outputId": "49499dde-8638-40c1-ef82-7a1a3ca21088"
      },
      "execution_count": 48,
      "outputs": [
        {
          "output_type": "stream",
          "name": "stdout",
          "text": [
            "MTLD index: 79\n"
          ]
        }
      ]
    },
    {
      "cell_type": "markdown",
      "source": [
        "# **[2] HD-D**(or vocd-D): Hypergeometric distribution D\n",
        "* HD-D is a viable alternative to the vocd-D standard."
      ],
      "metadata": {
        "id": "1iWMLmvVgz3t"
      }
    },
    {
      "cell_type": "code",
      "source": [
        "hdd = ld.hdd(flt); print('HD-D index: ',hdd)"
      ],
      "metadata": {
        "colab": {
          "base_uri": "https://localhost:8080/"
        },
        "id": "DEsKy2wjg7tI",
        "outputId": "144ebe8f-4e7c-41ba-8fb7-a388ec1ef696"
      },
      "execution_count": 54,
      "outputs": [
        {
          "output_type": "stream",
          "name": "stdout",
          "text": [
            "HD-D index:  0.8217430142133639\n"
          ]
        }
      ]
    },
    {
      "cell_type": "markdown",
      "source": [
        "# **[3] MASS**:\n",
        "\n",
        "* Three of the indices — MTLD, vocd-D (or HD-D), and Maas—appear to capture unique lexical information. "
      ],
      "metadata": {
        "id": "NDQzK6ODhCs1"
      }
    },
    {
      "cell_type": "code",
      "source": [
        "mass = ld.maas_ttr(flt); print('MASS index: ', mass)"
      ],
      "metadata": {
        "colab": {
          "base_uri": "https://localhost:8080/"
        },
        "id": "qw-_fyZuhHyu",
        "outputId": "df91b11d-c4d8-470e-b431-c6861088fd79"
      },
      "execution_count": 55,
      "outputs": [
        {
          "output_type": "stream",
          "name": "stdout",
          "text": [
            "MASS index:  0.043234341423214924\n"
          ]
        }
      ]
    },
    {
      "cell_type": "markdown",
      "source": [
        "# Result summary"
      ],
      "metadata": {
        "id": "PfHEzb5560FM"
      }
    },
    {
      "cell_type": "code",
      "source": [
        "print('TEXT length: ', tleng)\n",
        "print('MTLD index: ', round(mtld,2))\n",
        "print('HDD index: ', round(hdd,4))\n",
        "print('MASS index: ', round(mass,4))"
      ],
      "metadata": {
        "colab": {
          "base_uri": "https://localhost:8080/"
        },
        "id": "5DxNVmzL62Mo",
        "outputId": "1718cbcf-7c0c-40dc-b7b3-93ff0fc4ec42"
      },
      "execution_count": 64,
      "outputs": [
        {
          "output_type": "stream",
          "name": "stdout",
          "text": [
            "TEXT length:  983\n",
            "MTLD index:  79.32\n",
            "HDD index:  0.8217\n",
            "MASS index:  0.0432\n"
          ]
        }
      ]
    }
  ]
}