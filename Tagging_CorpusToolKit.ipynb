{
  "nbformat": 4,
  "nbformat_minor": 0,
  "metadata": {
    "colab": {
      "name": "Tagging_CorpusToolKit.ipynb",
      "provenance": [],
      "authorship_tag": "ABX9TyPqxyUwA7CDDfFlzpE3jIK0",
      "include_colab_link": true
    },
    "kernelspec": {
      "name": "python3",
      "display_name": "Python 3"
    },
    "language_info": {
      "name": "python"
    }
  },
  "cells": [
    {
      "cell_type": "markdown",
      "metadata": {
        "id": "view-in-github",
        "colab_type": "text"
      },
      "source": [
        "<a href=\"https://colab.research.google.com/github/MK316/applications/blob/main/Tagging_CorpusToolKit.ipynb\" target=\"_parent\"><img src=\"https://colab.research.google.com/assets/colab-badge.svg\" alt=\"Open In Colab\"/></a>"
      ]
    },
    {
      "cell_type": "markdown",
      "source": [
        "# English text Tagging using the Corpus Toolkit [by Kristopher Kyle](\"https://github.com/kristopherkyle/corpus_toolkit\")\n",
        "\n",
        "---\n",
        "\n",
        "For a given text, we'll create a tagged text.\n",
        "Tags used: Universal POS Tag (https://universaldependencies.org/u/pos/)"
      ],
      "metadata": {
        "id": "TNdYHHiLja58"
      }
    },
    {
      "cell_type": "code",
      "execution_count": null,
      "metadata": {
        "colab": {
          "base_uri": "https://localhost:8080/"
        },
        "id": "H29JDvvZjK6n",
        "outputId": "9f9333d0-19b2-4568-c17d-f3cf40cdcae4"
      },
      "outputs": [
        {
          "output_type": "stream",
          "name": "stdout",
          "text": [
            "Requirement already satisfied: corpus-toolkit in /usr/local/lib/python3.7/dist-packages (0.32)\n"
          ]
        }
      ],
      "source": [
        "!pip install corpus-toolkit"
      ]
    },
    {
      "cell_type": "markdown",
      "source": [
        "## [1] Create a folder named 'txtdata'\n",
        "=> Corpus Toolkit processes files under a specified folder. So we create a folder and upload files in the given folder."
      ],
      "metadata": {
        "id": "kw9AqIDEuZGs"
      }
    },
    {
      "cell_type": "code",
      "source": [
        "import os\n",
        "os.mkdir(\"txtdata\")"
      ],
      "metadata": {
        "id": "F4IUkgrGuEQW",
        "colab": {
          "base_uri": "https://localhost:8080/",
          "height": 183
        },
        "outputId": "958fe6b0-25a4-43a1-e01e-d942a238085f"
      },
      "execution_count": null,
      "outputs": [
        {
          "output_type": "error",
          "ename": "FileExistsError",
          "evalue": "ignored",
          "traceback": [
            "\u001b[0;31m---------------------------------------------------------------------------\u001b[0m",
            "\u001b[0;31mFileExistsError\u001b[0m                           Traceback (most recent call last)",
            "\u001b[0;32m<ipython-input-4-f83a3c6eb15c>\u001b[0m in \u001b[0;36m<module>\u001b[0;34m()\u001b[0m\n\u001b[1;32m      1\u001b[0m \u001b[0;32mimport\u001b[0m \u001b[0mos\u001b[0m\u001b[0;34m\u001b[0m\u001b[0;34m\u001b[0m\u001b[0m\n\u001b[0;32m----> 2\u001b[0;31m \u001b[0mos\u001b[0m\u001b[0;34m.\u001b[0m\u001b[0mmkdir\u001b[0m\u001b[0;34m(\u001b[0m\u001b[0;34m\"txtdata\"\u001b[0m\u001b[0;34m)\u001b[0m\u001b[0;34m\u001b[0m\u001b[0;34m\u001b[0m\u001b[0m\n\u001b[0m",
            "\u001b[0;31mFileExistsError\u001b[0m: [Errno 17] File exists: 'txtdata'"
          ]
        }
      ]
    },
    {
      "cell_type": "markdown",
      "source": [
        "[2] File upload (on colab) under the 'txtdata' folder:\n",
        "e.g., DoveAndAnt.txt\n",
        "https://raw.githubusercontent.com/MK316/mynltkdata/main/data/DoveAndAnt.txt"
      ],
      "metadata": {
        "id": "pbQooI7rkQQP"
      }
    },
    {
      "cell_type": "code",
      "source": [
        "# Upload files under txtdata folder on the left panel.\n",
        "\n",
        "print(\"Have you uploaded texts to tag? Type y or n\")\n",
        "answer = input()\n",
        "\n",
        "if answer == 'y':\n",
        "   print(\"OK, proceed the next step.\")\n",
        "else:\n",
        "   print(\"Try again when the file is located properly. (This is just a checking.\")\n"
      ],
      "metadata": {
        "colab": {
          "base_uri": "https://localhost:8080/"
        },
        "id": "3pbYmCTKCQh8",
        "outputId": "16a8aff2-1a18-430f-d13b-20984693c536"
      },
      "execution_count": null,
      "outputs": [
        {
          "output_type": "stream",
          "name": "stdout",
          "text": [
            "Have you uploaded texts to tag? Type y or n\n",
            "y\n",
            "OK, we'll move on.\n"
          ]
        }
      ]
    },
    {
      "cell_type": "markdown",
      "source": [
        "## Checking current directory & change current directory\n",
        "\n",
        "---\n",
        "Current data location: /content/txtdata/DoveAndAnt.txt\n",
        "\n",
        "Current directory should be '/content'\n",
        "and the directory to input is 'corp', where text file is located.\n"
      ],
      "metadata": {
        "id": "eIAvf9qPs4DM"
      }
    },
    {
      "cell_type": "code",
      "source": [
        "!pwd\n",
        "# %cd /content/"
      ],
      "metadata": {
        "id": "PV8OHtE2svsX"
      },
      "execution_count": null,
      "outputs": []
    },
    {
      "cell_type": "code",
      "source": [
        "from corpus_toolkit import corpus_tools as ct\n",
        "txt_corp = ct.ldcorpus(\"txtdata\") #load and read text files under 'txtdata' directory\n",
        "tok_corp = ct.tokenize(txt_corp) #tokenize corpus - by default this lemmatizes as well\n",
        "word_freq = ct.frequency(tok_corp) #creates a frequency dictionary"
      ],
      "metadata": {
        "id": "zeqch2yNmGM0"
      },
      "execution_count": null,
      "outputs": []
    },
    {
      "cell_type": "markdown",
      "source": [
        "## Write a tagged file under '/content/tagged_txt'\n"
      ],
      "metadata": {
        "id": "R6RlPDadv0Tp"
      }
    },
    {
      "cell_type": "code",
      "source": [
        "# tagged_txt (tagged data folder), txtdata (original data folder)\n",
        "ct.write_corpus(\"tagged_txt\",ct.tag(ct.ldcorpus(\"txtdata\")))"
      ],
      "metadata": {
        "id": "3j_TbVhImP2M"
      },
      "execution_count": null,
      "outputs": []
    },
    {
      "cell_type": "code",
      "source": [
        "tagged_freq = ct.frequency(ct.reload(\"tagged_txt\"))\n",
        "ct.head(tagged_freq, hits = 10)"
      ],
      "metadata": {
        "id": "J5RQ2WHBofP7"
      },
      "execution_count": null,
      "outputs": []
    },
    {
      "cell_type": "code",
      "source": [
        "type(tagged_freq) # dict"
      ],
      "metadata": {
        "id": "ye6IfuHdxyJK"
      },
      "execution_count": null,
      "outputs": []
    },
    {
      "cell_type": "markdown",
      "source": [
        "# Save Tagged_freq as Data frame"
      ],
      "metadata": {
        "id": "eHOLnOp2zIZ4"
      }
    },
    {
      "cell_type": "code",
      "source": [
        "import pandas as pd"
      ],
      "metadata": {
        "id": "KWChGmPgzimF"
      },
      "execution_count": null,
      "outputs": []
    },
    {
      "cell_type": "code",
      "source": [
        "data_dict = tagged_freq\n",
        "data_items = data_dict. items()\n",
        "data_list = list(data_items)\n",
        "df = pd.DataFrame(data_list)\n",
        "print(df)"
      ],
      "metadata": {
        "colab": {
          "base_uri": "https://localhost:8080/"
        },
        "id": "3Ff1neOwx1PK",
        "outputId": "61989848-9473-48bf-d7fe-0d0358f5736a"
      },
      "execution_count": null,
      "outputs": [
        {
          "output_type": "stream",
          "name": "stdout",
          "text": [
            "                  0    1\n",
            "0          ﻿the_NUM    1\n",
            "1        visual_ADJ    2\n",
            "2      village_NOUN    1\n",
            "3        before_ADP    4\n",
            "4           the_DET  115\n",
            "..              ...  ...\n",
            "821    caution_NOUN    1\n",
            "822  thoroughly_ADV    1\n",
            "823       sound_ADJ    1\n",
            "824   judgment_NOUN    1\n",
            "825      enjoy_VERB    1\n",
            "\n",
            "[826 rows x 2 columns]\n"
          ]
        }
      ]
    },
    {
      "cell_type": "markdown",
      "source": [
        "# Write a tagged frequency dataframe to a csv file (on Colab)"
      ],
      "metadata": {
        "id": "Dt8juzff0xeX"
      }
    },
    {
      "cell_type": "code",
      "source": [
        "df.to_csv(r'/content/tagged.csv', index=False)"
      ],
      "metadata": {
        "id": "93eI3khd0O8p"
      },
      "execution_count": null,
      "outputs": []
    },
    {
      "cell_type": "markdown",
      "source": [
        "# Read the tagged csv file for further process"
      ],
      "metadata": {
        "id": "beKtexDH056R"
      }
    },
    {
      "cell_type": "code",
      "source": [
        "df1 = pd.read_csv('tagged.csv') "
      ],
      "metadata": {
        "id": "kCqQoGwN0m6V"
      },
      "execution_count": null,
      "outputs": []
    },
    {
      "cell_type": "markdown",
      "source": [
        "# Try R from here:"
      ],
      "metadata": {
        "id": "5bFxQXUoz98b"
      }
    },
    {
      "cell_type": "code",
      "source": [
        "%load_ext rpy2.ipython"
      ],
      "metadata": {
        "id": "V16lv59UztMW"
      },
      "execution_count": null,
      "outputs": []
    },
    {
      "cell_type": "code",
      "source": [
        "%%R\n",
        "df2<-read.csv('tagged.csv')"
      ],
      "metadata": {
        "id": "-tm-m6Xg0BcO"
      },
      "execution_count": null,
      "outputs": []
    },
    {
      "cell_type": "code",
      "source": [
        "%%R\n",
        "head(df2)"
      ],
      "metadata": {
        "colab": {
          "base_uri": "https://localhost:8080/"
        },
        "id": "2osnpBuB1y5p",
        "outputId": "a9eb9cef-1447-4652-937a-95738b52b022"
      },
      "execution_count": null,
      "outputs": [
        {
          "output_type": "stream",
          "name": "stdout",
          "text": [
            "            X0  X1\n",
            "1      the_NUM   1\n",
            "2   visual_ADJ   2\n",
            "3 village_NOUN   1\n",
            "4   before_ADP   4\n",
            "5      the_DET 115\n",
            "6     age_NOUN   2\n"
          ]
        }
      ]
    },
    {
      "cell_type": "code",
      "source": [
        "%%R\n",
        "colnames(df2) <- c('Tagwords','Freq')\n",
        "colnames(df2)"
      ],
      "metadata": {
        "colab": {
          "base_uri": "https://localhost:8080/"
        },
        "id": "gE7u2VfI2Clo",
        "outputId": "7a885742-d47b-48bd-8dca-a6c4dc039dc9"
      },
      "execution_count": null,
      "outputs": [
        {
          "output_type": "stream",
          "name": "stdout",
          "text": [
            "[1] \"Tagwords\" \"Freq\"    \n"
          ]
        }
      ]
    },
    {
      "cell_type": "code",
      "source": [
        "%%R\n",
        "\n",
        "t1 <- df2$Tagwords\n",
        "t2<-t1[1]; t2\n",
        "# t3<-as.vector(strsplit(t2,'_')); t3\n",
        "t3<-gsub(\"[a-zA-Z]+_\",\"\",t2); t3"
      ],
      "metadata": {
        "colab": {
          "base_uri": "https://localhost:8080/"
        },
        "id": "I6DxnjJj2juT",
        "outputId": "8c378cd3-cd30-427f-909a-e40a21f39089"
      },
      "execution_count": null,
      "outputs": [
        {
          "output_type": "stream",
          "name": "stdout",
          "text": [
            "[1] \"NUM\"\n"
          ]
        }
      ]
    },
    {
      "cell_type": "code",
      "source": [
        "%%R\n",
        "df3<-df2\n",
        "head(df3)\n",
        "pos = df3$Tagwords\n",
        "word = df3$Tagwords\n",
        "\n",
        "POS = gsub(\"[[:alnum:]|[:punct:]]+_\",\"\",pos)\n",
        "WORD = gsub(\"_[A-Z]+\",\"\",word)\n",
        "df4<-cbind.data.frame(Tagged=df3$Tagwords, Words = WORD, POS=POS, Freq=df3$Freq)\n",
        "df4"
      ],
      "metadata": {
        "id": "2fVeXzRH8Eqz"
      },
      "execution_count": null,
      "outputs": []
    },
    {
      "cell_type": "code",
      "source": [
        "%%R\n",
        "# Sort by Freq in decreasing order:\n",
        "df5<-df4[order(df4$Freq, decreasing=T),]; head(df5)\n",
        "# Add new index: serial numbering\n",
        "len<-length(df5$Words)\n",
        "indx<-1:len\n",
        "\n",
        "df6<-data.frame(ID = indx, df5)\n",
        "\n",
        "# Save the result file in csv\n",
        "write.csv(df6, \"tagwordlist.csv\", row.names=FALSE)"
      ],
      "metadata": {
        "id": "1AOWjThR9YSE"
      },
      "execution_count": null,
      "outputs": []
    }
  ]
}