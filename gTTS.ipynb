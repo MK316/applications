{
  "nbformat": 4,
  "nbformat_minor": 0,
  "metadata": {
    "colab": {
      "name": "gTTS.ipynb",
      "provenance": [],
      "authorship_tag": "ABX9TyMBWChnk2dey3CyfhB5n540",
      "include_colab_link": true
    },
    "kernelspec": {
      "name": "python3",
      "display_name": "Python 3"
    },
    "language_info": {
      "name": "python"
    }
  },
  "cells": [
    {
      "cell_type": "markdown",
      "metadata": {
        "id": "view-in-github",
        "colab_type": "text"
      },
      "source": [
        "<a href=\"https://colab.research.google.com/github/MK316/applications/blob/main/gTTS.ipynb\" target=\"_parent\"><img src=\"https://colab.research.google.com/assets/colab-badge.svg\" alt=\"Open In Colab\"/></a>"
      ]
    },
    {
      "cell_type": "code",
      "source": [
        "#@markdown Step #1:🚩 install {Gradio}{gTTS} packages and import:\n",
        "%%capture\n",
        "!pip install gradio\n",
        "\n",
        "import gradio as gr\n",
        "\n",
        "!pip install gTTS\n",
        "from gtts import gTTS\n",
        "from IPython.display import Audio"
      ],
      "metadata": {
        "id": "dsHlqxTQMZwG",
        "cellView": "form"
      },
      "execution_count": null,
      "outputs": []
    },
    {
      "cell_type": "code",
      "source": [
        ""
      ],
      "metadata": {
        "id": "KqmVPVldIl5w"
      },
      "execution_count": 3,
      "outputs": []
    },
    {
      "cell_type": "code",
      "source": [
        "#@markdown 🚩 Making a function { tts ( _text_to_say_) }:\n",
        "def tts(text):\n",
        "\n",
        "  !pip install gTTS\n",
        "  from gtts import gTTS\n",
        "  from IPython.display import Audio\n",
        "\n",
        "  text_to_say = text\n",
        "\n",
        "# Step ⓵ Language to choose:\n",
        "  language_to_choose = \"en\" #@param [\"en\", \"fr\",\"ko\",'es']\n",
        "  # lang = language_to_choose\n",
        "  print(\"Play language accent: %s\"%language_to_choose)\n",
        "  language = language_to_choose\n",
        "\n",
        "# gTTS\n",
        "  gtts_object = gTTS(text = text_to_say,\n",
        "                     lang = language,\n",
        "                    slow = False)\n",
        "  \n",
        "# #@markdown Step ③: Create the audio file (.wav) to play:\n",
        "  gtts_object.save(\"mytext.wav\")\n",
        "\n",
        "# # Output\n",
        "  return Audio(\"mytext.wav\")\n",
        "\n",
        "#@markdown 🚩 Type text to say"
      ],
      "metadata": {
        "id": "Qb4Kz9jBJC4B"
      },
      "execution_count": 15,
      "outputs": []
    },
    {
      "cell_type": "code",
      "source": [
        "text_to_say = input()\n",
        "tts(text_to_say)"
      ],
      "metadata": {
        "colab": {
          "base_uri": "https://localhost:8080/",
          "height": 271
        },
        "id": "gh_KiWXkNAjp",
        "outputId": "15ea031a-4159-4d39-f5d4-03205a282e39"
      },
      "execution_count": 17,
      "outputs": [
        {
          "output_type": "stream",
          "name": "stdout",
          "text": [
            "They lived happy after.\n",
            "Looking in indexes: https://pypi.org/simple, https://us-python.pkg.dev/colab-wheels/public/simple/\n",
            "Requirement already satisfied: gTTS in /usr/local/lib/python3.7/dist-packages (2.2.4)\n",
            "Requirement already satisfied: six in /usr/local/lib/python3.7/dist-packages (from gTTS) (1.15.0)\n",
            "Requirement already satisfied: click in /usr/local/lib/python3.7/dist-packages (from gTTS) (7.1.2)\n",
            "Requirement already satisfied: requests in /usr/local/lib/python3.7/dist-packages (from gTTS) (2.23.0)\n",
            "Requirement already satisfied: certifi>=2017.4.17 in /usr/local/lib/python3.7/dist-packages (from requests->gTTS) (2022.5.18.1)\n",
            "Requirement already satisfied: idna<3,>=2.5 in /usr/local/lib/python3.7/dist-packages (from requests->gTTS) (2.10)\n",
            "Requirement already satisfied: urllib3!=1.25.0,!=1.25.1,<1.26,>=1.21.1 in /usr/local/lib/python3.7/dist-packages (from requests->gTTS) (1.24.3)\n",
            "Requirement already satisfied: chardet<4,>=3.0.2 in /usr/local/lib/python3.7/dist-packages (from requests->gTTS) (3.0.4)\n",
            "Play language accent: en\n"
          ]
        },
        {
          "output_type": "execute_result",
          "data": {
            "text/plain": [
              "<IPython.lib.display.Audio object>"
            ],
            "text/html": [
              "\n",
              "                <audio controls=\"controls\" >\n",
              "                    <source src=\"data:audio/x-wav;base64,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\" type=\"audio/x-wav\" />\n",
              "                    Your browser does not support the audio element.\n",
              "                </audio>\n",
              "              "
            ]
          },
          "metadata": {},
          "execution_count": 17
        }
      ]
    },
    {
      "cell_type": "code",
      "execution_count": 18,
      "metadata": {
        "id": "uzZkFNVSHqCs"
      },
      "outputs": [],
      "source": [
        "#@markdown 🚫 Gradio failed.\n",
        "# iface = gr.Interface(tts, inputs = [\"text\"], outputs = [\"audio\"])\n",
        "# iface.launch(debug=True)"
      ]
    }
  ]
}