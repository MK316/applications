{
  "nbformat": 4,
  "nbformat_minor": 0,
  "metadata": {
    "colab": {
      "provenance": [],
      "authorship_tag": "ABX9TyOjSTPIDDhq2Dh8fHVUXjPn",
      "include_colab_link": true
    },
    "kernelspec": {
      "name": "python3",
      "display_name": "Python 3"
    },
    "language_info": {
      "name": "python"
    }
  },
  "cells": [
    {
      "cell_type": "markdown",
      "metadata": {
        "id": "view-in-github",
        "colab_type": "text"
      },
      "source": [
        "<a href=\"https://colab.research.google.com/github/MK316/applications/blob/main/Wordguessing_game.ipynb\" target=\"_parent\"><img src=\"https://colab.research.google.com/assets/colab-badge.svg\" alt=\"Open In Colab\"/></a>"
      ]
    },
    {
      "cell_type": "markdown",
      "source": [
        "# 🌀 Language game app:"
      ],
      "metadata": {
        "id": "9BqUavbXwQ94"
      }
    },
    {
      "cell_type": "markdown",
      "source": [
        "# 💕 Goal: Word guessing game from hints"
      ],
      "metadata": {
        "id": "ppmHMRdisMiv"
      }
    },
    {
      "cell_type": "code",
      "source": [
        "#@markdown Demo: guesiong game\n",
        "import random\n",
        "\n",
        "# Define a dictionary of words and their hints\n",
        "word_hints = {\n",
        "    \"suprasegmental\": [\n",
        "        \"This term is related to the features of speech that go beyond individual sounds.\",\n",
        "        \"It is often associated with intonation, stress, and timing.\",\n",
        "        \"Examples include pitch, tone, and stress patterns.\",\n",
        "        \"The answer begins with 's'.\"\n",
        "    ],\n",
        "    \"geminate\": [\n",
        "        \"This term is related to a specific type of consonant.\",\n",
        "        \"It refers to a consonant that is pronounced for a longer duration than its regular counterpart.\",\n",
        "        \"In some languages, it can be represented by doubling the consonant in writing.\",\n",
        "        \"The answer begins with 'g'.\"\n",
        "    ],\n",
        "    \"syllable\": [\n",
        "        \"This term is related to a unit of speech.\",\n",
        "        \"It is a sequence of speech sounds, typically consisting of a vowel and any surrounding consonants.\",\n",
        "        \"A word can have one or multiple of these units.\",\n",
        "        \"The answer begins with 's'.\"\n",
        "    ]\n",
        "}\n",
        "\n",
        "# Define guessing game\n",
        "\n",
        "def guessing_game(word_hints):\n",
        "    words = list(word_hints.keys())\n",
        "    random.shuffle(words)\n",
        "\n",
        "    for word in words:\n",
        "        print(\"\\nGuess the word based on the following hints:\")\n",
        "        hints = word_hints[word]\n",
        "        attempts = 0\n",
        "\n",
        "        while attempts < len(hints):\n",
        "            print(f\"Hint {attempts + 1}: {hints[attempts]}\")\n",
        "            guess = input(\"Your guess: \").strip().lower()\n",
        "\n",
        "            if guess == word.lower():\n",
        "                print(\"Congratulations! You guessed the correct word!\\n\")\n",
        "                break\n",
        "            else:\n",
        "                print(\"Incorrect. Try again with another hint.\\n\")\n",
        "                attempts += 1\n",
        "\n",
        "        if attempts == len(hints):\n",
        "            print(f\"Sorry, you've run out of hints. The correct word was: {word}\\n\")\n",
        "\n",
        "# Using this conditional structure is a common practice in Python to allow a script to be both executed as a standalone program and imported as a module in other scripts without immediately running the code within the script.\n",
        "if __name__ == \"__main__\":\n",
        "  guessing_game(word_hints)"
      ],
      "metadata": {
        "cellView": "form",
        "id": "68fDLUnZs8KF"
      },
      "execution_count": null,
      "outputs": []
    },
    {
      "cell_type": "markdown",
      "source": [
        "---\n",
        "# 📙Concepts and elements to learn beforehand:\n",
        "\n",
        "0. Importing modules: Explain how to import a module (like random) and use its functions (like random.shuffle()).\n",
        "\n",
        "1. Python basics: Basic data types (strings, integers, lists, dictionaries), variables, and basic input/output functions (like print() and input()).\n",
        "\n",
        "2. String manipulation: Cover string methods like .strip() and .lower().\n",
        "3. Control structures: Introduce for loops, while loops, and conditional statements (if, elif, else).\n",
        "\n",
        "4. Functions: Explain how to define and use functions, including function parameters. \n",
        "\n",
        "5. F-strings: Introduce f-strings (formatted string literals) and how to embed expressions inside string literals using curly braces {}.\n",
        "---"
      ],
      "metadata": {
        "id": "2VMRdKbJwOsk"
      }
    },
    {
      "cell_type": "markdown",
      "source": [
        "# [0] Importing modules\n",
        "\n",
        "1. **function, class, module, package, and library**\n",
        "\n",
        "> class > functions\n",
        "\n",
        "\n",
        "2. Let's use the analogy of a toolbox: \n",
        "\n",
        "+ **a module** is a single tool, (e.g., random) \n",
        "+ **a package** is a toolbox containing multiple tools (e.g., gTTS)\n",
        "+ **a library** is a set of toolboxes designed for a specific purpose. (e.g., nltk - Natural Language Tool Kit) _>> Next time_"
      ],
      "metadata": {
        "id": "wgZEzhkQwzc3"
      }
    },
    {
      "cell_type": "markdown",
      "source": [
        "##A. 'gTTS' package"
      ],
      "metadata": {
        "id": "298wKG9q7-rN"
      }
    },
    {
      "cell_type": "code",
      "source": [
        "!pip install gtts\n",
        "!pip install IPython\n",
        "from gtts import gTTS\n",
        "from IPython.display import Audio, display"
      ],
      "metadata": {
        "colab": {
          "base_uri": "https://localhost:8080/"
        },
        "id": "YLCRqNbW8E9J",
        "outputId": "4ccd64e9-bc18-4711-ab44-485280c506f8"
      },
      "execution_count": 128,
      "outputs": [
        {
          "output_type": "stream",
          "name": "stdout",
          "text": [
            "Looking in indexes: https://pypi.org/simple, https://us-python.pkg.dev/colab-wheels/public/simple/\n",
            "Requirement already satisfied: gtts in /usr/local/lib/python3.9/dist-packages (2.3.1)\n",
            "Requirement already satisfied: click<8.2,>=7.1 in /usr/local/lib/python3.9/dist-packages (from gtts) (8.1.3)\n",
            "Requirement already satisfied: requests<3,>=2.27 in /usr/local/lib/python3.9/dist-packages (from gtts) (2.27.1)\n",
            "Requirement already satisfied: certifi>=2017.4.17 in /usr/local/lib/python3.9/dist-packages (from requests<3,>=2.27->gtts) (2022.12.7)\n",
            "Requirement already satisfied: urllib3<1.27,>=1.21.1 in /usr/local/lib/python3.9/dist-packages (from requests<3,>=2.27->gtts) (1.26.15)\n",
            "Requirement already satisfied: charset-normalizer~=2.0.0 in /usr/local/lib/python3.9/dist-packages (from requests<3,>=2.27->gtts) (2.0.12)\n",
            "Requirement already satisfied: idna<4,>=2.5 in /usr/local/lib/python3.9/dist-packages (from requests<3,>=2.27->gtts) (3.4)\n",
            "Looking in indexes: https://pypi.org/simple, https://us-python.pkg.dev/colab-wheels/public/simple/\n",
            "Requirement already satisfied: IPython in /usr/local/lib/python3.9/dist-packages (7.34.0)\n",
            "Requirement already satisfied: backcall in /usr/local/lib/python3.9/dist-packages (from IPython) (0.2.0)\n",
            "Requirement already satisfied: matplotlib-inline in /usr/local/lib/python3.9/dist-packages (from IPython) (0.1.6)\n",
            "Requirement already satisfied: pygments in /usr/local/lib/python3.9/dist-packages (from IPython) (2.14.0)\n",
            "Collecting jedi>=0.16\n",
            "  Downloading jedi-0.18.2-py2.py3-none-any.whl (1.6 MB)\n",
            "\u001b[2K     \u001b[90m━━━━━━━━━━━━━━━━━━━━━━━━━━━━━━━━━━━━━━━━\u001b[0m \u001b[32m1.6/1.6 MB\u001b[0m \u001b[31m24.7 MB/s\u001b[0m eta \u001b[36m0:00:00\u001b[0m\n",
            "\u001b[?25hRequirement already satisfied: pickleshare in /usr/local/lib/python3.9/dist-packages (from IPython) (0.7.5)\n",
            "Requirement already satisfied: setuptools>=18.5 in /usr/local/lib/python3.9/dist-packages (from IPython) (67.6.1)\n",
            "Requirement already satisfied: prompt-toolkit!=3.0.0,!=3.0.1,<3.1.0,>=2.0.0 in /usr/local/lib/python3.9/dist-packages (from IPython) (3.0.38)\n",
            "Requirement already satisfied: traitlets>=4.2 in /usr/local/lib/python3.9/dist-packages (from IPython) (5.7.1)\n",
            "Requirement already satisfied: decorator in /usr/local/lib/python3.9/dist-packages (from IPython) (4.4.2)\n",
            "Requirement already satisfied: pexpect>4.3 in /usr/local/lib/python3.9/dist-packages (from IPython) (4.8.0)\n",
            "Requirement already satisfied: parso<0.9.0,>=0.8.0 in /usr/local/lib/python3.9/dist-packages (from jedi>=0.16->IPython) (0.8.3)\n",
            "Requirement already satisfied: ptyprocess>=0.5 in /usr/local/lib/python3.9/dist-packages (from pexpect>4.3->IPython) (0.7.0)\n",
            "Requirement already satisfied: wcwidth in /usr/local/lib/python3.9/dist-packages (from prompt-toolkit!=3.0.0,!=3.0.1,<3.1.0,>=2.0.0->IPython) (0.2.6)\n",
            "Installing collected packages: jedi\n",
            "Successfully installed jedi-0.18.2\n"
          ]
        }
      ]
    },
    {
      "cell_type": "code",
      "source": [
        "#@markdown etts(), ktts()\n",
        "def etts(text):\n",
        "  text_to_say = text\n",
        "\n",
        "  gtts_object = gTTS(text = text_to_say,\n",
        "                     lang = \"en\",\n",
        "                    slow = False)\n",
        "  \n",
        "  gtts_object.save(\"E-audio.mp3\")\n",
        "  return Audio(\"E-audio.mp3\")\n",
        "\n",
        "def ktts(text):\n",
        "  text_to_say = text\n",
        "\n",
        "  gtts_object = gTTS(text = text_to_say,\n",
        "                     lang = \"ko\",\n",
        "                    slow = False)\n",
        "  \n",
        "  gtts_object.save(\"K-audio.mp3\")\n",
        "  return Audio(\"K-audio.mp3\")"
      ],
      "metadata": {
        "cellView": "form",
        "id": "bYDfENzGRUFb"
      },
      "execution_count": 129,
      "outputs": []
    },
    {
      "cell_type": "markdown",
      "source": [
        "## B. 'random' module"
      ],
      "metadata": {
        "id": "vSFe_Umb68o9"
      }
    },
    {
      "cell_type": "code",
      "source": [
        "import random"
      ],
      "metadata": {
        "id": "t8tYICF_1Yx8"
      },
      "execution_count": null,
      "outputs": []
    },
    {
      "cell_type": "code",
      "source": [
        "random.randint(1, 10) #random.randint(x,y)는 함수이므로 문법대로 사용해야 함."
      ],
      "metadata": {
        "colab": {
          "base_uri": "https://localhost:8080/"
        },
        "id": "sMf1Ow7W11EZ",
        "outputId": "74718801-0c18-4cfb-af62-186ad9f274c1"
      },
      "execution_count": 44,
      "outputs": [
        {
          "output_type": "execute_result",
          "data": {
            "text/plain": [
              "7"
            ]
          },
          "metadata": {},
          "execution_count": 44
        }
      ]
    },
    {
      "cell_type": "code",
      "source": [
        "a1 = random.randint(1, 10)\n",
        "a1*10  #변수를 이용하면 결과값을 이용한 다른 연산이나 작업이 가능하다."
      ],
      "metadata": {
        "colab": {
          "base_uri": "https://localhost:8080/"
        },
        "id": "WUVN9-Rs825s",
        "outputId": "43c1e22d-0456-4781-c316-12761d823ced"
      },
      "execution_count": 51,
      "outputs": [
        {
          "output_type": "execute_result",
          "data": {
            "text/plain": [
              "20"
            ]
          },
          "metadata": {},
          "execution_count": 51
        }
      ]
    },
    {
      "cell_type": "markdown",
      "source": [
        "# [1] Python basics: \n",
        "\n",
        "+ Basic data types (strings, integers, lists, dictionaries), \n",
        "+ variables, \n",
        "+ basic input/output functions (like print() and input()).\n",
        "\n"
      ],
      "metadata": {
        "id": "_vTm-kXl8qa_"
      }
    },
    {
      "cell_type": "markdown",
      "source": [
        "## [1-1] Basic data types"
      ],
      "metadata": {
        "id": "qaQ0_hkoENRX"
      }
    },
    {
      "cell_type": "markdown",
      "source": [
        "### A. strings"
      ],
      "metadata": {
        "id": "HB86s1k990Hh"
      }
    },
    {
      "cell_type": "code",
      "source": [
        "a2 = \"Welcome\"\n",
        "a3 = \"2023\""
      ],
      "metadata": {
        "id": "L_OImwSL94Kr"
      },
      "execution_count": 54,
      "outputs": []
    },
    {
      "cell_type": "markdown",
      "source": [
        "☺️ DIY: How to get \"Welcome, 2023!\""
      ],
      "metadata": {
        "id": "wkYUBwu1-IvG"
      }
    },
    {
      "cell_type": "code",
      "source": [],
      "metadata": {
        "id": "XZ2LHJcl9_u4"
      },
      "execution_count": null,
      "outputs": []
    },
    {
      "cell_type": "markdown",
      "source": [
        "☺️ DIY: Let a4 = \"화이팅\", and get '화이팅화이팅화이팅화이팅화이팅화이팅화이팅화이팅화이팅화이팅'(10번)"
      ],
      "metadata": {
        "id": "WNaHBznU-yEd"
      }
    },
    {
      "cell_type": "code",
      "source": [],
      "metadata": {
        "id": "0vfPcih3-xg4"
      },
      "execution_count": null,
      "outputs": []
    },
    {
      "cell_type": "code",
      "source": [
        "type(a2)"
      ],
      "metadata": {
        "colab": {
          "base_uri": "https://localhost:8080/"
        },
        "id": "1XroWNyGADZU",
        "outputId": "a02a8e57-341c-4371-c6e9-69e0146715cd"
      },
      "execution_count": 59,
      "outputs": [
        {
          "output_type": "execute_result",
          "data": {
            "text/plain": [
              "str"
            ]
          },
          "metadata": {},
          "execution_count": 59
        }
      ]
    },
    {
      "cell_type": "markdown",
      "source": [
        "###B. Integers"
      ],
      "metadata": {
        "id": "kpNXrqZ2_9I2"
      }
    },
    {
      "cell_type": "code",
      "source": [
        "x1 = 45; y1 = 0.5\n",
        "x1 * y1"
      ],
      "metadata": {
        "colab": {
          "base_uri": "https://localhost:8080/"
        },
        "id": "CEs2BHNbAB1Q",
        "outputId": "e9223c24-0cab-4b1f-8084-3cde1df8bbe3"
      },
      "execution_count": 60,
      "outputs": [
        {
          "output_type": "execute_result",
          "data": {
            "text/plain": [
              "22.5"
            ]
          },
          "metadata": {},
          "execution_count": 60
        }
      ]
    },
    {
      "cell_type": "markdown",
      "source": [
        "### C. List datatype"
      ],
      "metadata": {
        "id": "S7PJcJFkBO46"
      }
    },
    {
      "cell_type": "code",
      "source": [
        "x2 = [1,2,3]\n",
        "x2"
      ],
      "metadata": {
        "colab": {
          "base_uri": "https://localhost:8080/"
        },
        "id": "LjSEH6lABR98",
        "outputId": "e55e4940-91fe-4be1-f5c0-9424781649d7"
      },
      "execution_count": 70,
      "outputs": [
        {
          "output_type": "execute_result",
          "data": {
            "text/plain": [
              "[1, 2, 3]"
            ]
          },
          "metadata": {},
          "execution_count": 70
        }
      ]
    },
    {
      "cell_type": "code",
      "source": [
        "x2[0]"
      ],
      "metadata": {
        "colab": {
          "base_uri": "https://localhost:8080/"
        },
        "id": "VGWl1av6BYGu",
        "outputId": "7e710212-efbe-47fb-e81f-cbdf20803c55"
      },
      "execution_count": 71,
      "outputs": [
        {
          "output_type": "execute_result",
          "data": {
            "text/plain": [
              "1"
            ]
          },
          "metadata": {},
          "execution_count": 71
        }
      ]
    },
    {
      "cell_type": "code",
      "source": [
        "x3 = range(1,10)\n",
        "list(x3)  #list(), range(1,10)"
      ],
      "metadata": {
        "colab": {
          "base_uri": "https://localhost:8080/"
        },
        "id": "WNmjoCQ1ANr4",
        "outputId": "6b0aae7b-d966-47c1-f147-84911b0e91f5"
      },
      "execution_count": 73,
      "outputs": [
        {
          "output_type": "execute_result",
          "data": {
            "text/plain": [
              "[1, 2, 3, 4, 5, 6, 7, 8, 9]"
            ]
          },
          "metadata": {},
          "execution_count": 73
        }
      ]
    },
    {
      "cell_type": "code",
      "source": [
        "x4 = \"John\"\n",
        "list(x4)"
      ],
      "metadata": {
        "colab": {
          "base_uri": "https://localhost:8080/"
        },
        "id": "amRP-ytuBlO6",
        "outputId": "5d4370a3-d0c3-4f09-e4ee-2a46a25ed880"
      },
      "execution_count": 79,
      "outputs": [
        {
          "output_type": "execute_result",
          "data": {
            "text/plain": [
              "['J', 'o', 'h', 'n']"
            ]
          },
          "metadata": {},
          "execution_count": 79
        }
      ]
    },
    {
      "cell_type": "markdown",
      "source": [
        "###D. Dictionary datatype: {'key':'value'}\n",
        "\n",
        "In Python, a dictionary is a built-in data type that represents a collection of key-value pairs. Each key-value pair in a dictionary is separated by a colon (:), and each pair is separated by a comma. "
      ],
      "metadata": {
        "id": "ZoyOSN_QCCdO"
      }
    },
    {
      "cell_type": "code",
      "source": [
        "mydict = {\"API\":\"Application Programming Interface\", \"GPT\":\"Generative Pretrained Transformer\"}\n",
        "mydict['API']"
      ],
      "metadata": {
        "colab": {
          "base_uri": "https://localhost:8080/",
          "height": 35
        },
        "id": "PdRkfL3JBMWK",
        "outputId": "eea761da-6960-4037-c7d0-aaeb3df82eed"
      },
      "execution_count": 83,
      "outputs": [
        {
          "output_type": "execute_result",
          "data": {
            "text/plain": [
              "'Application Programming Interface'"
            ],
            "application/vnd.google.colaboratory.intrinsic+json": {
              "type": "string"
            }
          },
          "metadata": {},
          "execution_count": 83
        }
      ]
    },
    {
      "cell_type": "code",
      "source": [
        "class_size = {\"Class A\": 25, \"Class B\": 30, \"Class C\": 32}\n",
        "class_size['Class C']"
      ],
      "metadata": {
        "colab": {
          "base_uri": "https://localhost:8080/"
        },
        "id": "WBs-NrEJDQRC",
        "outputId": "66c81cca-ad52-4cb6-9b9c-3910f3953874"
      },
      "execution_count": 86,
      "outputs": [
        {
          "output_type": "execute_result",
          "data": {
            "text/plain": [
              "32"
            ]
          },
          "metadata": {},
          "execution_count": 86
        }
      ]
    },
    {
      "cell_type": "markdown",
      "source": [
        "## [1-2] Variables"
      ],
      "metadata": {
        "id": "0m_ux_SoEUos"
      }
    },
    {
      "cell_type": "markdown",
      "source": [
        "## [1-3] input/output functions"
      ],
      "metadata": {
        "id": "YUasz63dEYAX"
      }
    },
    {
      "cell_type": "code",
      "source": [
        "mynumber = 2\n",
        "mynumber"
      ],
      "metadata": {
        "colab": {
          "base_uri": "https://localhost:8080/"
        },
        "id": "BSp7TWkeEfmz",
        "outputId": "3bcd84d2-c721-4bc7-da68-a245706b8b5c"
      },
      "execution_count": 87,
      "outputs": [
        {
          "output_type": "execute_result",
          "data": {
            "text/plain": [
              "2"
            ]
          },
          "metadata": {},
          "execution_count": 87
        }
      ]
    },
    {
      "cell_type": "code",
      "source": [
        "yournumber = input()  # In Python, input() is a built-in function that allows you to get user input from the keyboard. \n",
        "yournumber"
      ],
      "metadata": {
        "colab": {
          "base_uri": "https://localhost:8080/",
          "height": 54
        },
        "id": "6LZudH_0En_w",
        "outputId": "079033e9-65ba-4c80-f523-eb205e64b0f9"
      },
      "execution_count": 89,
      "outputs": [
        {
          "name": "stdout",
          "output_type": "stream",
          "text": [
            "5\n"
          ]
        },
        {
          "output_type": "execute_result",
          "data": {
            "text/plain": [
              "'5'"
            ],
            "application/vnd.google.colaboratory.intrinsic+json": {
              "type": "string"
            }
          },
          "metadata": {},
          "execution_count": 89
        }
      ]
    },
    {
      "cell_type": "markdown",
      "source": [
        "☺️ After running the code below, can you tell me what the resulting output means?"
      ],
      "metadata": {
        "id": "-Z1mQqzlH4k5"
      }
    },
    {
      "cell_type": "code",
      "source": [
        "yournumber*5"
      ],
      "metadata": {
        "colab": {
          "base_uri": "https://localhost:8080/",
          "height": 35
        },
        "id": "5cGgSs3qHxG_",
        "outputId": "a4b0fecf-b24d-49f4-9736-98e346d5ec6f"
      },
      "execution_count": 92,
      "outputs": [
        {
          "output_type": "execute_result",
          "data": {
            "text/plain": [
              "'55555'"
            ],
            "application/vnd.google.colaboratory.intrinsic+json": {
              "type": "string"
            }
          },
          "metadata": {},
          "execution_count": 92
        }
      ]
    },
    {
      "cell_type": "code",
      "source": [
        "type(yournumber)"
      ],
      "metadata": {
        "colab": {
          "base_uri": "https://localhost:8080/"
        },
        "id": "664rKEalISSY",
        "outputId": "10b05336-e3b0-4635-e37b-762273254439"
      },
      "execution_count": 93,
      "outputs": [
        {
          "output_type": "execute_result",
          "data": {
            "text/plain": [
              "str"
            ]
          },
          "metadata": {},
          "execution_count": 93
        }
      ]
    },
    {
      "cell_type": "code",
      "source": [
        "yournumber = int(yournumber) # changing the type of the value to integer\n",
        "type(yournumber)"
      ],
      "metadata": {
        "colab": {
          "base_uri": "https://localhost:8080/"
        },
        "id": "u_ocEyoAIVC4",
        "outputId": "97848ed9-25ef-4fe1-8390-431bdba87cc3"
      },
      "execution_count": 95,
      "outputs": [
        {
          "output_type": "execute_result",
          "data": {
            "text/plain": [
              "int"
            ]
          },
          "metadata": {},
          "execution_count": 95
        }
      ]
    },
    {
      "cell_type": "markdown",
      "source": [
        "Getting output:"
      ],
      "metadata": {
        "id": "Z9Kzd8ZW7Bri"
      }
    },
    {
      "cell_type": "code",
      "source": [
        "# print() 함수 배우기\n",
        "print(\"대한민국\")\n",
        "\n",
        "a2 = \"화이팅!\"  # a1: variable(변수)\n",
        "print(a2)\n",
        "print(a2*10)\n",
        "print(\"화이팅 10번 합시다: \", a2*10)\n",
        "a2"
      ],
      "metadata": {
        "id": "aQXDo7u-4-18"
      },
      "execution_count": null,
      "outputs": []
    },
    {
      "cell_type": "code",
      "source": [
        "print(a2)\n",
        "print(\"=\"*30)\n",
        "print(\"Random integer between 1 and 10:\", a1)"
      ],
      "metadata": {
        "colab": {
          "base_uri": "https://localhost:8080/"
        },
        "id": "0jdQu65F2ZWw",
        "outputId": "5c3a8249-b2a1-4137-f1c4-bc267b4dc653"
      },
      "execution_count": 91,
      "outputs": [
        {
          "output_type": "stream",
          "name": "stdout",
          "text": [
            "Welcome\n",
            "==============================\n",
            "Random integer between 1 and 10: 2\n"
          ]
        }
      ]
    },
    {
      "cell_type": "markdown",
      "source": [
        "☺️DIY: \n",
        "**Q: John and Mary have been together for many days. Ask Mary how many days it has been since she met John. Then you tell Mary how many hours it has been since she met John.**\n",
        "\n",
        "1. Set the variable 'day' to 24\n",
        "2. Set the variable 'num_day' for the input from the user. Get a number (number of days) from the user using input() function\n",
        "2. Calculate days to hours: set the variable 'hours' to the final result."
      ],
      "metadata": {
        "id": "cvkWAvetFtSP"
      }
    },
    {
      "cell_type": "code",
      "source": [
        "# day = \n",
        "# num_day =\n",
        "# hours = \n",
        "# print(\"The total hours passed since Mary met John are: \", hours)"
      ],
      "metadata": {
        "id": "Fdezo9WD1zju"
      },
      "execution_count": null,
      "outputs": []
    },
    {
      "cell_type": "markdown",
      "source": [
        "#[2] String manipulation: strip() and .lower().\n",
        "\n"
      ],
      "metadata": {
        "id": "zzkVAfU61HDk"
      }
    },
    {
      "cell_type": "markdown",
      "source": [
        "### **data.strip()**\n",
        "\n",
        "+ In Python, strip() is a built-in string method that returns a copy of the string with leading and trailing characters removed. \n",
        "+ By default, strip() removes whitespace characters such as spaces, tabs, and newlines from the beginning and end of the string."
      ],
      "metadata": {
        "id": "sSi_PvE5LTeC"
      }
    },
    {
      "cell_type": "code",
      "source": [
        "w1 = \" Mary is friendly. \"\n",
        "w1"
      ],
      "metadata": {
        "colab": {
          "base_uri": "https://localhost:8080/",
          "height": 35
        },
        "id": "IUtU-qG81XIt",
        "outputId": "b7aab2e8-bb04-4eef-9c5d-2ea43d103e82"
      },
      "execution_count": 104,
      "outputs": [
        {
          "output_type": "execute_result",
          "data": {
            "text/plain": [
              "' Mary is friendly. '"
            ],
            "application/vnd.google.colaboratory.intrinsic+json": {
              "type": "string"
            }
          },
          "metadata": {},
          "execution_count": 104
        }
      ]
    },
    {
      "cell_type": "code",
      "source": [
        "w1.strip()"
      ],
      "metadata": {
        "colab": {
          "base_uri": "https://localhost:8080/",
          "height": 35
        },
        "id": "ZAhdPbqVKr6e",
        "outputId": "4084cff1-bc65-4d5a-d859-a7b9abc332c7"
      },
      "execution_count": 105,
      "outputs": [
        {
          "output_type": "execute_result",
          "data": {
            "text/plain": [
              "'Mary is friendly.'"
            ],
            "application/vnd.google.colaboratory.intrinsic+json": {
              "type": "string"
            }
          },
          "metadata": {},
          "execution_count": 105
        }
      ]
    },
    {
      "cell_type": "markdown",
      "source": [
        "### **data.split()**"
      ],
      "metadata": {
        "id": "JGPdtmu8MFgv"
      }
    },
    {
      "cell_type": "code",
      "source": [
        "w1 = \"Mary is friendly.\"\n",
        "w1.split()"
      ],
      "metadata": {
        "colab": {
          "base_uri": "https://localhost:8080/"
        },
        "id": "xbF1sJB9MIpw",
        "outputId": "ef741fcc-28a7-4557-f2ff-5882afd951bc"
      },
      "execution_count": 106,
      "outputs": [
        {
          "output_type": "execute_result",
          "data": {
            "text/plain": [
              "['Mary', 'is', 'friendly.']"
            ]
          },
          "metadata": {},
          "execution_count": 106
        }
      ]
    },
    {
      "cell_type": "code",
      "source": [
        "w2 = \"out-of-date\"\n",
        "w2.split('-')"
      ],
      "metadata": {
        "colab": {
          "base_uri": "https://localhost:8080/"
        },
        "id": "IudKgTjkMVQP",
        "outputId": "81e35537-db82-4073-c1b3-e7707b2a4883"
      },
      "execution_count": 108,
      "outputs": [
        {
          "output_type": "execute_result",
          "data": {
            "text/plain": [
              "['out', 'of', 'date']"
            ]
          },
          "metadata": {},
          "execution_count": 108
        }
      ]
    },
    {
      "cell_type": "code",
      "source": [
        "w1 = \"Mary\"\n",
        "w2 = \"is\"\n",
        "w3 = \"friendly\""
      ],
      "metadata": {
        "id": "tGBOKKKtLvj7"
      },
      "execution_count": 110,
      "outputs": []
    },
    {
      "cell_type": "code",
      "source": [
        "wordlist = [w1, w2, w3]\n",
        "wordlist"
      ],
      "metadata": {
        "colab": {
          "base_uri": "https://localhost:8080/"
        },
        "id": "c11AXGr0V_a4",
        "outputId": "87098068-f7f1-4e46-c815-2354dbfbedba"
      },
      "execution_count": 144,
      "outputs": [
        {
          "output_type": "execute_result",
          "data": {
            "text/plain": [
              "['Mary', 'is', 'friendly']"
            ]
          },
          "metadata": {},
          "execution_count": 144
        }
      ]
    },
    {
      "cell_type": "markdown",
      "source": [
        "### **' '.join()**"
      ],
      "metadata": {
        "id": "Mb-LFWWPWn08"
      }
    },
    {
      "cell_type": "code",
      "source": [
        "' '.join(wordlist)"
      ],
      "metadata": {
        "colab": {
          "base_uri": "https://localhost:8080/",
          "height": 35
        },
        "id": "tZA7DsPPWGmA",
        "outputId": "b8cbd601-c314-4eec-8987-7d881ceda86f"
      },
      "execution_count": 145,
      "outputs": [
        {
          "output_type": "execute_result",
          "data": {
            "text/plain": [
              "'Mary is friendly'"
            ],
            "application/vnd.google.colaboratory.intrinsic+json": {
              "type": "string"
            }
          },
          "metadata": {},
          "execution_count": 145
        }
      ]
    },
    {
      "cell_type": "code",
      "source": [
        "'.'.join(wordlist)"
      ],
      "metadata": {
        "colab": {
          "base_uri": "https://localhost:8080/",
          "height": 35
        },
        "id": "EjLtWSL5WdYy",
        "outputId": "f4ba5d54-916a-40e6-d8a1-72b08cee7444"
      },
      "execution_count": 146,
      "outputs": [
        {
          "output_type": "execute_result",
          "data": {
            "text/plain": [
              "'Mary.is.friendly'"
            ],
            "application/vnd.google.colaboratory.intrinsic+json": {
              "type": "string"
            }
          },
          "metadata": {},
          "execution_count": 146
        }
      ]
    },
    {
      "cell_type": "markdown",
      "source": [
        "### **data.lower(), data.upper()**"
      ],
      "metadata": {
        "id": "PgCIMbbcL29X"
      }
    },
    {
      "cell_type": "code",
      "source": [
        "w1.lower()"
      ],
      "metadata": {
        "colab": {
          "base_uri": "https://localhost:8080/",
          "height": 35
        },
        "id": "JGqTVM22MuH0",
        "outputId": "fa337e62-7ebd-4159-a48c-242a53de0bce"
      },
      "execution_count": 111,
      "outputs": [
        {
          "output_type": "execute_result",
          "data": {
            "text/plain": [
              "'mary'"
            ],
            "application/vnd.google.colaboratory.intrinsic+json": {
              "type": "string"
            }
          },
          "metadata": {},
          "execution_count": 111
        }
      ]
    },
    {
      "cell_type": "code",
      "source": [
        "w1.upper()"
      ],
      "metadata": {
        "colab": {
          "base_uri": "https://localhost:8080/",
          "height": 35
        },
        "id": "fP2lBss3Myhq",
        "outputId": "32347239-a45e-4b6b-8a25-0592d09475f9"
      },
      "execution_count": 112,
      "outputs": [
        {
          "output_type": "execute_result",
          "data": {
            "text/plain": [
              "'MARY'"
            ],
            "application/vnd.google.colaboratory.intrinsic+json": {
              "type": "string"
            }
          },
          "metadata": {},
          "execution_count": 112
        }
      ]
    },
    {
      "cell_type": "markdown",
      "source": [
        "string index"
      ],
      "metadata": {
        "id": "yZJk2NtCM_oz"
      }
    },
    {
      "cell_type": "code",
      "source": [
        "len(w1) #number of string"
      ],
      "metadata": {
        "colab": {
          "base_uri": "https://localhost:8080/"
        },
        "id": "HmuiXLZSNGNa",
        "outputId": "f5305736-c27c-4e8a-c267-96480bc2393c"
      },
      "execution_count": 114,
      "outputs": [
        {
          "output_type": "execute_result",
          "data": {
            "text/plain": [
              "4"
            ]
          },
          "metadata": {},
          "execution_count": 114
        }
      ]
    },
    {
      "cell_type": "code",
      "source": [
        "w1[0] #1st string"
      ],
      "metadata": {
        "colab": {
          "base_uri": "https://localhost:8080/",
          "height": 35
        },
        "id": "xiyozLYxM6xk",
        "outputId": "c9c45a7c-d985-470f-83d4-3ae87b4f7253"
      },
      "execution_count": 113,
      "outputs": [
        {
          "output_type": "execute_result",
          "data": {
            "text/plain": [
              "'M'"
            ],
            "application/vnd.google.colaboratory.intrinsic+json": {
              "type": "string"
            }
          },
          "metadata": {},
          "execution_count": 113
        }
      ]
    },
    {
      "cell_type": "code",
      "source": [
        "w1[-1]"
      ],
      "metadata": {
        "colab": {
          "base_uri": "https://localhost:8080/",
          "height": 35
        },
        "id": "AY_Ii7FhNeof",
        "outputId": "2db6d1f7-5728-4293-c2fa-ba7e79f45741"
      },
      "execution_count": 115,
      "outputs": [
        {
          "output_type": "execute_result",
          "data": {
            "text/plain": [
              "'y'"
            ],
            "application/vnd.google.colaboratory.intrinsic+json": {
              "type": "string"
            }
          },
          "metadata": {},
          "execution_count": 115
        }
      ]
    },
    {
      "cell_type": "code",
      "source": [
        "w1[0:]"
      ],
      "metadata": {
        "colab": {
          "base_uri": "https://localhost:8080/",
          "height": 35
        },
        "id": "vhfF3iXwNijx",
        "outputId": "a5b1350d-85d5-4302-ca38-46d97fe1bab7"
      },
      "execution_count": 116,
      "outputs": [
        {
          "output_type": "execute_result",
          "data": {
            "text/plain": [
              "'Mary'"
            ],
            "application/vnd.google.colaboratory.intrinsic+json": {
              "type": "string"
            }
          },
          "metadata": {},
          "execution_count": 116
        }
      ]
    },
    {
      "cell_type": "code",
      "source": [
        "w1[:]"
      ],
      "metadata": {
        "colab": {
          "base_uri": "https://localhost:8080/",
          "height": 35
        },
        "id": "pW4m0FoyNlf4",
        "outputId": "13be771c-f7fb-4a9e-8b48-9ae01875f51b"
      },
      "execution_count": 118,
      "outputs": [
        {
          "output_type": "execute_result",
          "data": {
            "text/plain": [
              "'Mary'"
            ],
            "application/vnd.google.colaboratory.intrinsic+json": {
              "type": "string"
            }
          },
          "metadata": {},
          "execution_count": 118
        }
      ]
    },
    {
      "cell_type": "code",
      "source": [
        "w1[1:3]"
      ],
      "metadata": {
        "colab": {
          "base_uri": "https://localhost:8080/",
          "height": 35
        },
        "id": "tgp9ozDdNpwd",
        "outputId": "3864520f-27f5-4c3d-9273-7a5036848868"
      },
      "execution_count": 119,
      "outputs": [
        {
          "output_type": "execute_result",
          "data": {
            "text/plain": [
              "'ar'"
            ],
            "application/vnd.google.colaboratory.intrinsic+json": {
              "type": "string"
            }
          },
          "metadata": {},
          "execution_count": 119
        }
      ]
    },
    {
      "cell_type": "code",
      "source": [
        "w = \"mary\"\n",
        "w[0:-1]"
      ],
      "metadata": {
        "colab": {
          "base_uri": "https://localhost:8080/",
          "height": 35
        },
        "id": "0Su3TuHfPxwh",
        "outputId": "e54a94ce-574f-4bab-81d5-2603ade399b0"
      },
      "execution_count": 122,
      "outputs": [
        {
          "output_type": "execute_result",
          "data": {
            "text/plain": [
              "'mar'"
            ],
            "application/vnd.google.colaboratory.intrinsic+json": {
              "type": "string"
            }
          },
          "metadata": {},
          "execution_count": 122
        }
      ]
    },
    {
      "cell_type": "markdown",
      "source": [
        "###💦Demo: Just to show what we can do with these functions"
      ],
      "metadata": {
        "id": "DKwjeU8pW-iu"
      }
    },
    {
      "cell_type": "code",
      "source": [
        "#@markdown Demo: Change my sentence to a yes-no question. (format: {Name} is ...)\n",
        "# Tom is coming tomorrow.\n",
        "\n",
        "stat = input(\"Write a simple statement including be verb including a period at the end: \")\n",
        "wlist = stat.split()\n",
        "wn = len(wlist)\n",
        "\n",
        "word1 = wlist[1]\n",
        "word2 = wlist[0]\n",
        "wordf = wlist[wn-1]\n",
        "wordf_nopunct = wordf[0:-1]\n",
        "\n",
        "rest = ' '.join(wlist[2:-1])\n",
        "\n",
        "init = word1[0].upper()\n",
        "word1 = init + word1[1:]\n",
        "\n",
        "yesno = word1 + \" \" + word2 + \" \" + rest + \" \" + wordf_nopunct + \"?\"\n",
        "print(\"Yes-no question: \", yesno)\n",
        "print(\"=\"*50)\n",
        "print(\"Listen how you can say the sentence :-)\")\n",
        "mytxt = \"First, let me say the statement: %s\"%stat + \"Now I'll say the converted yes-no question: %s\"%yesno\n",
        "etts(mytxt)\n",
        "Audio(\"E-audio.mp3\")"
      ],
      "metadata": {
        "colab": {
          "base_uri": "https://localhost:8080/",
          "height": 148
        },
        "cellView": "form",
        "id": "nqPrXrG6N6de",
        "outputId": "594c84aa-d060-42d0-9e5b-705cefc70db0"
      },
      "execution_count": 142,
      "outputs": [
        {
          "output_type": "stream",
          "name": "stdout",
          "text": [
            "Write a simple statement including be verb including a period at the end: Tom is a good student.\n",
            "Yes-no question:  Is Tom a good student?\n",
            "==================================================\n",
            "Listen how you can say the sentence :-)\n"
          ]
        },
        {
          "output_type": "execute_result",
          "data": {
            "text/plain": [
              "<IPython.lib.display.Audio object>"
            ],
            "text/html": [
              "\n",
              "                <audio  controls=\"controls\" >\n",
              "                    <source src=\"data:audio/mpeg;base64,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\" type=\"audio/mpeg\" />\n",
              "                    Your browser does not support the audio element.\n",
              "                </audio>\n",
              "              "
            ]
          },
          "metadata": {},
          "execution_count": 142
        }
      ]
    },
    {
      "cell_type": "markdown",
      "source": [
        "☺️ DIY: Convert a statement to a yes-no question (e.g., Mary is smart. Tom is smiling. Jane is late.)"
      ],
      "metadata": {
        "id": "lGVkVdCLNMz0"
      }
    },
    {
      "cell_type": "code",
      "source": [
        "w1 = \"Mary\"; w2 = \"is\"; w3 = \"friendly.\""
      ],
      "metadata": {
        "id": "nz1VNUviNXaJ"
      },
      "execution_count": null,
      "outputs": []
    }
  ]
}