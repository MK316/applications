{
  "nbformat": 4,
  "nbformat_minor": 0,
  "metadata": {
    "colab": {
      "name": "Friends_script.ipynb",
      "provenance": [],
      "authorship_tag": "ABX9TyOyZMDalHSIrhfySmdY575G",
      "include_colab_link": true
    },
    "kernelspec": {
      "name": "python3",
      "display_name": "Python 3"
    },
    "language_info": {
      "name": "python"
    }
  },
  "cells": [
    {
      "cell_type": "markdown",
      "metadata": {
        "id": "view-in-github",
        "colab_type": "text"
      },
      "source": [
        "<a href=\"https://colab.research.google.com/github/MK316/applications/blob/main/Friends_script.ipynb\" target=\"_parent\"><img src=\"https://colab.research.google.com/assets/colab-badge.svg\" alt=\"Open In Colab\"/></a>"
      ]
    },
    {
      "cell_type": "markdown",
      "source": [
        "# Drama 'Friends' Season 1 script\n",
        "\n",
        "Data from [hsnam95](\"https://github.hsnam95.com\")"
      ],
      "metadata": {
        "id": "arK-20srPEHZ"
      }
    },
    {
      "cell_type": "code",
      "execution_count": 17,
      "metadata": {
        "colab": {
          "base_uri": "https://localhost:8080/"
        },
        "id": "6N9YWLeNN6SE",
        "outputId": "c8599312-f472-4a24-a0ef-e3712f0e74a8"
      },
      "outputs": [
        {
          "output_type": "stream",
          "name": "stdout",
          "text": [
            "[nltk_data] Downloading package words to /root/nltk_data...\n",
            "[nltk_data]   Package words is already up-to-date!\n"
          ]
        },
        {
          "output_type": "execute_result",
          "data": {
            "text/plain": [
              "True"
            ]
          },
          "metadata": {},
          "execution_count": 17
        }
      ],
      "source": [
        "#@markdown Import packages:\n",
        "import nltk\n",
        "nltk.download('words')"
      ]
    },
    {
      "cell_type": "markdown",
      "source": [
        "Script from [MK316](\"https://github.com/MK316/files/blob/main/friends_S01\") originally from [hsnam](\"https://github.com/hsnam95\")\n",
        "\n",
        "▶ **File from Github to the server (Colab)** Codes:\n",
        "~~~\n",
        "url = \"https://raw.githubusercontent.com/.../.../file.txt\"\n",
        "os.system(\"curl \" + url + \" > file.txt\")\n",
        "~~~"
      ],
      "metadata": {
        "id": "0d93E_ndPa4l"
      }
    },
    {
      "cell_type": "code",
      "source": [
        "#@markdown Import the script text file from Github to Colab:\n",
        "import os\n",
        "url = \"https://raw.githubusercontent.com/MK316/files/main/friends_S01\"\n",
        "os.system(\"curl \" + url + \" > friends_S01.txt\")\n"
      ],
      "metadata": {
        "colab": {
          "base_uri": "https://localhost:8080/"
        },
        "cellView": "form",
        "id": "XkVbixA6OkX7",
        "outputId": "b383db68-4934-41b5-bb19-801caf282f1f"
      },
      "execution_count": 23,
      "outputs": [
        {
          "output_type": "execute_result",
          "data": {
            "text/plain": [
              "0"
            ]
          },
          "metadata": {},
          "execution_count": 23
        }
      ]
    },
    {
      "cell_type": "code",
      "source": [
        "#@markdown Read the file in the server:\n",
        "\n",
        "file = open(\"friends_S01.txt\")\n",
        "text = file.read()\n",
        "file.close()\n",
        "len(text)"
      ],
      "metadata": {
        "colab": {
          "base_uri": "https://localhost:8080/"
        },
        "cellView": "form",
        "id": "nAER_Of7QBVn",
        "outputId": "2468061e-d790-4bc9-f574-b282f8d7ff3f"
      },
      "execution_count": 24,
      "outputs": [
        {
          "output_type": "execute_result",
          "data": {
            "text/plain": [
              "471152"
            ]
          },
          "metadata": {},
          "execution_count": 24
        }
      ]
    },
    {
      "cell_type": "markdown",
      "source": [
        "▶ Find patterns using Regular expressions:"
      ],
      "metadata": {
        "id": "7pRbXXB8R810"
      }
    },
    {
      "cell_type": "code",
      "source": [
        "import re"
      ],
      "metadata": {
        "id": "Sho2PhbkSiPj"
      },
      "execution_count": 25,
      "outputs": []
    },
    {
      "cell_type": "code",
      "source": [
        ""
      ],
      "metadata": {
        "id": "VpwiqjS-vCU9"
      },
      "execution_count": null,
      "outputs": []
    },
    {
      "cell_type": "code",
      "source": [
        ""
      ],
      "metadata": {
        "id": "2FnNBhQrvDaq"
      },
      "execution_count": null,
      "outputs": []
    },
    {
      "cell_type": "markdown",
      "source": [
        "# Useful Regular expression (special):\n",
        "~~~\n",
        "pattern = '(?<=: ).+(?=[\\.|\\?|\\!])'\n",
        "~~~\n",
        "Before condition | My condition | After condition\n",
        "--- | --- | ---\n",
        "`(?<= )` | `.+` | (?= )\n",
        "\n",
        "\n",
        "e.g., Carl**:** What's going on**?**  [What's going on]"
      ],
      "metadata": {
        "id": "Lmd2Fwvdu04Q"
      }
    },
    {
      "cell_type": "code",
      "source": [
        "pattern = '(?<=: ).+(?=[\\.|\\?|\\!])'\n",
        "sent = re.findall(pattern, text)\n",
        "print('Number of sentences: ', len(sent))"
      ],
      "metadata": {
        "colab": {
          "base_uri": "https://localhost:8080/"
        },
        "id": "jGT6l4WpSBaG",
        "outputId": "43973dac-7b5a-451f-8622-6ef4f7d9bba5"
      },
      "execution_count": 31,
      "outputs": [
        {
          "output_type": "stream",
          "name": "stdout",
          "text": [
            "Number of sentences:  6246\n"
          ]
        }
      ]
    },
    {
      "cell_type": "code",
      "source": [
        "#@markdown Search for sentences including a specific expression:\n",
        "# result = [s for s in sent if re.search(\"look\", s)]\n",
        "result = [s for s in sent if re.search(\"like that\", s)]\n",
        "result"
      ],
      "metadata": {
        "cellView": "form",
        "id": "Q5WrI3lew-GK"
      },
      "execution_count": null,
      "outputs": []
    },
    {
      "cell_type": "markdown",
      "source": [
        "## Concordance"
      ],
      "metadata": {
        "id": "jpvzxcZLxQTy"
      }
    },
    {
      "cell_type": "code",
      "source": [
        "#@markdown Step [1] Import packages\n",
        "import nltk\n",
        "from nltk.tokenize import word_tokenize, sent_tokenize\n",
        "nltk.download(\"punkt\")\n",
        "import pandas as pd\n",
        "import numpy as np"
      ],
      "metadata": {
        "colab": {
          "base_uri": "https://localhost:8080/"
        },
        "cellView": "form",
        "id": "eBvAdZW9xTZl",
        "outputId": "a1a0a13b-ae5b-48ae-fc61-e67e99214939"
      },
      "execution_count": 40,
      "outputs": [
        {
          "output_type": "stream",
          "name": "stdout",
          "text": [
            "[nltk_data] Downloading package punkt to /root/nltk_data...\n",
            "[nltk_data]   Unzipping tokenizers/punkt.zip.\n"
          ]
        }
      ]
    },
    {
      "cell_type": "code",
      "source": [
        "#@markdown Step [2] Tokenize\n",
        "from nltk.tokenize import RegexpTokenizer\n",
        "retokenize = RegexpTokenizer(\"[\\w]+\")\n",
        "words = retokenize.tokenize(text)"
      ],
      "metadata": {
        "cellView": "form",
        "id": "Jl6IPDYexeG3"
      },
      "execution_count": 41,
      "outputs": []
    },
    {
      "cell_type": "code",
      "source": [
        "#@markdown Step [3] Find concordance with a keyword:\n",
        "print(\"Write a word to show its concordeance\")\n",
        "item1 = input()\n",
        "nltk.Text(words).concordance(item1, 150, 5)"
      ],
      "metadata": {
        "cellView": "form",
        "id": "exGOxU4yxo-L"
      },
      "execution_count": null,
      "outputs": []
    },
    {
      "cell_type": "markdown",
      "source": [
        "Sentences can be combined back:\n"
      ],
      "metadata": {
        "id": "hDNABPmbyDOZ"
      }
    },
    {
      "cell_type": "code",
      "source": [
        "\n",
        "#@markdown Join the splitted sentences together with '\\n' (enter)\n",
        "text = '\\n'.join(sent)\n",
        "text"
      ],
      "metadata": {
        "cellView": "form",
        "id": "lZ-ED81sSlxw"
      },
      "execution_count": null,
      "outputs": []
    },
    {
      "cell_type": "code",
      "source": [
        "#@markdown Write as a file in the server (Colab):\n",
        "file = open(\"tmp.txt\",\"w\")\n",
        "file.write(text)\n",
        "file.close()"
      ],
      "metadata": {
        "id": "qNsCaBvPwbBI"
      },
      "execution_count": 36,
      "outputs": []
    }
  ]
}