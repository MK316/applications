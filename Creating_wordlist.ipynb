{
  "nbformat": 4,
  "nbformat_minor": 0,
  "metadata": {
    "colab": {
      "name": "Creating-wordlist.ipynb",
      "provenance": [],
      "collapsed_sections": [],
      "authorship_tag": "ABX9TyMPqHRlVozrYQjDx+xaZb2H",
      "include_colab_link": true
    },
    "kernelspec": {
      "name": "python3",
      "display_name": "Python 3"
    },
    "language_info": {
      "name": "python"
    }
  },
  "cells": [
    {
      "cell_type": "markdown",
      "metadata": {
        "id": "view-in-github",
        "colab_type": "text"
      },
      "source": [
        "<a href=\"https://colab.research.google.com/github/MK316/applications/blob/main/Creating_wordlist.ipynb\" target=\"_parent\"><img src=\"https://colab.research.google.com/assets/colab-badge.svg\" alt=\"Open In Colab\"/></a>"
      ]
    },
    {
      "cell_type": "markdown",
      "source": [
        "# [1] Import modules"
      ],
      "metadata": {
        "id": "4Z69U2Ja6Aed"
      }
    },
    {
      "cell_type": "code",
      "execution_count": 1,
      "metadata": {
        "id": "joLodXuU5uyz",
        "outputId": "b9b7f49f-cbbd-497e-f1af-97921c40d260",
        "colab": {
          "base_uri": "https://localhost:8080/"
        }
      },
      "outputs": [
        {
          "output_type": "stream",
          "name": "stdout",
          "text": [
            "[nltk_data] Downloading package punkt to /root/nltk_data...\n",
            "[nltk_data]   Unzipping tokenizers/punkt.zip.\n"
          ]
        }
      ],
      "source": [
        "import nltk\n",
        "from nltk.tokenize import word_tokenize, sent_tokenize\n",
        "nltk.download(\"punkt\")\n",
        "\n",
        "import pandas as pd\n",
        "import numpy as np"
      ]
    },
    {
      "cell_type": "markdown",
      "source": [
        "# [2] Paste your text"
      ],
      "metadata": {
        "id": "w5p4w1tV6Eps"
      }
    },
    {
      "cell_type": "code",
      "source": [
        "print('Copy and paste your text into the box below and hit ENTER key.')\n",
        "copytext = input()"
      ],
      "metadata": {
        "id": "vxtQxgdx-aWt",
        "outputId": "bcdf9408-b48a-4893-a77e-667c0b035a7f",
        "colab": {
          "base_uri": "https://localhost:8080/"
        }
      },
      "execution_count": 2,
      "outputs": [
        {
          "name": "stdout",
          "output_type": "stream",
          "text": [
            "Copy and paste your text into the box below and hit ENTER key.\n",
            "Living light  The ability of some species to create light, known as bioluminescence, is both magical and commonplace. Magical, because of its glimmering beauty. Commonplace, because many life forms can do it. On land the most familiar examples are fireflies, flashing to attract mates on a warm summer night. But there are other luminous land organisms, including glow-worms, millipedes, and some ninety species of fungus. Even some birds, such as the Atlantic puffin, have beaks that glow in the dark. But the real biological light show takes place in the sea. Here, an astonishing number of beings can make light. Some, such as ostracods, are like ocean fireflies, using flashes of light to attract mate. There are also glowing bacteria, and light-making fish, squid, and jellyfish. Indeed, of all the groups of organisms known to make light, more than four-fifths live in the ocean. As a place to live, the ocean has a couple of peculiarities. Firstly, there is almost nowhere to hide, so being invisible is very important. Secondly, as you descend, sunlight disappears. At first, red light is absorbed. Then the yellow and green parts of the spectrum disappear, leaving just the blue. At two-hundred meters below the surface, the ocean becomes a kind of perpetual twilight, and at six-hundred meters the blue fades out too. In fact, most of the ocean is as black as the night sky. These factors make light uniquely useful as a weapon or a veil. Hiding with light In the ocean’s upper layers, where light penetrates, creatures need to blend in to survive. Any life form that stands out is in danger of being spotted by predators, especially those swimming below, looking up. Many life forms solve this problem by avoiding the light zone during the day. Others, such as jellyfish and swimming snails, are transparent, ghostlike creatures, almost impossible to see. Other sea species use light to survive in the upper layers, but how? Some, such as certain shrimp and squid, illuminate their bellies to match the light coming from above. This allows them to become invisible to predators below. Their light can be turned on and off at will, some even have a dimmer switch. For example, certain types of shrimp can alter how much light they give off, depending on the brightness of the water around them. If a cloud passes overhead and briefly blocks the light, the shrimp will dim itself accordingly. But if the aim is to remain invisible, why do some creatures light up when they are touched, or when the water nearby is disturbed? A couple of reasons. First, a sudden burst of light may startle a predator, giving the prey a chance to escape. Some kinds of deep-sea squid, for example, give a big squirt of light before darting off into the gloom. Second, there is the principle of ‘the enemy of my enemy is my friend.’ Giving off light can help summon the predator of your predator. Known as the burglar alarm effect, this is especially useful for tiny life forms, such as dinoflagellates, that cannot swim fast. For such small beings, water is too viscous to allow a quick getaway, it would be like trying to swim through syrup. Instead, when threatened by a shrimp, for example, these organisms light up. The flashes attract larger fish that are better able to spot, and eat, the shrimp. The chief defense for these tiny organisms is therefore not fight or flight, but light. \n"
          ]
        }
      ]
    },
    {
      "cell_type": "code",
      "source": [
        "text = copytext"
      ],
      "metadata": {
        "id": "1N47-4rS6Is6"
      },
      "execution_count": 3,
      "outputs": []
    },
    {
      "cell_type": "markdown",
      "source": [
        "# ** Creating Wordcloud \n",
        "### Sample A"
      ],
      "metadata": {
        "id": "T456znI3fvC6"
      }
    },
    {
      "cell_type": "code",
      "source": [
        "from wordcloud import WordCloud, STOPWORDS\n",
        "import matplotlib.pyplot as plt\n",
        "wc = WordCloud().generate(text) \n",
        "plt.imshow(wc)\n",
        "\n",
        "plt.axis(\"off\")\n",
        "wordcloud.to_file('wordcloud1.png')\n",
        "imgfile = 'wordcloud1.png'\n",
        "print('Image file is save as %s. Check Files on the left.'%imgfile)"
      ],
      "metadata": {
        "id": "BXu9UzWkfuap"
      },
      "execution_count": null,
      "outputs": []
    },
    {
      "cell_type": "markdown",
      "source": [
        "### Sample B"
      ],
      "metadata": {
        "id": "X46dDQBxgNQV"
      }
    },
    {
      "cell_type": "code",
      "source": [
        "stopwords = set(STOPWORDS)\n",
        "len(stopwords)\n",
        "spltxt = text.split()\n",
        "\n",
        "wordcloud = WordCloud(stopwords=stopwords,relative_scaling = 0.2, random_state=3,\n",
        "                    # max_words=2000, background_color='white').generate(' '.join(spltxt))\n",
        "                      max_words=2000, background_color='white').generate(' '.join(spltxt))\n",
        "plt.figure(figsize=(12,12))\n",
        "plt.imshow(wordcloud, interpolation=\"bilinear\")\n",
        "plt.axis(\"off\")\n",
        "wordcloud.to_file('wordcloud2.png')\n",
        "imgfile = 'wordcloud2.png'\n",
        "print('Image file is save as %s. Check Files on the left.'%imgfile)"
      ],
      "metadata": {
        "id": "EbGcNFyqgOq1"
      },
      "execution_count": null,
      "outputs": []
    },
    {
      "cell_type": "markdown",
      "source": [
        "# [3] Text processing\n",
        "### A. Tokenize text"
      ],
      "metadata": {
        "id": "zqRyt6lN6a8i"
      }
    },
    {
      "cell_type": "code",
      "source": [
        "words = word_tokenize(text)\n",
        "print('Total words: ', len(words))\n",
        "print(words)"
      ],
      "metadata": {
        "id": "BFWKA0lw6OiQ",
        "outputId": "f71aed48-2511-4b61-c955-bd10bda48d57",
        "colab": {
          "base_uri": "https://localhost:8080/"
        }
      },
      "execution_count": 4,
      "outputs": [
        {
          "output_type": "stream",
          "name": "stdout",
          "text": [
            "Total words:  685\n",
            "['Living', 'light', 'The', 'ability', 'of', 'some', 'species', 'to', 'create', 'light', ',', 'known', 'as', 'bioluminescence', ',', 'is', 'both', 'magical', 'and', 'commonplace', '.', 'Magical', ',', 'because', 'of', 'its', 'glimmering', 'beauty', '.', 'Commonplace', ',', 'because', 'many', 'life', 'forms', 'can', 'do', 'it', '.', 'On', 'land', 'the', 'most', 'familiar', 'examples', 'are', 'fireflies', ',', 'flashing', 'to', 'attract', 'mates', 'on', 'a', 'warm', 'summer', 'night', '.', 'But', 'there', 'are', 'other', 'luminous', 'land', 'organisms', ',', 'including', 'glow-worms', ',', 'millipedes', ',', 'and', 'some', 'ninety', 'species', 'of', 'fungus', '.', 'Even', 'some', 'birds', ',', 'such', 'as', 'the', 'Atlantic', 'puffin', ',', 'have', 'beaks', 'that', 'glow', 'in', 'the', 'dark', '.', 'But', 'the', 'real', 'biological', 'light', 'show', 'takes', 'place', 'in', 'the', 'sea', '.', 'Here', ',', 'an', 'astonishing', 'number', 'of', 'beings', 'can', 'make', 'light', '.', 'Some', ',', 'such', 'as', 'ostracods', ',', 'are', 'like', 'ocean', 'fireflies', ',', 'using', 'flashes', 'of', 'light', 'to', 'attract', 'mate', '.', 'There', 'are', 'also', 'glowing', 'bacteria', ',', 'and', 'light-making', 'fish', ',', 'squid', ',', 'and', 'jellyfish', '.', 'Indeed', ',', 'of', 'all', 'the', 'groups', 'of', 'organisms', 'known', 'to', 'make', 'light', ',', 'more', 'than', 'four-fifths', 'live', 'in', 'the', 'ocean', '.', 'As', 'a', 'place', 'to', 'live', ',', 'the', 'ocean', 'has', 'a', 'couple', 'of', 'peculiarities', '.', 'Firstly', ',', 'there', 'is', 'almost', 'nowhere', 'to', 'hide', ',', 'so', 'being', 'invisible', 'is', 'very', 'important', '.', 'Secondly', ',', 'as', 'you', 'descend', ',', 'sunlight', 'disappears', '.', 'At', 'first', ',', 'red', 'light', 'is', 'absorbed', '.', 'Then', 'the', 'yellow', 'and', 'green', 'parts', 'of', 'the', 'spectrum', 'disappear', ',', 'leaving', 'just', 'the', 'blue', '.', 'At', 'two-hundred', 'meters', 'below', 'the', 'surface', ',', 'the', 'ocean', 'becomes', 'a', 'kind', 'of', 'perpetual', 'twilight', ',', 'and', 'at', 'six-hundred', 'meters', 'the', 'blue', 'fades', 'out', 'too', '.', 'In', 'fact', ',', 'most', 'of', 'the', 'ocean', 'is', 'as', 'black', 'as', 'the', 'night', 'sky', '.', 'These', 'factors', 'make', 'light', 'uniquely', 'useful', 'as', 'a', 'weapon', 'or', 'a', 'veil', '.', 'Hiding', 'with', 'light', 'In', 'the', 'ocean', '’', 's', 'upper', 'layers', ',', 'where', 'light', 'penetrates', ',', 'creatures', 'need', 'to', 'blend', 'in', 'to', 'survive', '.', 'Any', 'life', 'form', 'that', 'stands', 'out', 'is', 'in', 'danger', 'of', 'being', 'spotted', 'by', 'predators', ',', 'especially', 'those', 'swimming', 'below', ',', 'looking', 'up', '.', 'Many', 'life', 'forms', 'solve', 'this', 'problem', 'by', 'avoiding', 'the', 'light', 'zone', 'during', 'the', 'day', '.', 'Others', ',', 'such', 'as', 'jellyfish', 'and', 'swimming', 'snails', ',', 'are', 'transparent', ',', 'ghostlike', 'creatures', ',', 'almost', 'impossible', 'to', 'see', '.', 'Other', 'sea', 'species', 'use', 'light', 'to', 'survive', 'in', 'the', 'upper', 'layers', ',', 'but', 'how', '?', 'Some', ',', 'such', 'as', 'certain', 'shrimp', 'and', 'squid', ',', 'illuminate', 'their', 'bellies', 'to', 'match', 'the', 'light', 'coming', 'from', 'above', '.', 'This', 'allows', 'them', 'to', 'become', 'invisible', 'to', 'predators', 'below', '.', 'Their', 'light', 'can', 'be', 'turned', 'on', 'and', 'off', 'at', 'will', ',', 'some', 'even', 'have', 'a', 'dimmer', 'switch', '.', 'For', 'example', ',', 'certain', 'types', 'of', 'shrimp', 'can', 'alter', 'how', 'much', 'light', 'they', 'give', 'off', ',', 'depending', 'on', 'the', 'brightness', 'of', 'the', 'water', 'around', 'them', '.', 'If', 'a', 'cloud', 'passes', 'overhead', 'and', 'briefly', 'blocks', 'the', 'light', ',', 'the', 'shrimp', 'will', 'dim', 'itself', 'accordingly', '.', 'But', 'if', 'the', 'aim', 'is', 'to', 'remain', 'invisible', ',', 'why', 'do', 'some', 'creatures', 'light', 'up', 'when', 'they', 'are', 'touched', ',', 'or', 'when', 'the', 'water', 'nearby', 'is', 'disturbed', '?', 'A', 'couple', 'of', 'reasons', '.', 'First', ',', 'a', 'sudden', 'burst', 'of', 'light', 'may', 'startle', 'a', 'predator', ',', 'giving', 'the', 'prey', 'a', 'chance', 'to', 'escape', '.', 'Some', 'kinds', 'of', 'deep-sea', 'squid', ',', 'for', 'example', ',', 'give', 'a', 'big', 'squirt', 'of', 'light', 'before', 'darting', 'off', 'into', 'the', 'gloom', '.', 'Second', ',', 'there', 'is', 'the', 'principle', 'of', '‘', 'the', 'enemy', 'of', 'my', 'enemy', 'is', 'my', 'friend.', '’', 'Giving', 'off', 'light', 'can', 'help', 'summon', 'the', 'predator', 'of', 'your', 'predator', '.', 'Known', 'as', 'the', 'burglar', 'alarm', 'effect', ',', 'this', 'is', 'especially', 'useful', 'for', 'tiny', 'life', 'forms', ',', 'such', 'as', 'dinoflagellates', ',', 'that', 'can', 'not', 'swim', 'fast', '.', 'For', 'such', 'small', 'beings', ',', 'water', 'is', 'too', 'viscous', 'to', 'allow', 'a', 'quick', 'getaway', ',', 'it', 'would', 'be', 'like', 'trying', 'to', 'swim', 'through', 'syrup', '.', 'Instead', ',', 'when', 'threatened', 'by', 'a', 'shrimp', ',', 'for', 'example', ',', 'these', 'organisms', 'light', 'up', '.', 'The', 'flashes', 'attract', 'larger', 'fish', 'that', 'are', 'better', 'able', 'to', 'spot', ',', 'and', 'eat', ',', 'the', 'shrimp', '.', 'The', 'chief', 'defense', 'for', 'these', 'tiny', 'organisms', 'is', 'therefore', 'not', 'fight', 'or', 'flight', ',', 'but', 'light', '.']\n"
          ]
        }
      ]
    },
    {
      "cell_type": "code",
      "source": [
        "# Word list with longer than 3 letter. Without punctuation:\n",
        "wordlist = []\n",
        "for w in words:\n",
        "  if len(w) > 3:\n",
        "    wordlist.append(w)\n",
        "print('Total words: ', len(wordlist))\n",
        "print(wordlist)"
      ],
      "metadata": {
        "id": "QKlzi3Jm60Ww",
        "outputId": "73e209aa-6dad-46a5-c554-cd25ad7a7c0f",
        "colab": {
          "base_uri": "https://localhost:8080/"
        }
      },
      "execution_count": 5,
      "outputs": [
        {
          "output_type": "stream",
          "name": "stdout",
          "text": [
            "Total words:  362\n",
            "['Living', 'light', 'ability', 'some', 'species', 'create', 'light', 'known', 'bioluminescence', 'both', 'magical', 'commonplace', 'Magical', 'because', 'glimmering', 'beauty', 'Commonplace', 'because', 'many', 'life', 'forms', 'land', 'most', 'familiar', 'examples', 'fireflies', 'flashing', 'attract', 'mates', 'warm', 'summer', 'night', 'there', 'other', 'luminous', 'land', 'organisms', 'including', 'glow-worms', 'millipedes', 'some', 'ninety', 'species', 'fungus', 'Even', 'some', 'birds', 'such', 'Atlantic', 'puffin', 'have', 'beaks', 'that', 'glow', 'dark', 'real', 'biological', 'light', 'show', 'takes', 'place', 'Here', 'astonishing', 'number', 'beings', 'make', 'light', 'Some', 'such', 'ostracods', 'like', 'ocean', 'fireflies', 'using', 'flashes', 'light', 'attract', 'mate', 'There', 'also', 'glowing', 'bacteria', 'light-making', 'fish', 'squid', 'jellyfish', 'Indeed', 'groups', 'organisms', 'known', 'make', 'light', 'more', 'than', 'four-fifths', 'live', 'ocean', 'place', 'live', 'ocean', 'couple', 'peculiarities', 'Firstly', 'there', 'almost', 'nowhere', 'hide', 'being', 'invisible', 'very', 'important', 'Secondly', 'descend', 'sunlight', 'disappears', 'first', 'light', 'absorbed', 'Then', 'yellow', 'green', 'parts', 'spectrum', 'disappear', 'leaving', 'just', 'blue', 'two-hundred', 'meters', 'below', 'surface', 'ocean', 'becomes', 'kind', 'perpetual', 'twilight', 'six-hundred', 'meters', 'blue', 'fades', 'fact', 'most', 'ocean', 'black', 'night', 'These', 'factors', 'make', 'light', 'uniquely', 'useful', 'weapon', 'veil', 'Hiding', 'with', 'light', 'ocean', 'upper', 'layers', 'where', 'light', 'penetrates', 'creatures', 'need', 'blend', 'survive', 'life', 'form', 'that', 'stands', 'danger', 'being', 'spotted', 'predators', 'especially', 'those', 'swimming', 'below', 'looking', 'Many', 'life', 'forms', 'solve', 'this', 'problem', 'avoiding', 'light', 'zone', 'during', 'Others', 'such', 'jellyfish', 'swimming', 'snails', 'transparent', 'ghostlike', 'creatures', 'almost', 'impossible', 'Other', 'species', 'light', 'survive', 'upper', 'layers', 'Some', 'such', 'certain', 'shrimp', 'squid', 'illuminate', 'their', 'bellies', 'match', 'light', 'coming', 'from', 'above', 'This', 'allows', 'them', 'become', 'invisible', 'predators', 'below', 'Their', 'light', 'turned', 'will', 'some', 'even', 'have', 'dimmer', 'switch', 'example', 'certain', 'types', 'shrimp', 'alter', 'much', 'light', 'they', 'give', 'depending', 'brightness', 'water', 'around', 'them', 'cloud', 'passes', 'overhead', 'briefly', 'blocks', 'light', 'shrimp', 'will', 'itself', 'accordingly', 'remain', 'invisible', 'some', 'creatures', 'light', 'when', 'they', 'touched', 'when', 'water', 'nearby', 'disturbed', 'couple', 'reasons', 'First', 'sudden', 'burst', 'light', 'startle', 'predator', 'giving', 'prey', 'chance', 'escape', 'Some', 'kinds', 'deep-sea', 'squid', 'example', 'give', 'squirt', 'light', 'before', 'darting', 'into', 'gloom', 'Second', 'there', 'principle', 'enemy', 'enemy', 'friend.', 'Giving', 'light', 'help', 'summon', 'predator', 'your', 'predator', 'Known', 'burglar', 'alarm', 'effect', 'this', 'especially', 'useful', 'tiny', 'life', 'forms', 'such', 'dinoflagellates', 'that', 'swim', 'fast', 'such', 'small', 'beings', 'water', 'viscous', 'allow', 'quick', 'getaway', 'would', 'like', 'trying', 'swim', 'through', 'syrup', 'Instead', 'when', 'threatened', 'shrimp', 'example', 'these', 'organisms', 'light', 'flashes', 'attract', 'larger', 'fish', 'that', 'better', 'able', 'spot', 'shrimp', 'chief', 'defense', 'these', 'tiny', 'organisms', 'therefore', 'fight', 'flight', 'light']\n"
          ]
        }
      ]
    },
    {
      "cell_type": "markdown",
      "source": [
        "### B. Change words in lower case"
      ],
      "metadata": {
        "id": "EKWFXT4g7KVF"
      }
    },
    {
      "cell_type": "code",
      "source": [
        "# Lower case\n",
        "lowerword = []\n",
        "for w in wordlist:\n",
        "  w1 = w.lower()\n",
        "  lowerword.append(w1)\n",
        "print(lowerword)"
      ],
      "metadata": {
        "id": "cECoh9jZ7Jc-",
        "outputId": "4035712c-6b76-430b-d469-5be45f0b3b66",
        "colab": {
          "base_uri": "https://localhost:8080/"
        }
      },
      "execution_count": 6,
      "outputs": [
        {
          "output_type": "stream",
          "name": "stdout",
          "text": [
            "['living', 'light', 'ability', 'some', 'species', 'create', 'light', 'known', 'bioluminescence', 'both', 'magical', 'commonplace', 'magical', 'because', 'glimmering', 'beauty', 'commonplace', 'because', 'many', 'life', 'forms', 'land', 'most', 'familiar', 'examples', 'fireflies', 'flashing', 'attract', 'mates', 'warm', 'summer', 'night', 'there', 'other', 'luminous', 'land', 'organisms', 'including', 'glow-worms', 'millipedes', 'some', 'ninety', 'species', 'fungus', 'even', 'some', 'birds', 'such', 'atlantic', 'puffin', 'have', 'beaks', 'that', 'glow', 'dark', 'real', 'biological', 'light', 'show', 'takes', 'place', 'here', 'astonishing', 'number', 'beings', 'make', 'light', 'some', 'such', 'ostracods', 'like', 'ocean', 'fireflies', 'using', 'flashes', 'light', 'attract', 'mate', 'there', 'also', 'glowing', 'bacteria', 'light-making', 'fish', 'squid', 'jellyfish', 'indeed', 'groups', 'organisms', 'known', 'make', 'light', 'more', 'than', 'four-fifths', 'live', 'ocean', 'place', 'live', 'ocean', 'couple', 'peculiarities', 'firstly', 'there', 'almost', 'nowhere', 'hide', 'being', 'invisible', 'very', 'important', 'secondly', 'descend', 'sunlight', 'disappears', 'first', 'light', 'absorbed', 'then', 'yellow', 'green', 'parts', 'spectrum', 'disappear', 'leaving', 'just', 'blue', 'two-hundred', 'meters', 'below', 'surface', 'ocean', 'becomes', 'kind', 'perpetual', 'twilight', 'six-hundred', 'meters', 'blue', 'fades', 'fact', 'most', 'ocean', 'black', 'night', 'these', 'factors', 'make', 'light', 'uniquely', 'useful', 'weapon', 'veil', 'hiding', 'with', 'light', 'ocean', 'upper', 'layers', 'where', 'light', 'penetrates', 'creatures', 'need', 'blend', 'survive', 'life', 'form', 'that', 'stands', 'danger', 'being', 'spotted', 'predators', 'especially', 'those', 'swimming', 'below', 'looking', 'many', 'life', 'forms', 'solve', 'this', 'problem', 'avoiding', 'light', 'zone', 'during', 'others', 'such', 'jellyfish', 'swimming', 'snails', 'transparent', 'ghostlike', 'creatures', 'almost', 'impossible', 'other', 'species', 'light', 'survive', 'upper', 'layers', 'some', 'such', 'certain', 'shrimp', 'squid', 'illuminate', 'their', 'bellies', 'match', 'light', 'coming', 'from', 'above', 'this', 'allows', 'them', 'become', 'invisible', 'predators', 'below', 'their', 'light', 'turned', 'will', 'some', 'even', 'have', 'dimmer', 'switch', 'example', 'certain', 'types', 'shrimp', 'alter', 'much', 'light', 'they', 'give', 'depending', 'brightness', 'water', 'around', 'them', 'cloud', 'passes', 'overhead', 'briefly', 'blocks', 'light', 'shrimp', 'will', 'itself', 'accordingly', 'remain', 'invisible', 'some', 'creatures', 'light', 'when', 'they', 'touched', 'when', 'water', 'nearby', 'disturbed', 'couple', 'reasons', 'first', 'sudden', 'burst', 'light', 'startle', 'predator', 'giving', 'prey', 'chance', 'escape', 'some', 'kinds', 'deep-sea', 'squid', 'example', 'give', 'squirt', 'light', 'before', 'darting', 'into', 'gloom', 'second', 'there', 'principle', 'enemy', 'enemy', 'friend.', 'giving', 'light', 'help', 'summon', 'predator', 'your', 'predator', 'known', 'burglar', 'alarm', 'effect', 'this', 'especially', 'useful', 'tiny', 'life', 'forms', 'such', 'dinoflagellates', 'that', 'swim', 'fast', 'such', 'small', 'beings', 'water', 'viscous', 'allow', 'quick', 'getaway', 'would', 'like', 'trying', 'swim', 'through', 'syrup', 'instead', 'when', 'threatened', 'shrimp', 'example', 'these', 'organisms', 'light', 'flashes', 'attract', 'larger', 'fish', 'that', 'better', 'able', 'spot', 'shrimp', 'chief', 'defense', 'these', 'tiny', 'organisms', 'therefore', 'fight', 'flight', 'light']\n"
          ]
        }
      ]
    },
    {
      "cell_type": "markdown",
      "source": [
        "### C. Remove stopwords (function words)"
      ],
      "metadata": {
        "id": "u5VU_Jh37ZjL"
      }
    },
    {
      "cell_type": "code",
      "source": [
        "from nltk.corpus import stopwords  \n",
        "nltk.download('stopwords')"
      ],
      "metadata": {
        "id": "YgjgkTvZ7Y8z",
        "outputId": "6ca335f6-95f4-426b-b1e4-6c6245c7c2ae",
        "colab": {
          "base_uri": "https://localhost:8080/"
        }
      },
      "execution_count": 7,
      "outputs": [
        {
          "output_type": "stream",
          "name": "stdout",
          "text": [
            "[nltk_data] Downloading package stopwords to /root/nltk_data...\n",
            "[nltk_data]   Unzipping corpora/stopwords.zip.\n"
          ]
        },
        {
          "output_type": "execute_result",
          "data": {
            "text/plain": [
              "True"
            ]
          },
          "metadata": {},
          "execution_count": 7
        }
      ]
    },
    {
      "cell_type": "code",
      "source": [
        "stopwords = nltk.corpus.stopwords.words('english')\n",
        "# stopwords.append(\"'re\"); stopwords.append(\"n't\"); stopwords.append(\"'ve\")\n",
        "print('Stopwords number: ',len(stopwords)); print(stopwords[:10])"
      ],
      "metadata": {
        "id": "uXn2TYwZ7jul",
        "outputId": "db468da9-686f-4865-e789-c0750468ca7d",
        "colab": {
          "base_uri": "https://localhost:8080/"
        }
      },
      "execution_count": 8,
      "outputs": [
        {
          "output_type": "stream",
          "name": "stdout",
          "text": [
            "Stopwords number:  179\n",
            "['i', 'me', 'my', 'myself', 'we', 'our', 'ours', 'ourselves', 'you', \"you're\"]\n"
          ]
        }
      ]
    },
    {
      "cell_type": "code",
      "source": [
        "words = [w for w in lowerword if not w in stopwords]\n",
        "reduced = len(lowerword) - len(words)\n",
        "print('Before stopwords:',len(lowerword))\n",
        "print('After stopwords: ',len(words),'(-%d)'%reduced); \n",
        "print('='*30)\n",
        "print(words[:10])"
      ],
      "metadata": {
        "id": "B3o9FTiR76GY",
        "outputId": "a422cb68-7faf-4d9b-e94f-b6354340bead",
        "colab": {
          "base_uri": "https://localhost:8080/"
        }
      },
      "execution_count": 9,
      "outputs": [
        {
          "output_type": "stream",
          "name": "stdout",
          "text": [
            "Before stopwords: 362\n",
            "After stopwords:  292 (-70)\n",
            "==============================\n",
            "['living', 'light', 'ability', 'species', 'create', 'light', 'known', 'bioluminescence', 'magical', 'commonplace']\n"
          ]
        }
      ]
    },
    {
      "cell_type": "markdown",
      "source": [
        "# [4] Word frequency list"
      ],
      "metadata": {
        "id": "A71mAhLC8OrM"
      }
    },
    {
      "cell_type": "code",
      "source": [
        "wordtype = fd = nltk.FreqDist(words).most_common()\n",
        "totalnum = len(wordtype)"
      ],
      "metadata": {
        "id": "h6yVx8gQCa7u"
      },
      "execution_count": 10,
      "outputs": []
    },
    {
      "cell_type": "code",
      "source": [
        "    print('='*5,'Instruction','='*5)\n",
        "    print('The text contains %d word types'%totalnum)\n",
        "    print(\"If you want to see 10 or 20 most frequent words, type '10' or '20'.\")\n",
        "    print(\"If you want to see the whole list, type %d in the box below.\"%totalnum)\n",
        "    print('After write down the number, hit ENTER button')\n",
        "    topnum = input()\n",
        "    topnum = int(topnum)\n",
        "    print('Here is the %d top frequent word list.'%topnum)\n",
        "\n",
        "n = topnum\n",
        "\n",
        "fd = nltk.FreqDist(words).most_common(n)\n",
        "df = pd.DataFrame(fd,columns = ['Word','Freq']) \n",
        "final = df.set_index([pd.Index(range(1,n+1))]) # index from 1\n",
        "print(final)"
      ],
      "metadata": {
        "id": "GzTenh90EJRN",
        "outputId": "9258b620-8467-495e-ab3a-1993ef6b3c8c",
        "colab": {
          "base_uri": "https://localhost:8080/"
        }
      },
      "execution_count": 11,
      "outputs": [
        {
          "output_type": "stream",
          "name": "stdout",
          "text": [
            "===== Instruction =====\n",
            "The text contains 202 word types\n",
            "If you want to see 10 or 20 most frequent words, type '10' or '20'.\n",
            "If you want to see the whole list, type 202 in the box below.\n",
            "After write down the number, hit ENTER button\n",
            "202\n",
            "Here is the 202 top frequent word list.\n",
            "          Word  Freq\n",
            "1        light    22\n",
            "2        ocean     6\n",
            "3       shrimp     5\n",
            "4         life     4\n",
            "5    organisms     4\n",
            "..         ...   ...\n",
            "198      chief     1\n",
            "199    defense     1\n",
            "200  therefore     1\n",
            "201      fight     1\n",
            "202     flight     1\n",
            "\n",
            "[202 rows x 2 columns]\n"
          ]
        }
      ]
    },
    {
      "cell_type": "code",
      "source": [
        "df"
      ],
      "metadata": {
        "id": "iyqSyjk4WMyR",
        "outputId": "f5c9e179-d74d-4767-e6a7-862a405402ad",
        "colab": {
          "base_uri": "https://localhost:8080/",
          "height": 424
        }
      },
      "execution_count": 12,
      "outputs": [
        {
          "output_type": "execute_result",
          "data": {
            "text/plain": [
              "          Word  Freq\n",
              "0        light    22\n",
              "1        ocean     6\n",
              "2       shrimp     5\n",
              "3         life     4\n",
              "4    organisms     4\n",
              "..         ...   ...\n",
              "197      chief     1\n",
              "198    defense     1\n",
              "199  therefore     1\n",
              "200      fight     1\n",
              "201     flight     1\n",
              "\n",
              "[202 rows x 2 columns]"
            ],
            "text/html": [
              "\n",
              "  <div id=\"df-c7d71f0f-f59b-4c4f-959a-254c915d918f\">\n",
              "    <div class=\"colab-df-container\">\n",
              "      <div>\n",
              "<style scoped>\n",
              "    .dataframe tbody tr th:only-of-type {\n",
              "        vertical-align: middle;\n",
              "    }\n",
              "\n",
              "    .dataframe tbody tr th {\n",
              "        vertical-align: top;\n",
              "    }\n",
              "\n",
              "    .dataframe thead th {\n",
              "        text-align: right;\n",
              "    }\n",
              "</style>\n",
              "<table border=\"1\" class=\"dataframe\">\n",
              "  <thead>\n",
              "    <tr style=\"text-align: right;\">\n",
              "      <th></th>\n",
              "      <th>Word</th>\n",
              "      <th>Freq</th>\n",
              "    </tr>\n",
              "  </thead>\n",
              "  <tbody>\n",
              "    <tr>\n",
              "      <th>0</th>\n",
              "      <td>light</td>\n",
              "      <td>22</td>\n",
              "    </tr>\n",
              "    <tr>\n",
              "      <th>1</th>\n",
              "      <td>ocean</td>\n",
              "      <td>6</td>\n",
              "    </tr>\n",
              "    <tr>\n",
              "      <th>2</th>\n",
              "      <td>shrimp</td>\n",
              "      <td>5</td>\n",
              "    </tr>\n",
              "    <tr>\n",
              "      <th>3</th>\n",
              "      <td>life</td>\n",
              "      <td>4</td>\n",
              "    </tr>\n",
              "    <tr>\n",
              "      <th>4</th>\n",
              "      <td>organisms</td>\n",
              "      <td>4</td>\n",
              "    </tr>\n",
              "    <tr>\n",
              "      <th>...</th>\n",
              "      <td>...</td>\n",
              "      <td>...</td>\n",
              "    </tr>\n",
              "    <tr>\n",
              "      <th>197</th>\n",
              "      <td>chief</td>\n",
              "      <td>1</td>\n",
              "    </tr>\n",
              "    <tr>\n",
              "      <th>198</th>\n",
              "      <td>defense</td>\n",
              "      <td>1</td>\n",
              "    </tr>\n",
              "    <tr>\n",
              "      <th>199</th>\n",
              "      <td>therefore</td>\n",
              "      <td>1</td>\n",
              "    </tr>\n",
              "    <tr>\n",
              "      <th>200</th>\n",
              "      <td>fight</td>\n",
              "      <td>1</td>\n",
              "    </tr>\n",
              "    <tr>\n",
              "      <th>201</th>\n",
              "      <td>flight</td>\n",
              "      <td>1</td>\n",
              "    </tr>\n",
              "  </tbody>\n",
              "</table>\n",
              "<p>202 rows × 2 columns</p>\n",
              "</div>\n",
              "      <button class=\"colab-df-convert\" onclick=\"convertToInteractive('df-c7d71f0f-f59b-4c4f-959a-254c915d918f')\"\n",
              "              title=\"Convert this dataframe to an interactive table.\"\n",
              "              style=\"display:none;\">\n",
              "        \n",
              "  <svg xmlns=\"http://www.w3.org/2000/svg\" height=\"24px\"viewBox=\"0 0 24 24\"\n",
              "       width=\"24px\">\n",
              "    <path d=\"M0 0h24v24H0V0z\" fill=\"none\"/>\n",
              "    <path d=\"M18.56 5.44l.94 2.06.94-2.06 2.06-.94-2.06-.94-.94-2.06-.94 2.06-2.06.94zm-11 1L8.5 8.5l.94-2.06 2.06-.94-2.06-.94L8.5 2.5l-.94 2.06-2.06.94zm10 10l.94 2.06.94-2.06 2.06-.94-2.06-.94-.94-2.06-.94 2.06-2.06.94z\"/><path d=\"M17.41 7.96l-1.37-1.37c-.4-.4-.92-.59-1.43-.59-.52 0-1.04.2-1.43.59L10.3 9.45l-7.72 7.72c-.78.78-.78 2.05 0 2.83L4 21.41c.39.39.9.59 1.41.59.51 0 1.02-.2 1.41-.59l7.78-7.78 2.81-2.81c.8-.78.8-2.07 0-2.86zM5.41 20L4 18.59l7.72-7.72 1.47 1.35L5.41 20z\"/>\n",
              "  </svg>\n",
              "      </button>\n",
              "      \n",
              "  <style>\n",
              "    .colab-df-container {\n",
              "      display:flex;\n",
              "      flex-wrap:wrap;\n",
              "      gap: 12px;\n",
              "    }\n",
              "\n",
              "    .colab-df-convert {\n",
              "      background-color: #E8F0FE;\n",
              "      border: none;\n",
              "      border-radius: 50%;\n",
              "      cursor: pointer;\n",
              "      display: none;\n",
              "      fill: #1967D2;\n",
              "      height: 32px;\n",
              "      padding: 0 0 0 0;\n",
              "      width: 32px;\n",
              "    }\n",
              "\n",
              "    .colab-df-convert:hover {\n",
              "      background-color: #E2EBFA;\n",
              "      box-shadow: 0px 1px 2px rgba(60, 64, 67, 0.3), 0px 1px 3px 1px rgba(60, 64, 67, 0.15);\n",
              "      fill: #174EA6;\n",
              "    }\n",
              "\n",
              "    [theme=dark] .colab-df-convert {\n",
              "      background-color: #3B4455;\n",
              "      fill: #D2E3FC;\n",
              "    }\n",
              "\n",
              "    [theme=dark] .colab-df-convert:hover {\n",
              "      background-color: #434B5C;\n",
              "      box-shadow: 0px 1px 3px 1px rgba(0, 0, 0, 0.15);\n",
              "      filter: drop-shadow(0px 1px 2px rgba(0, 0, 0, 0.3));\n",
              "      fill: #FFFFFF;\n",
              "    }\n",
              "  </style>\n",
              "\n",
              "      <script>\n",
              "        const buttonEl =\n",
              "          document.querySelector('#df-c7d71f0f-f59b-4c4f-959a-254c915d918f button.colab-df-convert');\n",
              "        buttonEl.style.display =\n",
              "          google.colab.kernel.accessAllowed ? 'block' : 'none';\n",
              "\n",
              "        async function convertToInteractive(key) {\n",
              "          const element = document.querySelector('#df-c7d71f0f-f59b-4c4f-959a-254c915d918f');\n",
              "          const dataTable =\n",
              "            await google.colab.kernel.invokeFunction('convertToInteractive',\n",
              "                                                     [key], {});\n",
              "          if (!dataTable) return;\n",
              "\n",
              "          const docLinkHtml = 'Like what you see? Visit the ' +\n",
              "            '<a target=\"_blank\" href=https://colab.research.google.com/notebooks/data_table.ipynb>data table notebook</a>'\n",
              "            + ' to learn more about interactive tables.';\n",
              "          element.innerHTML = '';\n",
              "          dataTable['output_type'] = 'display_data';\n",
              "          await google.colab.output.renderOutput(dataTable, element);\n",
              "          const docLink = document.createElement('div');\n",
              "          docLink.innerHTML = docLinkHtml;\n",
              "          element.appendChild(docLink);\n",
              "        }\n",
              "      </script>\n",
              "    </div>\n",
              "  </div>\n",
              "  "
            ]
          },
          "metadata": {},
          "execution_count": 12
        }
      ]
    },
    {
      "cell_type": "markdown",
      "source": [
        "# [5] Save the frequency list as a csv file"
      ],
      "metadata": {
        "id": "A7ZCy0O_8gTF"
      }
    },
    {
      "cell_type": "code",
      "source": [
        "print('='*30)\n",
        "print(\"Step 1. Write a filename to save: e.g., voca.csv\")\n",
        "print('='*30)\n",
        "filename=input()\n",
        "print('='*30)\n",
        "print(\"=> File name received: %s.csv\"%txt)\n",
        "df.to_csv(filename, index=False)\n",
        "print('='*30)\n",
        "print(\"Step 2. Wait 5 seconds and then see Files panel on the left\")\n",
        "print('='*30)\n",
        "print(\"Step 3. Select the file and download it on your computer.\")\n",
        "print('='*30)\n",
        "print('*** If you find an error or have a question, leave message at Issues below')\n",
        "print('https://github.com/MK316/applications/issues')"
      ],
      "metadata": {
        "id": "kCLoWTt58wF-",
        "outputId": "45239adc-60a1-4ecf-9127-aa6032a578e8",
        "colab": {
          "base_uri": "https://localhost:8080/"
        }
      },
      "execution_count": 15,
      "outputs": [
        {
          "output_type": "stream",
          "name": "stdout",
          "text": [
            "==============================\n",
            "Step 1. Write a filename to save: e.g., voca.csv\n",
            "==============================\n",
            "voca.csv\n",
            "==============================\n",
            "=> File name received: Ch2_wholewordlist.csv\n",
            "==============================\n",
            "Step 2. Wait 5 seconds and then see Files panel on the left\n",
            "==============================\n",
            "Step 3. Select the file and download it on your computer.\n",
            "==============================\n",
            "*** If you find an error or have a question, leave message at Issues below\n",
            "https://github.com/MK316/applications/issues\n"
          ]
        }
      ]
    }
  ]
}