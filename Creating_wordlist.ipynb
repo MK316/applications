{
  "nbformat": 4,
  "nbformat_minor": 0,
  "metadata": {
    "colab": {
      "name": "Creating-wordlist.ipynb",
      "provenance": [],
      "collapsed_sections": [],
      "authorship_tag": "ABX9TyOI63Y7Hwvzz9hPZH+XXdLd",
      "include_colab_link": true
    },
    "kernelspec": {
      "name": "python3",
      "display_name": "Python 3"
    },
    "language_info": {
      "name": "python"
    }
  },
  "cells": [
    {
      "cell_type": "markdown",
      "metadata": {
        "id": "view-in-github",
        "colab_type": "text"
      },
      "source": [
        "<a href=\"https://colab.research.google.com/github/MK316/applications/blob/main/Creating_wordlist.ipynb\" target=\"_parent\"><img src=\"https://colab.research.google.com/assets/colab-badge.svg\" alt=\"Open In Colab\"/></a>"
      ]
    },
    {
      "cell_type": "markdown",
      "source": [
        "# [1] Import modules"
      ],
      "metadata": {
        "id": "4Z69U2Ja6Aed"
      }
    },
    {
      "cell_type": "code",
      "execution_count": 1,
      "metadata": {
        "colab": {
          "base_uri": "https://localhost:8080/"
        },
        "id": "joLodXuU5uyz",
        "outputId": "ab51acfd-afac-42f7-a00d-dfa57dd6e3d2"
      },
      "outputs": [
        {
          "output_type": "stream",
          "name": "stdout",
          "text": [
            "[nltk_data] Downloading package punkt to /root/nltk_data...\n",
            "[nltk_data]   Unzipping tokenizers/punkt.zip.\n"
          ]
        }
      ],
      "source": [
        "import nltk\n",
        "from nltk.tokenize import word_tokenize, sent_tokenize\n",
        "nltk.download(\"punkt\")\n",
        "\n",
        "import pandas as pd\n",
        "import numpy as np"
      ]
    },
    {
      "cell_type": "markdown",
      "source": [
        "# [2] Paste your text"
      ],
      "metadata": {
        "id": "w5p4w1tV6Eps"
      }
    },
    {
      "cell_type": "code",
      "source": [
        "print('Paste your text into the box and then press ENTER key.')\n",
        "copytext = input()"
      ],
      "metadata": {
        "colab": {
          "base_uri": "https://localhost:8080/"
        },
        "id": "vxtQxgdx-aWt",
        "outputId": "7cc859a8-ed44-49d3-a525-af4b2d1022de"
      },
      "execution_count": 41,
      "outputs": [
        {
          "name": "stdout",
          "output_type": "stream",
          "text": [
            "Paste your text into the box and then press ENTER key\n",
            "When the sunlight strikes raindrops in the air, they act as a prism and form a rainbow. The rainbow is a division of white light into many beautiful colors. These take the shape of a long round arch, with its path high above, and its two ends apparently beyond the horizon. There is , according to legend, a boiling pot of gold at one end. People look, but no one ever finds it. When a man looks for something beyond his reach, his friends say he is looking for the pot of gold at the end of the rainbow. Throughout the centuries people have explained the rainbow in various ways. Some have accepted it as a miracle without physical explanation. To the Hebrews it was a token that there would be no more universal floods. The Greeks used to imagine that it was a sign from the gods to foretell war or heavy rain. The Norsemen considered the rainbow as a bridge over which the gods passed from earth to their home in the sky. Others have tried to explain the phenomenon physically. Aristotle thought that the rainbow was caused by reflection of the sun's rays by the rain. Since then physicists have found that it is not reflection, but refraction by the raindrops which causes the rainbows. Many complicated ideas about the rainbow have been formed. The difference in the rainbow depends considerably upon the size of the drops, and the width of the colored band increases as the size of the drops increases. The actual primary rainbow observed is said to be the effect of super-imposition of a number of bows. If the red of the second bow falls upon the green of the first, the result is to give a bow with an abnormally wide yellow band, since red and green light when mixed form yellow. This is a very common type of bow, one showing mainly red and yellow, with little or no green or blue.\n"
          ]
        }
      ]
    },
    {
      "cell_type": "code",
      "source": [
        "text = copytext"
      ],
      "metadata": {
        "id": "1N47-4rS6Is6"
      },
      "execution_count": 42,
      "outputs": []
    },
    {
      "cell_type": "markdown",
      "source": [
        "# [3] Text processing\n",
        "### A. Tokenize text"
      ],
      "metadata": {
        "id": "zqRyt6lN6a8i"
      }
    },
    {
      "cell_type": "code",
      "source": [
        "words = word_tokenize(text)\n",
        "print('Total words: ', len(words))\n",
        "print(words)"
      ],
      "metadata": {
        "colab": {
          "base_uri": "https://localhost:8080/"
        },
        "id": "BFWKA0lw6OiQ",
        "outputId": "be439494-e04d-4a50-de7f-9c63cf5e1023"
      },
      "execution_count": 43,
      "outputs": [
        {
          "output_type": "stream",
          "name": "stdout",
          "text": [
            "Total words:  362\n",
            "['When', 'the', 'sunlight', 'strikes', 'raindrops', 'in', 'the', 'air', ',', 'they', 'act', 'as', 'a', 'prism', 'and', 'form', 'a', 'rainbow', '.', 'The', 'rainbow', 'is', 'a', 'division', 'of', 'white', 'light', 'into', 'many', 'beautiful', 'colors', '.', 'These', 'take', 'the', 'shape', 'of', 'a', 'long', 'round', 'arch', ',', 'with', 'its', 'path', 'high', 'above', ',', 'and', 'its', 'two', 'ends', 'apparently', 'beyond', 'the', 'horizon', '.', 'There', 'is', ',', 'according', 'to', 'legend', ',', 'a', 'boiling', 'pot', 'of', 'gold', 'at', 'one', 'end', '.', 'People', 'look', ',', 'but', 'no', 'one', 'ever', 'finds', 'it', '.', 'When', 'a', 'man', 'looks', 'for', 'something', 'beyond', 'his', 'reach', ',', 'his', 'friends', 'say', 'he', 'is', 'looking', 'for', 'the', 'pot', 'of', 'gold', 'at', 'the', 'end', 'of', 'the', 'rainbow', '.', 'Throughout', 'the', 'centuries', 'people', 'have', 'explained', 'the', 'rainbow', 'in', 'various', 'ways', '.', 'Some', 'have', 'accepted', 'it', 'as', 'a', 'miracle', 'without', 'physical', 'explanation', '.', 'To', 'the', 'Hebrews', 'it', 'was', 'a', 'token', 'that', 'there', 'would', 'be', 'no', 'more', 'universal', 'floods', '.', 'The', 'Greeks', 'used', 'to', 'imagine', 'that', 'it', 'was', 'a', 'sign', 'from', 'the', 'gods', 'to', 'foretell', 'war', 'or', 'heavy', 'rain', '.', 'The', 'Norsemen', 'considered', 'the', 'rainbow', 'as', 'a', 'bridge', 'over', 'which', 'the', 'gods', 'passed', 'from', 'earth', 'to', 'their', 'home', 'in', 'the', 'sky', '.', 'Others', 'have', 'tried', 'to', 'explain', 'the', 'phenomenon', 'physically', '.', 'Aristotle', 'thought', 'that', 'the', 'rainbow', 'was', 'caused', 'by', 'reflection', 'of', 'the', 'sun', \"'s\", 'rays', 'by', 'the', 'rain', '.', 'Since', 'then', 'physicists', 'have', 'found', 'that', 'it', 'is', 'not', 'reflection', ',', 'but', 'refraction', 'by', 'the', 'raindrops', 'which', 'causes', 'the', 'rainbows', '.', 'Many', 'complicated', 'ideas', 'about', 'the', 'rainbow', 'have', 'been', 'formed', '.', 'The', 'difference', 'in', 'the', 'rainbow', 'depends', 'considerably', 'upon', 'the', 'size', 'of', 'the', 'drops', ',', 'and', 'the', 'width', 'of', 'the', 'colored', 'band', 'increases', 'as', 'the', 'size', 'of', 'the', 'drops', 'increases', '.', 'The', 'actual', 'primary', 'rainbow', 'observed', 'is', 'said', 'to', 'be', 'the', 'effect', 'of', 'super-imposition', 'of', 'a', 'number', 'of', 'bows', '.', 'If', 'the', 'red', 'of', 'the', 'second', 'bow', 'falls', 'upon', 'the', 'green', 'of', 'the', 'first', ',', 'the', 'result', 'is', 'to', 'give', 'a', 'bow', 'with', 'an', 'abnormally', 'wide', 'yellow', 'band', ',', 'since', 'red', 'and', 'green', 'light', 'when', 'mixed', 'form', 'yellow', '.', 'This', 'is', 'a', 'very', 'common', 'type', 'of', 'bow', ',', 'one', 'showing', 'mainly', 'red', 'and', 'yellow', ',', 'with', 'little', 'or', 'no', 'green', 'or', 'blue', '.']\n"
          ]
        }
      ]
    },
    {
      "cell_type": "code",
      "source": [
        "# Word list with longer than 3 letter. Without punctuation:\n",
        "wordlist = []\n",
        "for w in words:\n",
        "  if len(w) > 3:\n",
        "    wordlist.append(w)\n",
        "print('Total words: ', len(wordlist))\n",
        "print(wordlist)"
      ],
      "metadata": {
        "colab": {
          "base_uri": "https://localhost:8080/"
        },
        "id": "QKlzi3Jm60Ww",
        "outputId": "36093500-2ab3-4109-f050-1ed153b6d3e8"
      },
      "execution_count": 44,
      "outputs": [
        {
          "output_type": "stream",
          "name": "stdout",
          "text": [
            "Total words:  180\n",
            "['When', 'sunlight', 'strikes', 'raindrops', 'they', 'prism', 'form', 'rainbow', 'rainbow', 'division', 'white', 'light', 'into', 'many', 'beautiful', 'colors', 'These', 'take', 'shape', 'long', 'round', 'arch', 'with', 'path', 'high', 'above', 'ends', 'apparently', 'beyond', 'horizon', 'There', 'according', 'legend', 'boiling', 'gold', 'People', 'look', 'ever', 'finds', 'When', 'looks', 'something', 'beyond', 'reach', 'friends', 'looking', 'gold', 'rainbow', 'Throughout', 'centuries', 'people', 'have', 'explained', 'rainbow', 'various', 'ways', 'Some', 'have', 'accepted', 'miracle', 'without', 'physical', 'explanation', 'Hebrews', 'token', 'that', 'there', 'would', 'more', 'universal', 'floods', 'Greeks', 'used', 'imagine', 'that', 'sign', 'from', 'gods', 'foretell', 'heavy', 'rain', 'Norsemen', 'considered', 'rainbow', 'bridge', 'over', 'which', 'gods', 'passed', 'from', 'earth', 'their', 'home', 'Others', 'have', 'tried', 'explain', 'phenomenon', 'physically', 'Aristotle', 'thought', 'that', 'rainbow', 'caused', 'reflection', 'rays', 'rain', 'Since', 'then', 'physicists', 'have', 'found', 'that', 'reflection', 'refraction', 'raindrops', 'which', 'causes', 'rainbows', 'Many', 'complicated', 'ideas', 'about', 'rainbow', 'have', 'been', 'formed', 'difference', 'rainbow', 'depends', 'considerably', 'upon', 'size', 'drops', 'width', 'colored', 'band', 'increases', 'size', 'drops', 'increases', 'actual', 'primary', 'rainbow', 'observed', 'said', 'effect', 'super-imposition', 'number', 'bows', 'second', 'falls', 'upon', 'green', 'first', 'result', 'give', 'with', 'abnormally', 'wide', 'yellow', 'band', 'since', 'green', 'light', 'when', 'mixed', 'form', 'yellow', 'This', 'very', 'common', 'type', 'showing', 'mainly', 'yellow', 'with', 'little', 'green', 'blue']\n"
          ]
        }
      ]
    },
    {
      "cell_type": "markdown",
      "source": [
        "### B. Change words in lower case"
      ],
      "metadata": {
        "id": "EKWFXT4g7KVF"
      }
    },
    {
      "cell_type": "code",
      "source": [
        "# Lower case\n",
        "lowerword = []\n",
        "for w in wordlist:\n",
        "  w1 = w.lower()\n",
        "  lowerword.append(w1)\n",
        "print(lowerword)"
      ],
      "metadata": {
        "colab": {
          "base_uri": "https://localhost:8080/"
        },
        "id": "cECoh9jZ7Jc-",
        "outputId": "9b8d85dd-7e3b-4432-d7ae-f1ae891153d9"
      },
      "execution_count": 45,
      "outputs": [
        {
          "output_type": "stream",
          "name": "stdout",
          "text": [
            "['when', 'sunlight', 'strikes', 'raindrops', 'they', 'prism', 'form', 'rainbow', 'rainbow', 'division', 'white', 'light', 'into', 'many', 'beautiful', 'colors', 'these', 'take', 'shape', 'long', 'round', 'arch', 'with', 'path', 'high', 'above', 'ends', 'apparently', 'beyond', 'horizon', 'there', 'according', 'legend', 'boiling', 'gold', 'people', 'look', 'ever', 'finds', 'when', 'looks', 'something', 'beyond', 'reach', 'friends', 'looking', 'gold', 'rainbow', 'throughout', 'centuries', 'people', 'have', 'explained', 'rainbow', 'various', 'ways', 'some', 'have', 'accepted', 'miracle', 'without', 'physical', 'explanation', 'hebrews', 'token', 'that', 'there', 'would', 'more', 'universal', 'floods', 'greeks', 'used', 'imagine', 'that', 'sign', 'from', 'gods', 'foretell', 'heavy', 'rain', 'norsemen', 'considered', 'rainbow', 'bridge', 'over', 'which', 'gods', 'passed', 'from', 'earth', 'their', 'home', 'others', 'have', 'tried', 'explain', 'phenomenon', 'physically', 'aristotle', 'thought', 'that', 'rainbow', 'caused', 'reflection', 'rays', 'rain', 'since', 'then', 'physicists', 'have', 'found', 'that', 'reflection', 'refraction', 'raindrops', 'which', 'causes', 'rainbows', 'many', 'complicated', 'ideas', 'about', 'rainbow', 'have', 'been', 'formed', 'difference', 'rainbow', 'depends', 'considerably', 'upon', 'size', 'drops', 'width', 'colored', 'band', 'increases', 'size', 'drops', 'increases', 'actual', 'primary', 'rainbow', 'observed', 'said', 'effect', 'super-imposition', 'number', 'bows', 'second', 'falls', 'upon', 'green', 'first', 'result', 'give', 'with', 'abnormally', 'wide', 'yellow', 'band', 'since', 'green', 'light', 'when', 'mixed', 'form', 'yellow', 'this', 'very', 'common', 'type', 'showing', 'mainly', 'yellow', 'with', 'little', 'green', 'blue']\n"
          ]
        }
      ]
    },
    {
      "cell_type": "markdown",
      "source": [
        "### C. Remove stopwords (function words)"
      ],
      "metadata": {
        "id": "u5VU_Jh37ZjL"
      }
    },
    {
      "cell_type": "code",
      "source": [
        "from nltk.corpus import stopwords  \n",
        "nltk.download('stopwords')"
      ],
      "metadata": {
        "colab": {
          "base_uri": "https://localhost:8080/"
        },
        "id": "YgjgkTvZ7Y8z",
        "outputId": "e84d4e1d-1c23-4f32-9d87-fac893ee67f0"
      },
      "execution_count": 46,
      "outputs": [
        {
          "output_type": "stream",
          "name": "stdout",
          "text": [
            "[nltk_data] Downloading package stopwords to /root/nltk_data...\n",
            "[nltk_data]   Package stopwords is already up-to-date!\n"
          ]
        },
        {
          "output_type": "execute_result",
          "data": {
            "text/plain": [
              "True"
            ]
          },
          "metadata": {},
          "execution_count": 46
        }
      ]
    },
    {
      "cell_type": "code",
      "source": [
        "stopwords = nltk.corpus.stopwords.words('english')\n",
        "# stopwords.append(\"'re\"); stopwords.append(\"n't\"); stopwords.append(\"'ve\")\n",
        "print('Stopwords number: ',len(stopwords)); print(stopwords[:10])"
      ],
      "metadata": {
        "colab": {
          "base_uri": "https://localhost:8080/"
        },
        "id": "uXn2TYwZ7jul",
        "outputId": "f883d7ff-c140-4c39-cbd0-e20744f9ee51"
      },
      "execution_count": 47,
      "outputs": [
        {
          "output_type": "stream",
          "name": "stdout",
          "text": [
            "Stopwords number:  179\n",
            "['i', 'me', 'my', 'myself', 'we', 'our', 'ours', 'ourselves', 'you', \"you're\"]\n"
          ]
        }
      ]
    },
    {
      "cell_type": "code",
      "source": [
        "words = [w for w in lowerword if not w in stopwords]\n",
        "reduced = len(lowerword) - len(words)\n",
        "print('Before stopwords:',len(lowerword))\n",
        "print('After stopwords: ',len(words),'(-%d)'%reduced); \n",
        "print('='*30)\n",
        "print(words[:10])"
      ],
      "metadata": {
        "colab": {
          "base_uri": "https://localhost:8080/"
        },
        "id": "B3o9FTiR76GY",
        "outputId": "d67f6834-6f1b-419c-caf3-b896e7b27e3c"
      },
      "execution_count": 48,
      "outputs": [
        {
          "output_type": "stream",
          "name": "stdout",
          "text": [
            "Before stopwords: 180\n",
            "After stopwords:  146 (-34)\n",
            "==============================\n",
            "['sunlight', 'strikes', 'raindrops', 'prism', 'form', 'rainbow', 'rainbow', 'division', 'white', 'light']\n"
          ]
        }
      ]
    },
    {
      "cell_type": "markdown",
      "source": [
        "# [4] Word frequency list"
      ],
      "metadata": {
        "id": "A71mAhLC8OrM"
      }
    },
    {
      "cell_type": "code",
      "source": [
        "wordtype = fd = nltk.FreqDist(words).most_common()\n",
        "totalnum = len(wordtype)"
      ],
      "metadata": {
        "id": "h6yVx8gQCa7u"
      },
      "execution_count": 67,
      "outputs": []
    },
    {
      "cell_type": "code",
      "source": [
        "print('='*5,'Instruction','='*5)\n",
        "print('The text contains %d word types'%totalnum)\n",
        "print(\"If you want to see 10 or 20 most frequent words, type '10' or '20'.\")\n",
        "print(\"If you want to see the whole list, type %d in the box below.\"%totalnum)\n",
        "print('After write down the number, hit ENTER button')\n",
        "topnum = input()\n",
        "topnum = int(topnum)\n",
        "print('Okay. We will show you %d top frequent words.'%topnum)"
      ],
      "metadata": {
        "colab": {
          "base_uri": "https://localhost:8080/"
        },
        "id": "VIywMvLV_eHR",
        "outputId": "ebd7bc6d-a373-41a6-b927-dc5c6f412eb7"
      },
      "execution_count": 76,
      "outputs": [
        {
          "output_type": "stream",
          "name": "stdout",
          "text": [
            "===== Instruction =====\n",
            "The text contains 118 word types\n",
            "If you want to see 10 or 20 most frequent words, type '10' or '20'.\n",
            "If you want to see the whole list, type 118 in the box below.\n",
            "After write down the number, hit ENTER button\n",
            "20\n",
            "Okay. We will show you 20 top frequent words.\n"
          ]
        }
      ]
    },
    {
      "cell_type": "code",
      "source": [
        "fd = nltk.FreqDist(words).most_common(10)\n",
        "df = pd.DataFrame(fd,columns = ['Word','Freq']) \n",
        "rank = pd.Series(range(1,n+1))\n",
        "df['rank'] = rank\n",
        "newindex = range(1,n+1); print(newindex)\n",
        "\n",
        "len(newindex)\n",
        "df = df.set_index([pd.Index(newindex)])\n",
        "print(df)"
      ],
      "metadata": {
        "colab": {
          "base_uri": "https://localhost:8080/"
        },
        "id": "5EffiBYPI3f8",
        "outputId": "74b09403-0b82-42ae-e4c9-e8f22bb03a9a"
      },
      "execution_count": 137,
      "outputs": [
        {
          "output_type": "stream",
          "name": "stdout",
          "text": [
            "range(1, 11)\n",
            "         Word  Freq  rank\n",
            "1     rainbow     9     1\n",
            "2       green     3     2\n",
            "3      yellow     3     3\n",
            "4   raindrops     2     4\n",
            "5        form     2     5\n",
            "6       light     2     6\n",
            "7        many     2     7\n",
            "8      beyond     2     8\n",
            "9        gold     2     9\n",
            "10     people     2    10\n"
          ]
        }
      ]
    },
    {
      "cell_type": "code",
      "source": [
        "    print('='*5,'Instruction','='*5)\n",
        "    print('The text contains %d word types'%totalnum)\n",
        "    print(\"If you want to see 10 or 20 most frequent words, type '10' or '20'.\")\n",
        "    print(\"If you want to see the whole list, type %d in the box below.\"%totalnum)\n",
        "    print('After write down the number, hit ENTER button')\n",
        "    topnum = input()\n",
        "    topnum = int(topnum)\n",
        "    print('Here is the %d top frequent word list.'%topnum)\n",
        "\n",
        "n = topnum\n",
        "\n",
        "def makelist(n):\n",
        "      fd = nltk.FreqDist(words).most_common(n)\n",
        "      df = pd.DataFrame(fd,columns = ['Word','Freq']) \n",
        "      df = df.set_index([pd.Index(range(1,n+1))]) # index from 1\n",
        "      print(df) \n",
        "\n",
        "makelist(n)"
      ],
      "metadata": {
        "colab": {
          "base_uri": "https://localhost:8080/"
        },
        "id": "GzTenh90EJRN",
        "outputId": "5c4ca24c-c04f-4eef-9f56-ccafff732137"
      },
      "execution_count": 139,
      "outputs": [
        {
          "output_type": "stream",
          "name": "stdout",
          "text": [
            "===== Instruction =====\n",
            "The text contains 118 word types\n",
            "If you want to see 10 or 20 most frequent words, type '10' or '20'.\n",
            "If you want to see the whole list, type 118 in the box below.\n",
            "After write down the number, hit ENTER button\n",
            "20\n",
            "Here is the 20 top frequent word list.\n",
            "          Word  Freq\n",
            "1      rainbow     9\n",
            "2        green     3\n",
            "3       yellow     3\n",
            "4    raindrops     2\n",
            "5         form     2\n",
            "6        light     2\n",
            "7         many     2\n",
            "8       beyond     2\n",
            "9         gold     2\n",
            "10      people     2\n",
            "11        gods     2\n",
            "12        rain     2\n",
            "13  reflection     2\n",
            "14       since     2\n",
            "15        upon     2\n",
            "16        size     2\n",
            "17       drops     2\n",
            "18        band     2\n",
            "19   increases     2\n",
            "20    sunlight     1\n"
          ]
        }
      ]
    },
    {
      "cell_type": "markdown",
      "source": [
        "# [5] Save the frequency list as a csv file"
      ],
      "metadata": {
        "id": "A7ZCy0O_8gTF"
      }
    },
    {
      "cell_type": "code",
      "source": [
        "print(\"Step 1. Write a filename to save:\")\n",
        "txt = input()\n",
        "print('='*30)\n",
        "print(\"=> File name received: %s.txt\"%txt)\n",
        "df.to_csv(txt, index=False)\n",
        "print('='*30)\n",
        "print(\"Step 2. Wait 5 seconds and then see Files panel on the left\")\n",
        "print('='*30)\n",
        "print(\"Step 3. Select the file and download it on your computer.\")\n",
        "print('='*30)\n",
        "print('If you find an error or have a question, leave message at Issues below')\n",
        "print('')"
      ],
      "metadata": {
        "colab": {
          "base_uri": "https://localhost:8080/"
        },
        "id": "kCLoWTt58wF-",
        "outputId": "725097b2-feb3-432d-faec-218491e0a247"
      },
      "execution_count": 157,
      "outputs": [
        {
          "output_type": "stream",
          "name": "stdout",
          "text": [
            "Step 1. Write a filename to save:\n",
            "test\n",
            "==============================\n",
            "=> File name received: test.txt\n",
            "==============================\n",
            "Step 2. Wait 5 seconds and then see Files panel on the left\n",
            "==============================\n",
            "Step 3. Select the file and download it on your computer.\n",
            "==============================\n",
            "If you find an error or have a question, leave message at Issues below\n",
            "\n"
          ]
        }
      ]
    }
  ]
}