{
  "nbformat": 4,
  "nbformat_minor": 0,
  "metadata": {
    "colab": {
      "name": "Creating-wordlist.ipynb",
      "provenance": [],
      "collapsed_sections": [],
      "authorship_tag": "ABX9TyNecGN3ekouCE+ZwiZUvUN+",
      "include_colab_link": true
    },
    "kernelspec": {
      "name": "python3",
      "display_name": "Python 3"
    },
    "language_info": {
      "name": "python"
    }
  },
  "cells": [
    {
      "cell_type": "markdown",
      "metadata": {
        "id": "view-in-github",
        "colab_type": "text"
      },
      "source": [
        "<a href=\"https://colab.research.google.com/github/MK316/applications/blob/main/Creating_wordlist.ipynb\" target=\"_parent\"><img src=\"https://colab.research.google.com/assets/colab-badge.svg\" alt=\"Open In Colab\"/></a>"
      ]
    },
    {
      "cell_type": "markdown",
      "source": [
        "# [1] Import modules"
      ],
      "metadata": {
        "id": "4Z69U2Ja6Aed"
      }
    },
    {
      "cell_type": "code",
      "execution_count": null,
      "metadata": {
        "id": "joLodXuU5uyz"
      },
      "outputs": [],
      "source": [
        "import nltk\n",
        "from nltk.tokenize import word_tokenize, sent_tokenize\n",
        "nltk.download(\"punkt\")\n",
        "\n",
        "import pandas as pd\n",
        "import numpy as np"
      ]
    },
    {
      "cell_type": "markdown",
      "source": [
        "# [2] Paste your text"
      ],
      "metadata": {
        "id": "w5p4w1tV6Eps"
      }
    },
    {
      "cell_type": "code",
      "source": [
        "print('Copy and paste your text into the box below and hit ENTER key.')\n",
        "copytext = input()"
      ],
      "metadata": {
        "id": "vxtQxgdx-aWt"
      },
      "execution_count": null,
      "outputs": []
    },
    {
      "cell_type": "code",
      "source": [
        "text = copytext"
      ],
      "metadata": {
        "id": "1N47-4rS6Is6"
      },
      "execution_count": 39,
      "outputs": []
    },
    {
      "cell_type": "markdown",
      "source": [
        "# [3] Text processing\n",
        "### A. Tokenize text"
      ],
      "metadata": {
        "id": "zqRyt6lN6a8i"
      }
    },
    {
      "cell_type": "code",
      "source": [
        "words = word_tokenize(text)\n",
        "print('Total words: ', len(words))\n",
        "print(words)"
      ],
      "metadata": {
        "id": "BFWKA0lw6OiQ"
      },
      "execution_count": null,
      "outputs": []
    },
    {
      "cell_type": "code",
      "source": [
        "# Word list with longer than 3 letter. Without punctuation:\n",
        "wordlist = []\n",
        "for w in words:\n",
        "  if len(w) > 3:\n",
        "    wordlist.append(w)\n",
        "print('Total words: ', len(wordlist))\n",
        "print(wordlist)"
      ],
      "metadata": {
        "id": "QKlzi3Jm60Ww"
      },
      "execution_count": null,
      "outputs": []
    },
    {
      "cell_type": "markdown",
      "source": [
        "### B. Change words in lower case"
      ],
      "metadata": {
        "id": "EKWFXT4g7KVF"
      }
    },
    {
      "cell_type": "code",
      "source": [
        "# Lower case\n",
        "lowerword = []\n",
        "for w in wordlist:\n",
        "  w1 = w.lower()\n",
        "  lowerword.append(w1)\n",
        "print(lowerword)"
      ],
      "metadata": {
        "id": "cECoh9jZ7Jc-"
      },
      "execution_count": null,
      "outputs": []
    },
    {
      "cell_type": "markdown",
      "source": [
        "### C. Remove stopwords (function words)"
      ],
      "metadata": {
        "id": "u5VU_Jh37ZjL"
      }
    },
    {
      "cell_type": "code",
      "source": [
        "from nltk.corpus import stopwords  \n",
        "nltk.download('stopwords')"
      ],
      "metadata": {
        "id": "YgjgkTvZ7Y8z"
      },
      "execution_count": null,
      "outputs": []
    },
    {
      "cell_type": "code",
      "source": [
        "stopwords = nltk.corpus.stopwords.words('english')\n",
        "# stopwords.append(\"'re\"); stopwords.append(\"n't\"); stopwords.append(\"'ve\")\n",
        "print('Stopwords number: ',len(stopwords)); print(stopwords[:10])"
      ],
      "metadata": {
        "id": "uXn2TYwZ7jul"
      },
      "execution_count": null,
      "outputs": []
    },
    {
      "cell_type": "code",
      "source": [
        "words = [w for w in lowerword if not w in stopwords]\n",
        "reduced = len(lowerword) - len(words)\n",
        "print('Before stopwords:',len(lowerword))\n",
        "print('After stopwords: ',len(words),'(-%d)'%reduced); \n",
        "print('='*30)\n",
        "print(words[:10])"
      ],
      "metadata": {
        "id": "B3o9FTiR76GY"
      },
      "execution_count": null,
      "outputs": []
    },
    {
      "cell_type": "markdown",
      "source": [
        "# [4] Word frequency list"
      ],
      "metadata": {
        "id": "A71mAhLC8OrM"
      }
    },
    {
      "cell_type": "code",
      "source": [
        "wordtype = fd = nltk.FreqDist(words).most_common()\n",
        "totalnum = len(wordtype)"
      ],
      "metadata": {
        "id": "h6yVx8gQCa7u"
      },
      "execution_count": 46,
      "outputs": []
    },
    {
      "cell_type": "code",
      "source": [
        "    print('='*5,'Instruction','='*5)\n",
        "    print('The text contains %d word types'%totalnum)\n",
        "    print(\"If you want to see 10 or 20 most frequent words, type '10' or '20'.\")\n",
        "    print(\"If you want to see the whole list, type %d in the box below.\"%totalnum)\n",
        "    print('After write down the number, hit ENTER button')\n",
        "    topnum = input()\n",
        "    topnum = int(topnum)\n",
        "    print('Here is the %d top frequent word list.'%topnum)\n",
        "\n",
        "n = topnum\n",
        "\n",
        "\n",
        "fd = nltk.FreqDist(words).most_common(n)\n",
        "df = pd.DataFrame(fd,columns = ['Word','Freq']) \n",
        "final = df.set_index([pd.Index(range(1,n+1))]) # index from 1\n",
        "print(final)\n",
        "\n",
        "\n"
      ],
      "metadata": {
        "id": "GzTenh90EJRN"
      },
      "execution_count": null,
      "outputs": []
    },
    {
      "cell_type": "code",
      "source": [
        "df"
      ],
      "metadata": {
        "id": "iyqSyjk4WMyR"
      },
      "execution_count": null,
      "outputs": []
    },
    {
      "cell_type": "markdown",
      "source": [
        "# [5] Save the frequency list as a csv file"
      ],
      "metadata": {
        "id": "A7ZCy0O_8gTF"
      }
    },
    {
      "cell_type": "code",
      "source": [
        "print('='*30)\n",
        "print(\"Step 1. Write a filename to save:\")\n",
        "print('='*30)\n",
        "txt=input()\n",
        "print('='*30)\n",
        "print(\"=> File name received: %s.csv\"%txt)\n",
        "df.to_csv(txt, index=False)\n",
        "print('='*30)\n",
        "print(\"Step 2. Wait 5 seconds and then see Files panel on the left\")\n",
        "print('='*30)\n",
        "print(\"Step 3. Select the file and download it on your computer.\")\n",
        "print('='*30)\n",
        "print('*** If you find an error or have a question, leave message at Issues below')\n",
        "print('https://github.com/MK316/applications/issues')"
      ],
      "metadata": {
        "id": "kCLoWTt58wF-"
      },
      "execution_count": null,
      "outputs": []
    }
  ]
}