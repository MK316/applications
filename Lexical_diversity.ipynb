{
  "nbformat": 4,
  "nbformat_minor": 0,
  "metadata": {
    "colab": {
      "name": "Lexical_diversity.ipynb",
      "provenance": [],
      "authorship_tag": "ABX9TyPRizoApVQh5/4vqUxoWVMr",
      "include_colab_link": true
    },
    "kernelspec": {
      "name": "python3",
      "display_name": "Python 3"
    },
    "language_info": {
      "name": "python"
    }
  },
  "cells": [
    {
      "cell_type": "markdown",
      "metadata": {
        "id": "view-in-github",
        "colab_type": "text"
      },
      "source": [
        "<a href=\"https://colab.research.google.com/github/MK316/applications/blob/main/Lexical_diversity.ipynb\" target=\"_parent\"><img src=\"https://colab.research.google.com/assets/colab-badge.svg\" alt=\"Open In Colab\"/></a>"
      ]
    },
    {
      "cell_type": "markdown",
      "source": [
        "# [Lexical Diversity (LD)](\"https://textinspector.com/help/lexical-diversity/\")\n",
        "- Lexical diversity index: It is a measurement of how many different lexical words (N, V, Adv, Advj) are found in a given text.\n",
        "- LD is considered as one of the important indicators of how complex and difficult to read a given text is.\n",
        "\n",
        "[Duran et al. 2004](\"https://psycnet.apa.org/record/2004-95315-004\"): “…lexical diversity is about more than vocabulary range.  Alternative terms, ‘flexibility’, ‘vocabulary richness’, ‘verbal creativity’, or ‘lexical range and balance’ indicate that it has to do with how vocabulary is deployed as well as how large the vocabulary might be.” \n",
        "[D scale from (Duran, Malvern, Richards, Chipere 2004:238)] (\"https://textinspector.com/wp-content/uploads/2020/12/VocD-comparison-1.jpeg\")"
      ],
      "metadata": {
        "id": "EFdRSccoaf0p"
      }
    },
    {
      "cell_type": "markdown",
      "source": [
        "# Package to install and import"
      ],
      "metadata": {
        "id": "BT2omns8cAU2"
      }
    },
    {
      "cell_type": "code",
      "execution_count": 5,
      "metadata": {
        "id": "oZJw4xBlacJJ",
        "colab": {
          "base_uri": "https://localhost:8080/"
        },
        "outputId": "773a3372-3b31-4227-9705-7374f9e817f1"
      },
      "outputs": [
        {
          "output_type": "stream",
          "name": "stdout",
          "text": [
            "Collecting lexical-diversity\n",
            "  Downloading lexical_diversity-0.1.1-py3-none-any.whl (117 kB)\n",
            "\u001b[?25l\r\u001b[K     |██▉                             | 10 kB 23.7 MB/s eta 0:00:01\r\u001b[K     |█████▋                          | 20 kB 28.1 MB/s eta 0:00:01\r\u001b[K     |████████▍                       | 30 kB 33.7 MB/s eta 0:00:01\r\u001b[K     |███████████▏                    | 40 kB 22.5 MB/s eta 0:00:01\r\u001b[K     |██████████████                  | 51 kB 17.3 MB/s eta 0:00:01\r\u001b[K     |████████████████▊               | 61 kB 19.6 MB/s eta 0:00:01\r\u001b[K     |███████████████████▌            | 71 kB 20.9 MB/s eta 0:00:01\r\u001b[K     |██████████████████████▎         | 81 kB 21.5 MB/s eta 0:00:01\r\u001b[K     |█████████████████████████       | 92 kB 23.1 MB/s eta 0:00:01\r\u001b[K     |███████████████████████████▉    | 102 kB 24.7 MB/s eta 0:00:01\r\u001b[K     |██████████████████████████████▋ | 112 kB 24.7 MB/s eta 0:00:01\r\u001b[K     |████████████████████████████████| 117 kB 24.7 MB/s \n",
            "\u001b[?25hInstalling collected packages: lexical-diversity\n",
            "Successfully installed lexical-diversity-0.1.1\n"
          ]
        }
      ],
      "source": [
        "!pip install lexical-diversity"
      ]
    },
    {
      "cell_type": "code",
      "source": [
        "from lexical_diversity import lex_div as ld"
      ],
      "metadata": {
        "id": "fFTaWF4zcUwl"
      },
      "execution_count": 6,
      "outputs": []
    },
    {
      "cell_type": "markdown",
      "source": [
        "## Paste your text: two texts to cocmpare\n",
        "\n",
        "e.g., \n",
        "text1: Dove and Ant (478 tokens, Aesop fable), TTR(0.457), Root TTR(6.1), \n",
        "text2: National geography reading level 4 (3,381 tokens)"
      ],
      "metadata": {
        "id": "MUZeMgIZcbMK"
      }
    },
    {
      "cell_type": "code",
      "source": [
        "text1 = \"\"\" A KING, whose only son was fond of martial exercises, had a dream\n",
        "in which he was warned that his son would be killed by a lion. \n",
        "Afraid the dream should prove true, he built for his son a\n",
        "pleasant palace and adorned its walls for his amusement with all\n",
        "kinds of life-sized animals, among which was the picture of a\n",
        "lion.  When the young Prince saw this, his grief at being thus\n",
        "confined burst out afresh, and, standing near the lion, he said:\n",
        "\"O you most detestable of animals! through a lying dream of my\n",
        "father's, which he saw in his sleep, I am shut up on your account\n",
        "in this palace as if I had been a girl:  what shall I now do to\n",
        "you?'  With these words he stretched out his hands toward a\n",
        "thorn-tree, meaning to cut a stick from its branches so that he\n",
        "might beat the lion.  But one of the tree's prickles pierced his\n",
        "finger and caused great pain and inflammation, so that the young\n",
        "Prince fell down in a fainting fit.  A violent fever suddenly set\n",
        "in, from which he died not many days later.\n",
        "\"\"\""
      ],
      "metadata": {
        "id": "IEjTJDscck_y"
      },
      "execution_count": 39,
      "outputs": []
    },
    {
      "cell_type": "code",
      "source": [
        "# text2 = \"\"\"Living light\n",
        "# The ability of some species to create light, known as bioluminescence, is both magical and commonplace. Magical, because of its glimmering beauty. Commonplace, because many life forms can do it. On land the most familiar examples are fireflies, flashing to attract mates on a warm summer night. But there are other luminous land organisms, including glow-worms, millipedes, and some ninety species of fungus. Even some birds, such as the Atlantic puffin, have beaks that glow in the dark.\n",
        "# But the real biological light show takes place in the sea. Here, an astonishing number of beings can make light. Some, such as ostracods, are like ocean fireflies, using flashes of light to attract mate. There are also glowing bacteria, and light-making fish, squid, and jellyfish. Indeed, of all the groups of organisms known to make light, more than four-fifths live in the ocean.\n",
        "# As a place to live, the ocean has a couple of peculiarities. Firstly, there is almost nowhere to hide, so being invisible is very important. Secondly, as you descend, sunlight disappears. At first, red light is absorbed. Then the yellow and green parts of the spectrum disappear, leaving just the blue. At two-hundred meters below the surface, the ocean becomes a kind of perpetual twilight, and at six-hundred meters the blue fades out too. In fact, most of the ocean is as black as the night sky. These factors make light uniquely useful as a weapon or a veil.\n",
        "# Hiding with light\n",
        "# In the ocean’s upper layers, where light penetrates, creatures need to blend in to survive. Any life form that stands out is in danger of being spotted by predators, especially those swimming below, looking up. Many life forms solve this problem by avoiding the light zone during the day. Others, such as jellyfish and swimming snails, are transparent, ghostlike creatures, almost impossible to see.\n",
        "# Other sea species use light to survive in the upper layers, but how? Some, such as certain shrimp and squid, illuminate their bellies to match the light coming from above. This allows them to become invisible to predators below. Their light can be turned on and off at will, some even have a dimmer switch. For example, certain types of shrimp can alter how much light they give off, depending on the brightness of the water around them. If a cloud passes overhead and briefly blocks the light, the shrimp will dim itself accordingly.\n",
        "# But if the aim is to remain invisible, why do some creatures light up when they are touched, or when the water nearby is disturbed? A couple of reasons. First, a sudden burst of light may startle a predator, giving the prey a chance to escape. Some kinds of deep-sea squid, for example, give a big squirt of light before darting off into the gloom.\n",
        "# Second, there is the principle of ‘the enemy of my enemy is my friend.’ Giving off light can help summon the predator of your predator. Known as the burglar alarm effect, this is especially useful for tiny life forms, such as dinoflagellates, that cannot swim fast. For such small beings, water is too viscous to allow a quick getaway, it would be like trying to swim through syrup. Instead, when threatened by a shrimp, for example, these organisms light up. The flashes attract larger fish that are better able to spot, and eat, the shrimp. The chief defense for these tiny organisms is therefore not fight or flight, but light.\n",
        "# \"\"\""
      ],
      "metadata": {
        "id": "Lrh1BBeWZ_w6"
      },
      "execution_count": 8,
      "outputs": []
    },
    {
      "cell_type": "code",
      "source": [
        "text2 = \"\"\"THE FROGS, grieved at having no established Ruler, sent\n",
        "ambassadors to Jupiter entreating for a King.  Perceiving their\n",
        "simplicity, he cast down a huge log into the lake.  The Frogs\n",
        "were terrified at the splash occasioned by its fall and hid\n",
        "themselves in the depths of the pool.  But as soon as they\n",
        "realized that the huge log was motionless, they swam again to the\n",
        "top of the water, dismissed their fears, climbed up, and began\n",
        "squatting on it in contempt.  After some time they began to think\n",
        "themselves ill-treated in the appointment of so inert a Ruler,\n",
        "and sent a second deputation to Jupiter to pray that he would set\n",
        "over them another sovereign.  He then gave them an Eel to govern\n",
        "them.  When the Frogs discovered his easy good nature, they sent\n",
        "yet a third time to Jupiter to beg him to choose for them still\n",
        "another King.  Jupiter, displeased with all their complaints,\n",
        "sent a Heron, who preyed upon the Frogs day by day till there\n",
        "were none left to croak upon the lake.  \"\"\""
      ],
      "metadata": {
        "id": "nafmqvkMWup6"
      },
      "execution_count": 35,
      "outputs": []
    },
    {
      "cell_type": "code",
      "source": [
        "print(len(text1))\n",
        "print(len(text2))"
      ],
      "metadata": {
        "colab": {
          "base_uri": "https://localhost:8080/"
        },
        "id": "lSAFSJJH00a-",
        "outputId": "68f6617e-684b-4c52-93e8-60cd55530d9f"
      },
      "execution_count": 40,
      "outputs": [
        {
          "output_type": "stream",
          "name": "stdout",
          "text": [
            "1002\n",
            "983\n"
          ]
        }
      ]
    },
    {
      "cell_type": "markdown",
      "source": [
        "## Or upload texts on colab:"
      ],
      "metadata": {
        "id": "fqsmnhZ2UhMF"
      }
    },
    {
      "cell_type": "code",
      "source": [
        "# # or upload your text file here\n",
        "# from google.colab import files\n",
        "# text = files.upload(); print(type(text))"
      ],
      "metadata": {
        "id": "CnefWnB0coWX"
      },
      "execution_count": 41,
      "outputs": []
    },
    {
      "cell_type": "code",
      "source": [
        "# # Load your file on colab and then read it\n",
        "\n",
        "# file = open('Ch02.txt')\n",
        "# text = file.read()\n",
        "# file.close()"
      ],
      "metadata": {
        "id": "7XcffuAratN2"
      },
      "execution_count": 42,
      "outputs": []
    },
    {
      "cell_type": "code",
      "source": [
        "tok1 = ld.tokenize(text1)\n",
        "tok2 = ld.tokenize(text2)"
      ],
      "metadata": {
        "id": "CdK_Y4yHfK5H"
      },
      "execution_count": 43,
      "outputs": []
    },
    {
      "cell_type": "code",
      "source": [
        "print('First 10 tokenized words:', tok1[:10])\n",
        "print('Total number of tokenized words:', len(tok1))"
      ],
      "metadata": {
        "colab": {
          "base_uri": "https://localhost:8080/"
        },
        "id": "j_zUeDsjfp6_",
        "outputId": "46e150c7-6533-4e01-a50c-05e6fafbb47f"
      },
      "execution_count": 44,
      "outputs": [
        {
          "output_type": "stream",
          "name": "stdout",
          "text": [
            "First 10 tokenized words: ['', 'a', 'king', 'whose', 'only', 'son', 'was', 'fond', 'of', 'martial']\n",
            "Total number of tokenized words: 195\n"
          ]
        }
      ]
    },
    {
      "cell_type": "markdown",
      "source": [
        "# Lemmatize using flemmatize():\n",
        "\n",
        "- Captial to lower case\n",
        "- Contraction forms => apostrphe deletion\n",
        "- Tense: saw > see\n",
        "- Plurality: friends > friend, children > child\n",
        "\n",
        "  e.g., don't > dont, John's > johns, wanna > wanna"
      ],
      "metadata": {
        "id": "P1jRQsyniwC2"
      }
    },
    {
      "cell_type": "code",
      "source": [
        "flt1 = ld.flemmatize(text1)\n",
        "flt2 = ld.flemmatize(text2)\n",
        "\n",
        "# Show first 10 items\n",
        "print(flt1[1:10])\n",
        "print(flt2[1:10])\n",
        "# See how [hasn't] is lemmatized:\n",
        "ld.flemmatize(\"hasn't\")"
      ],
      "metadata": {
        "id": "o0D_dGBih8h5",
        "colab": {
          "base_uri": "https://localhost:8080/"
        },
        "outputId": "6898dde9-b5db-43f9-bab9-515db0d15844"
      },
      "execution_count": 45,
      "outputs": [
        {
          "output_type": "stream",
          "name": "stdout",
          "text": [
            "['a', 'king', 'whose', 'only', 'son', 'be', 'fond', 'of', 'martial']\n",
            "['frog', 'grieve', 'at', 'have', 'no', 'establish', 'ruler', 'send', 'ambassador']\n"
          ]
        },
        {
          "output_type": "execute_result",
          "data": {
            "text/plain": [
              "['hasnt']"
            ]
          },
          "metadata": {},
          "execution_count": 45
        }
      ]
    },
    {
      "cell_type": "markdown",
      "source": [
        "# Lexical Diversity indices:\n",
        "\n",
        "## [1] TTR (Type-Token ratio) = Type / Token: \n",
        "\n",
        "e.g., unique words = 400, Token = 1,000\n",
        "TTR = 400 / 1,000 = 0.4\n",
        "\n",
        "- It is a measure of vocabulary ***variation*** within a written text or a speech\n",
        "\n",
        "- The closer the TTR ratio is to 1, the greater the lexical richness of the segment.\n",
        "\n",
        "* Note: TTR values vary in accordance with the length of the text. That is, TTR’s are not comparable unless they are based on texts of the same length. \n",
        "\n",
        "=> STTR (Standardized TTR): You can get an average type/token ratio based on consecutive 1,000-word chunks of text. (Texts with less than 1,000 words will get a standardised type/token ratio of 0.)"
      ],
      "metadata": {
        "id": "II7Amu12lCCX"
      }
    },
    {
      "cell_type": "markdown",
      "source": [
        "References\n",
        "Johnson (1939) Language and Speech Hygiene: an Application of General Semantics: Outline of a Course (Chicago)."
      ],
      "metadata": {
        "id": "_EksYVihyZTo"
      }
    },
    {
      "cell_type": "code",
      "source": [
        "ttr1 = ld.ttr(flt1)\n",
        "ttr2 = ld.ttr(flt2)\n",
        "print(ttr1, ttr2)"
      ],
      "metadata": {
        "colab": {
          "base_uri": "https://localhost:8080/"
        },
        "id": "4GImz-ZVkNyi",
        "outputId": "6e9e2dd3-5c20-4b04-fac3-cbd8926c704a"
      },
      "execution_count": 46,
      "outputs": [
        {
          "output_type": "stream",
          "name": "stdout",
          "text": [
            "0.6102564102564103 0.6067415730337079\n"
          ]
        }
      ]
    },
    {
      "cell_type": "markdown",
      "source": [
        "## [2] The Root TTR:\n",
        "Guiraud (1959) Probl&egrave;mes et m&eacute;thodes de la statistique linguistique (Dordrecht)."
      ],
      "metadata": {
        "id": "wE4B2Ynnx_co"
      }
    },
    {
      "cell_type": "code",
      "source": [
        "rttr1 = ld.root_ttr(flt1)\n",
        "rttr2 = ld.root_ttr(flt2)\n",
        "print(rttr1,rttr2)"
      ],
      "metadata": {
        "colab": {
          "base_uri": "https://localhost:8080/"
        },
        "id": "x8-lYx_NxKO7",
        "outputId": "2311d5e5-fb0f-4ab8-e7cd-3e123dfcdcff"
      },
      "execution_count": 47,
      "outputs": [
        {
          "output_type": "stream",
          "name": "stdout",
          "text": [
            "8.521767001069252 8.094942241155303\n"
          ]
        }
      ]
    },
    {
      "cell_type": "markdown",
      "source": [
        "## [3] Log TTR:\n",
        "Chotlos (1944); Herdan (1960)"
      ],
      "metadata": {
        "id": "Wvgzu2CHznNu"
      }
    },
    {
      "cell_type": "code",
      "source": [
        "logttr1 = ld.log_ttr(flt1)\n",
        "logttr2 = ld.log_ttr(flt2)"
      ],
      "metadata": {
        "id": "PwYtRBlOzsPV"
      },
      "execution_count": 48,
      "outputs": []
    },
    {
      "cell_type": "markdown",
      "source": [
        "## [4] MASS TTR"
      ],
      "metadata": {
        "id": "TJNDNYOO2FL5"
      }
    },
    {
      "cell_type": "code",
      "source": [
        "msttr1 = ld.maas_ttr(flt1)\n",
        "msttr2 = ld.maas_ttr(flt2)"
      ],
      "metadata": {
        "id": "UepKruoz0PhS"
      },
      "execution_count": 49,
      "outputs": []
    },
    {
      "cell_type": "markdown",
      "source": [
        "## [5] the mean segmental type-token ratio (MSTTR):\n",
        "=> the average of the TTR’s of several consecutive equal-sized samples.\n",
        "\n",
        "Johnson (1944), which"
      ],
      "metadata": {
        "id": "pOvjf3jlz64W"
      }
    },
    {
      "cell_type": "code",
      "source": [
        "# Default window length = 50\n",
        "fdttr1 = ld.msttr(flt1)\n",
        "fdttr2 = ld.msttr(flt1,window_length=1000)"
      ],
      "metadata": {
        "id": "ozgnw66roX4b"
      },
      "execution_count": 50,
      "outputs": []
    },
    {
      "cell_type": "markdown",
      "source": [
        "## [6] Moving average TTR (MATTR)"
      ],
      "metadata": {
        "id": "XQnRVpHr0jC_"
      }
    },
    {
      "cell_type": "code",
      "source": [
        "mattr1 = ld.mattr(flt1); mattr2 = ld.mattr(flt2)\n",
        "mattr2 = ld.mattr(flt1,window_length=25); ld.mattr(flt2, window_length=25)"
      ],
      "metadata": {
        "colab": {
          "base_uri": "https://localhost:8080/"
        },
        "id": "XEZeozh90iLS",
        "outputId": "735db8cf-095d-4ff7-8379-1e94b3e2e5bf"
      },
      "execution_count": 51,
      "outputs": [
        {
          "output_type": "execute_result",
          "data": {
            "text/plain": [
              "0.882337662337662"
            ]
          },
          "metadata": {},
          "execution_count": 51
        }
      ]
    },
    {
      "cell_type": "markdown",
      "source": [
        "## [7] Hypergeometric distribution D (HDD)\n",
        "\n",
        "A more straightforward and reliable implementation of vocD (Malvern, Richards, Chipere, & Duran, 2004) as per McCarthy and Jarvis (2007, 2010)."
      ],
      "metadata": {
        "id": "riQz4oym0vUt"
      }
    },
    {
      "cell_type": "code",
      "source": [
        "hdd1 = ld.hdd(flt1)\n",
        "hdd2 = ld.hdd(flt2)"
      ],
      "metadata": {
        "id": "UMaahRIu0u3W"
      },
      "execution_count": 52,
      "outputs": []
    },
    {
      "cell_type": "markdown",
      "source": [
        "## [8] Measure of lexical textual diversity (MTLD)\n",
        "\n",
        "Calculates MTLD based on McCarthy and Jarvis (2010)."
      ],
      "metadata": {
        "id": "QgAyPGpL02qd"
      }
    },
    {
      "cell_type": "code",
      "source": [
        "mtld1 = ld.mtld(flt1)\n",
        "mtld2 = ld.mtld(flt2)"
      ],
      "metadata": {
        "id": "IWej8SCX02Ro"
      },
      "execution_count": 53,
      "outputs": []
    },
    {
      "cell_type": "markdown",
      "source": [
        "## [9] the bilogarithmic type-token ratio:\n",
        " (Log TTR, Chotlos, 1944; Herdan, 1960); and"
      ],
      "metadata": {
        "id": "zTud5WWVzXJX"
      }
    },
    {
      "cell_type": "markdown",
      "source": [
        "Measure of lexical textual diversity (moving average, wrap)\n",
        "Calculates MTLD using a moving window approach. Instead of calculating partial factors, it wraps to the beginning of the text to complete the last factors."
      ],
      "metadata": {
        "id": "TDQB4MUA08FA"
      }
    },
    {
      "cell_type": "code",
      "source": [
        "bilog1 = ld.mtld_ma_wrap(flt1)\n",
        "bilog2 = ld.mtld_ma_wrap(flt2)"
      ],
      "metadata": {
        "id": "5OUfJ0bp05W5"
      },
      "execution_count": 54,
      "outputs": []
    },
    {
      "cell_type": "markdown",
      "source": [
        "## [10] Measure of lexical textual diversity (moving average, bi-directional)\n",
        "Calculates the average MTLD score by calculating MTLD in each direction using a moving window approach."
      ],
      "metadata": {
        "id": "blW67ofn1DiQ"
      }
    },
    {
      "cell_type": "code",
      "source": [
        "ma1 = ld.mtld_ma_bid(flt1)\n",
        "ma2 = ld.mtld_ma_bid(flt2)"
      ],
      "metadata": {
        "id": "BjUhl5zN1DOw"
      },
      "execution_count": 55,
      "outputs": []
    },
    {
      "cell_type": "markdown",
      "source": [
        ""
      ],
      "metadata": {
        "id": "lYlHIwtc4of4"
      }
    },
    {
      "cell_type": "code",
      "source": [
        "import numpy as np\n",
        "import pandas as pd\n",
        "vect1=np.zeros(10)\n",
        "vect2=np.ones(10)\n",
        "df=pd.DataFrame({'col1':vect1,'col2':vect2})"
      ],
      "metadata": {
        "id": "Ft6ZkvSkUUll"
      },
      "execution_count": 56,
      "outputs": []
    },
    {
      "cell_type": "code",
      "source": [
        "c0 = list(range(1,11))\n",
        "c1 = list([ttr1, rttr1, logttr1, msttr1, fdttr1, mattr1, hdd1, mtld1, bilog1, ma1])\n",
        "c2 = list([ttr2, rttr2, logttr2, msttr2, fdttr2, mattr2, hdd2, mtld2, bilog2, ma2])\n",
        "c3 = list(['TTR','RootTTR','LogTTR','MassTTR','MSTTR','MATTR','HDD','MTLD','BILOGTTR','MofLTD'])\n",
        "          \n",
        "df = pd.DataFrame({'Index':c0, 'Measures':c3,'Text1':c1, 'Text2':c2})\n",
        "\n",
        "df"
      ],
      "metadata": {
        "colab": {
          "base_uri": "https://localhost:8080/",
          "height": 363
        },
        "id": "HO0Gw02p4GBm",
        "outputId": "a8a16287-281b-49df-9eb6-71b7b424f961"
      },
      "execution_count": 57,
      "outputs": [
        {
          "output_type": "execute_result",
          "data": {
            "text/plain": [
              "   Index  Measures      Text1      Text2\n",
              "0      1       TTR   0.610256   0.606742\n",
              "1      2   RootTTR   8.521767   8.094942\n",
              "2      3    LogTTR   0.906339   0.903575\n",
              "3      4   MassTTR   0.040900   0.042847\n",
              "4      5     MSTTR   0.786667   0.610256\n",
              "5      6     MATTR   0.820000   0.907836\n",
              "6      7       HDD   0.834983   0.821366\n",
              "7      8      MTLD  90.947581  86.140103\n",
              "8      9  BILOGTTR  89.882051  75.061798\n",
              "9     10    MofLTD  89.000471  73.918989"
            ],
            "text/html": [
              "\n",
              "  <div id=\"df-7dc021cf-5206-4310-a40d-e1f938dd783a\">\n",
              "    <div class=\"colab-df-container\">\n",
              "      <div>\n",
              "<style scoped>\n",
              "    .dataframe tbody tr th:only-of-type {\n",
              "        vertical-align: middle;\n",
              "    }\n",
              "\n",
              "    .dataframe tbody tr th {\n",
              "        vertical-align: top;\n",
              "    }\n",
              "\n",
              "    .dataframe thead th {\n",
              "        text-align: right;\n",
              "    }\n",
              "</style>\n",
              "<table border=\"1\" class=\"dataframe\">\n",
              "  <thead>\n",
              "    <tr style=\"text-align: right;\">\n",
              "      <th></th>\n",
              "      <th>Index</th>\n",
              "      <th>Measures</th>\n",
              "      <th>Text1</th>\n",
              "      <th>Text2</th>\n",
              "    </tr>\n",
              "  </thead>\n",
              "  <tbody>\n",
              "    <tr>\n",
              "      <th>0</th>\n",
              "      <td>1</td>\n",
              "      <td>TTR</td>\n",
              "      <td>0.610256</td>\n",
              "      <td>0.606742</td>\n",
              "    </tr>\n",
              "    <tr>\n",
              "      <th>1</th>\n",
              "      <td>2</td>\n",
              "      <td>RootTTR</td>\n",
              "      <td>8.521767</td>\n",
              "      <td>8.094942</td>\n",
              "    </tr>\n",
              "    <tr>\n",
              "      <th>2</th>\n",
              "      <td>3</td>\n",
              "      <td>LogTTR</td>\n",
              "      <td>0.906339</td>\n",
              "      <td>0.903575</td>\n",
              "    </tr>\n",
              "    <tr>\n",
              "      <th>3</th>\n",
              "      <td>4</td>\n",
              "      <td>MassTTR</td>\n",
              "      <td>0.040900</td>\n",
              "      <td>0.042847</td>\n",
              "    </tr>\n",
              "    <tr>\n",
              "      <th>4</th>\n",
              "      <td>5</td>\n",
              "      <td>MSTTR</td>\n",
              "      <td>0.786667</td>\n",
              "      <td>0.610256</td>\n",
              "    </tr>\n",
              "    <tr>\n",
              "      <th>5</th>\n",
              "      <td>6</td>\n",
              "      <td>MATTR</td>\n",
              "      <td>0.820000</td>\n",
              "      <td>0.907836</td>\n",
              "    </tr>\n",
              "    <tr>\n",
              "      <th>6</th>\n",
              "      <td>7</td>\n",
              "      <td>HDD</td>\n",
              "      <td>0.834983</td>\n",
              "      <td>0.821366</td>\n",
              "    </tr>\n",
              "    <tr>\n",
              "      <th>7</th>\n",
              "      <td>8</td>\n",
              "      <td>MTLD</td>\n",
              "      <td>90.947581</td>\n",
              "      <td>86.140103</td>\n",
              "    </tr>\n",
              "    <tr>\n",
              "      <th>8</th>\n",
              "      <td>9</td>\n",
              "      <td>BILOGTTR</td>\n",
              "      <td>89.882051</td>\n",
              "      <td>75.061798</td>\n",
              "    </tr>\n",
              "    <tr>\n",
              "      <th>9</th>\n",
              "      <td>10</td>\n",
              "      <td>MofLTD</td>\n",
              "      <td>89.000471</td>\n",
              "      <td>73.918989</td>\n",
              "    </tr>\n",
              "  </tbody>\n",
              "</table>\n",
              "</div>\n",
              "      <button class=\"colab-df-convert\" onclick=\"convertToInteractive('df-7dc021cf-5206-4310-a40d-e1f938dd783a')\"\n",
              "              title=\"Convert this dataframe to an interactive table.\"\n",
              "              style=\"display:none;\">\n",
              "        \n",
              "  <svg xmlns=\"http://www.w3.org/2000/svg\" height=\"24px\"viewBox=\"0 0 24 24\"\n",
              "       width=\"24px\">\n",
              "    <path d=\"M0 0h24v24H0V0z\" fill=\"none\"/>\n",
              "    <path d=\"M18.56 5.44l.94 2.06.94-2.06 2.06-.94-2.06-.94-.94-2.06-.94 2.06-2.06.94zm-11 1L8.5 8.5l.94-2.06 2.06-.94-2.06-.94L8.5 2.5l-.94 2.06-2.06.94zm10 10l.94 2.06.94-2.06 2.06-.94-2.06-.94-.94-2.06-.94 2.06-2.06.94z\"/><path d=\"M17.41 7.96l-1.37-1.37c-.4-.4-.92-.59-1.43-.59-.52 0-1.04.2-1.43.59L10.3 9.45l-7.72 7.72c-.78.78-.78 2.05 0 2.83L4 21.41c.39.39.9.59 1.41.59.51 0 1.02-.2 1.41-.59l7.78-7.78 2.81-2.81c.8-.78.8-2.07 0-2.86zM5.41 20L4 18.59l7.72-7.72 1.47 1.35L5.41 20z\"/>\n",
              "  </svg>\n",
              "      </button>\n",
              "      \n",
              "  <style>\n",
              "    .colab-df-container {\n",
              "      display:flex;\n",
              "      flex-wrap:wrap;\n",
              "      gap: 12px;\n",
              "    }\n",
              "\n",
              "    .colab-df-convert {\n",
              "      background-color: #E8F0FE;\n",
              "      border: none;\n",
              "      border-radius: 50%;\n",
              "      cursor: pointer;\n",
              "      display: none;\n",
              "      fill: #1967D2;\n",
              "      height: 32px;\n",
              "      padding: 0 0 0 0;\n",
              "      width: 32px;\n",
              "    }\n",
              "\n",
              "    .colab-df-convert:hover {\n",
              "      background-color: #E2EBFA;\n",
              "      box-shadow: 0px 1px 2px rgba(60, 64, 67, 0.3), 0px 1px 3px 1px rgba(60, 64, 67, 0.15);\n",
              "      fill: #174EA6;\n",
              "    }\n",
              "\n",
              "    [theme=dark] .colab-df-convert {\n",
              "      background-color: #3B4455;\n",
              "      fill: #D2E3FC;\n",
              "    }\n",
              "\n",
              "    [theme=dark] .colab-df-convert:hover {\n",
              "      background-color: #434B5C;\n",
              "      box-shadow: 0px 1px 3px 1px rgba(0, 0, 0, 0.15);\n",
              "      filter: drop-shadow(0px 1px 2px rgba(0, 0, 0, 0.3));\n",
              "      fill: #FFFFFF;\n",
              "    }\n",
              "  </style>\n",
              "\n",
              "      <script>\n",
              "        const buttonEl =\n",
              "          document.querySelector('#df-7dc021cf-5206-4310-a40d-e1f938dd783a button.colab-df-convert');\n",
              "        buttonEl.style.display =\n",
              "          google.colab.kernel.accessAllowed ? 'block' : 'none';\n",
              "\n",
              "        async function convertToInteractive(key) {\n",
              "          const element = document.querySelector('#df-7dc021cf-5206-4310-a40d-e1f938dd783a');\n",
              "          const dataTable =\n",
              "            await google.colab.kernel.invokeFunction('convertToInteractive',\n",
              "                                                     [key], {});\n",
              "          if (!dataTable) return;\n",
              "\n",
              "          const docLinkHtml = 'Like what you see? Visit the ' +\n",
              "            '<a target=\"_blank\" href=https://colab.research.google.com/notebooks/data_table.ipynb>data table notebook</a>'\n",
              "            + ' to learn more about interactive tables.';\n",
              "          element.innerHTML = '';\n",
              "          dataTable['output_type'] = 'display_data';\n",
              "          await google.colab.output.renderOutput(dataTable, element);\n",
              "          const docLink = document.createElement('div');\n",
              "          docLink.innerHTML = docLinkHtml;\n",
              "          element.appendChild(docLink);\n",
              "        }\n",
              "      </script>\n",
              "    </div>\n",
              "  </div>\n",
              "  "
            ]
          },
          "metadata": {},
          "execution_count": 57
        }
      ]
    }
  ]
}